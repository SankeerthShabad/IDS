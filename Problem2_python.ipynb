{
  "nbformat": 4,
  "nbformat_minor": 0,
  "metadata": {
    "colab": {
      "name": "Problem2_python.ipynb",
      "provenance": [],
      "collapsed_sections": [],
      "authorship_tag": "ABX9TyPPOJhQK6YIJMx6w0H77mSm",
      "include_colab_link": true
    },
    "kernelspec": {
      "name": "python3",
      "display_name": "Python 3"
    },
    "language_info": {
      "name": "python"
    }
  },
  "cells": [
    {
      "cell_type": "markdown",
      "metadata": {
        "id": "view-in-github",
        "colab_type": "text"
      },
      "source": [
        "<a href=\"https://colab.research.google.com/github/SankeerthShabad/IDS/blob/main/Problem2_python.ipynb\" target=\"_parent\"><img src=\"https://colab.research.google.com/assets/colab-badge.svg\" alt=\"Open In Colab\"/></a>"
      ]
    },
    {
      "cell_type": "code",
      "source": [
        "#Importing csv file as Nutrition_subsetDF\n",
        "\n",
        "import numpy as np\n",
        "import pandas as pd\n",
        "import matplotlib.pyplot as plt\n",
        "Nutrition_subsetDF= pd.read_csv(\"https://raw.githubusercontent.com/SankeerthShabad/IDS/main/HW4/nutrition_subset.csv\");\n",
        "Nutrition_subsetDF"
      ],
      "metadata": {
        "colab": {
          "base_uri": "https://localhost:8080/",
          "height": 423
        },
        "id": "-N-h1SnWUI5r",
        "outputId": "95173379-6431-4821-8adc-9db588c62614"
      },
      "execution_count": 80,
      "outputs": [
        {
          "output_type": "execute_result",
          "data": {
            "text/plain": [
              "                                  food_item  weight_in_grams  saturated_fat  \\\n",
              "0    GELATIN; DRY                  1 ENVELP             7.00            0.0   \n",
              "1    SEAWEED; SPIRULINA; DRIED     1 OZ                28.35            0.8   \n",
              "2    YEAST; BAKERS; DRY; ACTIVE    1 PKG                7.00            0.0   \n",
              "3    PARMESAN CHEESE; GRATED       1 OZ                28.35            5.4   \n",
              "4    PARMESAN CHEESE; GRATED       1 CUP              100.00           19.1   \n",
              "..                                      ...              ...            ...   \n",
              "956  COFFEE; BREWED                6 FL OZ            180.00            0.0   \n",
              "957  TEA; BREWED                   8 FL OZ            240.00            0.0   \n",
              "958  TEA; INSTANT;PREPRD;UNSWEETEND8 FL OZ            241.00            0.0   \n",
              "959  LETTUCE; BUTTERHEAD; RAW;LEAVE1 LEAF              15.00            0.0   \n",
              "960  SALT                          1 TSP                5.50            0.0   \n",
              "\n",
              "     cholesterol  \n",
              "0              0  \n",
              "1              0  \n",
              "2              0  \n",
              "3             22  \n",
              "4             79  \n",
              "..           ...  \n",
              "956            0  \n",
              "957            0  \n",
              "958            0  \n",
              "959            0  \n",
              "960            0  \n",
              "\n",
              "[961 rows x 4 columns]"
            ],
            "text/html": [
              "\n",
              "  <div id=\"df-833e4e49-e0e0-41e7-82d7-e71d65f40dc6\">\n",
              "    <div class=\"colab-df-container\">\n",
              "      <div>\n",
              "<style scoped>\n",
              "    .dataframe tbody tr th:only-of-type {\n",
              "        vertical-align: middle;\n",
              "    }\n",
              "\n",
              "    .dataframe tbody tr th {\n",
              "        vertical-align: top;\n",
              "    }\n",
              "\n",
              "    .dataframe thead th {\n",
              "        text-align: right;\n",
              "    }\n",
              "</style>\n",
              "<table border=\"1\" class=\"dataframe\">\n",
              "  <thead>\n",
              "    <tr style=\"text-align: right;\">\n",
              "      <th></th>\n",
              "      <th>food_item</th>\n",
              "      <th>weight_in_grams</th>\n",
              "      <th>saturated_fat</th>\n",
              "      <th>cholesterol</th>\n",
              "    </tr>\n",
              "  </thead>\n",
              "  <tbody>\n",
              "    <tr>\n",
              "      <th>0</th>\n",
              "      <td>GELATIN; DRY                  1 ENVELP</td>\n",
              "      <td>7.00</td>\n",
              "      <td>0.0</td>\n",
              "      <td>0</td>\n",
              "    </tr>\n",
              "    <tr>\n",
              "      <th>1</th>\n",
              "      <td>SEAWEED; SPIRULINA; DRIED     1 OZ</td>\n",
              "      <td>28.35</td>\n",
              "      <td>0.8</td>\n",
              "      <td>0</td>\n",
              "    </tr>\n",
              "    <tr>\n",
              "      <th>2</th>\n",
              "      <td>YEAST; BAKERS; DRY; ACTIVE    1 PKG</td>\n",
              "      <td>7.00</td>\n",
              "      <td>0.0</td>\n",
              "      <td>0</td>\n",
              "    </tr>\n",
              "    <tr>\n",
              "      <th>3</th>\n",
              "      <td>PARMESAN CHEESE; GRATED       1 OZ</td>\n",
              "      <td>28.35</td>\n",
              "      <td>5.4</td>\n",
              "      <td>22</td>\n",
              "    </tr>\n",
              "    <tr>\n",
              "      <th>4</th>\n",
              "      <td>PARMESAN CHEESE; GRATED       1 CUP</td>\n",
              "      <td>100.00</td>\n",
              "      <td>19.1</td>\n",
              "      <td>79</td>\n",
              "    </tr>\n",
              "    <tr>\n",
              "      <th>...</th>\n",
              "      <td>...</td>\n",
              "      <td>...</td>\n",
              "      <td>...</td>\n",
              "      <td>...</td>\n",
              "    </tr>\n",
              "    <tr>\n",
              "      <th>956</th>\n",
              "      <td>COFFEE; BREWED                6 FL OZ</td>\n",
              "      <td>180.00</td>\n",
              "      <td>0.0</td>\n",
              "      <td>0</td>\n",
              "    </tr>\n",
              "    <tr>\n",
              "      <th>957</th>\n",
              "      <td>TEA; BREWED                   8 FL OZ</td>\n",
              "      <td>240.00</td>\n",
              "      <td>0.0</td>\n",
              "      <td>0</td>\n",
              "    </tr>\n",
              "    <tr>\n",
              "      <th>958</th>\n",
              "      <td>TEA; INSTANT;PREPRD;UNSWEETEND8 FL OZ</td>\n",
              "      <td>241.00</td>\n",
              "      <td>0.0</td>\n",
              "      <td>0</td>\n",
              "    </tr>\n",
              "    <tr>\n",
              "      <th>959</th>\n",
              "      <td>LETTUCE; BUTTERHEAD; RAW;LEAVE1 LEAF</td>\n",
              "      <td>15.00</td>\n",
              "      <td>0.0</td>\n",
              "      <td>0</td>\n",
              "    </tr>\n",
              "    <tr>\n",
              "      <th>960</th>\n",
              "      <td>SALT                          1 TSP</td>\n",
              "      <td>5.50</td>\n",
              "      <td>0.0</td>\n",
              "      <td>0</td>\n",
              "    </tr>\n",
              "  </tbody>\n",
              "</table>\n",
              "<p>961 rows × 4 columns</p>\n",
              "</div>\n",
              "      <button class=\"colab-df-convert\" onclick=\"convertToInteractive('df-833e4e49-e0e0-41e7-82d7-e71d65f40dc6')\"\n",
              "              title=\"Convert this dataframe to an interactive table.\"\n",
              "              style=\"display:none;\">\n",
              "        \n",
              "  <svg xmlns=\"http://www.w3.org/2000/svg\" height=\"24px\"viewBox=\"0 0 24 24\"\n",
              "       width=\"24px\">\n",
              "    <path d=\"M0 0h24v24H0V0z\" fill=\"none\"/>\n",
              "    <path d=\"M18.56 5.44l.94 2.06.94-2.06 2.06-.94-2.06-.94-.94-2.06-.94 2.06-2.06.94zm-11 1L8.5 8.5l.94-2.06 2.06-.94-2.06-.94L8.5 2.5l-.94 2.06-2.06.94zm10 10l.94 2.06.94-2.06 2.06-.94-2.06-.94-.94-2.06-.94 2.06-2.06.94z\"/><path d=\"M17.41 7.96l-1.37-1.37c-.4-.4-.92-.59-1.43-.59-.52 0-1.04.2-1.43.59L10.3 9.45l-7.72 7.72c-.78.78-.78 2.05 0 2.83L4 21.41c.39.39.9.59 1.41.59.51 0 1.02-.2 1.41-.59l7.78-7.78 2.81-2.81c.8-.78.8-2.07 0-2.86zM5.41 20L4 18.59l7.72-7.72 1.47 1.35L5.41 20z\"/>\n",
              "  </svg>\n",
              "      </button>\n",
              "      \n",
              "  <style>\n",
              "    .colab-df-container {\n",
              "      display:flex;\n",
              "      flex-wrap:wrap;\n",
              "      gap: 12px;\n",
              "    }\n",
              "\n",
              "    .colab-df-convert {\n",
              "      background-color: #E8F0FE;\n",
              "      border: none;\n",
              "      border-radius: 50%;\n",
              "      cursor: pointer;\n",
              "      display: none;\n",
              "      fill: #1967D2;\n",
              "      height: 32px;\n",
              "      padding: 0 0 0 0;\n",
              "      width: 32px;\n",
              "    }\n",
              "\n",
              "    .colab-df-convert:hover {\n",
              "      background-color: #E2EBFA;\n",
              "      box-shadow: 0px 1px 2px rgba(60, 64, 67, 0.3), 0px 1px 3px 1px rgba(60, 64, 67, 0.15);\n",
              "      fill: #174EA6;\n",
              "    }\n",
              "\n",
              "    [theme=dark] .colab-df-convert {\n",
              "      background-color: #3B4455;\n",
              "      fill: #D2E3FC;\n",
              "    }\n",
              "\n",
              "    [theme=dark] .colab-df-convert:hover {\n",
              "      background-color: #434B5C;\n",
              "      box-shadow: 0px 1px 3px 1px rgba(0, 0, 0, 0.15);\n",
              "      filter: drop-shadow(0px 1px 2px rgba(0, 0, 0, 0.3));\n",
              "      fill: #FFFFFF;\n",
              "    }\n",
              "  </style>\n",
              "\n",
              "      <script>\n",
              "        const buttonEl =\n",
              "          document.querySelector('#df-833e4e49-e0e0-41e7-82d7-e71d65f40dc6 button.colab-df-convert');\n",
              "        buttonEl.style.display =\n",
              "          google.colab.kernel.accessAllowed ? 'block' : 'none';\n",
              "\n",
              "        async function convertToInteractive(key) {\n",
              "          const element = document.querySelector('#df-833e4e49-e0e0-41e7-82d7-e71d65f40dc6');\n",
              "          const dataTable =\n",
              "            await google.colab.kernel.invokeFunction('convertToInteractive',\n",
              "                                                     [key], {});\n",
              "          if (!dataTable) return;\n",
              "\n",
              "          const docLinkHtml = 'Like what you see? Visit the ' +\n",
              "            '<a target=\"_blank\" href=https://colab.research.google.com/notebooks/data_table.ipynb>data table notebook</a>'\n",
              "            + ' to learn more about interactive tables.';\n",
              "          element.innerHTML = '';\n",
              "          dataTable['output_type'] = 'display_data';\n",
              "          await google.colab.output.renderOutput(dataTable, element);\n",
              "          const docLink = document.createElement('div');\n",
              "          docLink.innerHTML = docLinkHtml;\n",
              "          element.appendChild(docLink);\n",
              "        }\n",
              "      </script>\n",
              "    </div>\n",
              "  </div>\n",
              "  "
            ]
          },
          "metadata": {},
          "execution_count": 80
        }
      ]
    },
    {
      "cell_type": "markdown",
      "source": [
        "### The csv file was imported as a dataframe named Adult trainingDF, and there are 961 rows and 4 columns in the dataframe.\n",
        "\n"
      ],
      "metadata": {
        "id": "KC2rPhIP6U4G"
      }
    },
    {
      "cell_type": "markdown",
      "source": [
        "###The following syntax is used to check for any null values in the Adult trainingDF."
      ],
      "metadata": {
        "id": "1kEIYIID6bet"
      }
    },
    {
      "cell_type": "code",
      "source": [
        "#checking for null values\n",
        "\n",
        "Nutrition_subsetDF.isnull().sum()"
      ],
      "metadata": {
        "colab": {
          "base_uri": "https://localhost:8080/"
        },
        "id": "l4g-PcrWLiZs",
        "outputId": "d8644ef0-87de-4d60-8957-537ecaa7a137"
      },
      "execution_count": 81,
      "outputs": [
        {
          "output_type": "execute_result",
          "data": {
            "text/plain": [
              "food_item          0\n",
              "weight_in_grams    0\n",
              "saturated_fat      0\n",
              "cholesterol        0\n",
              "dtype: int64"
            ]
          },
          "metadata": {},
          "execution_count": 81
        }
      ]
    },
    {
      "cell_type": "markdown",
      "source": [
        "### We can also observe that there are no null values in Nutrition_subsetDF dataframe."
      ],
      "metadata": {
        "id": "yKKuPDSaGqAL"
      }
    },
    {
      "cell_type": "markdown",
      "source": [
        "# Using Sorting Method"
      ],
      "metadata": {
        "id": "n2Wk1RwV6ofO"
      }
    },
    {
      "cell_type": "code",
      "source": [
        "#sorting Nutrition_subsetDF as per descending order of saturated_fat\n",
        "\n",
        "Nutrition_subsetDF.sort_values(by=['saturated_fat'],ascending=False,inplace=True)\n",
        "#reseting indexing and creating new indexing\n",
        "Nutrition_subsetDF.reset_index(drop=True,inplace=True)\n",
        "Nutrition_subsetDF"
      ],
      "metadata": {
        "colab": {
          "base_uri": "https://localhost:8080/",
          "height": 423
        },
        "id": "SHRVH4ULbjN3",
        "outputId": "73158a2f-720d-4906-e2c2-2755665a5679"
      },
      "execution_count": 82,
      "outputs": [
        {
          "output_type": "execute_result",
          "data": {
            "text/plain": [
              "                                  food_item  weight_in_grams  saturated_fat  \\\n",
              "0    CHEESECAKE                    1 CAKE             1110.0          119.9   \n",
              "1    ICE CREAM; VANLLA; RICH 16% FT1/2 GAL            1188.0          118.3   \n",
              "2    YELLOWCAKE W/ CHOCFRSTNG;COMML1 CAKE             1108.0           92.0   \n",
              "3    CREME PIE                     1 PIE               910.0           90.1   \n",
              "4    LARD                          1 CUP               205.0           80.4   \n",
              "..                                      ...              ...            ...   \n",
              "956  TOMATOES; RAW                 1 TOMATO            123.0            0.0   \n",
              "957  RASPBERRIES; RAW              1 CUP               123.0            0.0   \n",
              "958  TOMATO JUICE; CANNED W/O SALT 1 CUP               244.0            0.0   \n",
              "959  TOMATO JUICE; CANNED WITH SALT1 CUP               244.0            0.0   \n",
              "960  SALT                          1 TSP                 5.5            0.0   \n",
              "\n",
              "     cholesterol  \n",
              "0           2053  \n",
              "1            703  \n",
              "2            609  \n",
              "3             46  \n",
              "4            195  \n",
              "..           ...  \n",
              "956            0  \n",
              "957            0  \n",
              "958            0  \n",
              "959            0  \n",
              "960            0  \n",
              "\n",
              "[961 rows x 4 columns]"
            ],
            "text/html": [
              "\n",
              "  <div id=\"df-f0bde6b9-9fa5-4513-927a-97b8877bbe09\">\n",
              "    <div class=\"colab-df-container\">\n",
              "      <div>\n",
              "<style scoped>\n",
              "    .dataframe tbody tr th:only-of-type {\n",
              "        vertical-align: middle;\n",
              "    }\n",
              "\n",
              "    .dataframe tbody tr th {\n",
              "        vertical-align: top;\n",
              "    }\n",
              "\n",
              "    .dataframe thead th {\n",
              "        text-align: right;\n",
              "    }\n",
              "</style>\n",
              "<table border=\"1\" class=\"dataframe\">\n",
              "  <thead>\n",
              "    <tr style=\"text-align: right;\">\n",
              "      <th></th>\n",
              "      <th>food_item</th>\n",
              "      <th>weight_in_grams</th>\n",
              "      <th>saturated_fat</th>\n",
              "      <th>cholesterol</th>\n",
              "    </tr>\n",
              "  </thead>\n",
              "  <tbody>\n",
              "    <tr>\n",
              "      <th>0</th>\n",
              "      <td>CHEESECAKE                    1 CAKE</td>\n",
              "      <td>1110.0</td>\n",
              "      <td>119.9</td>\n",
              "      <td>2053</td>\n",
              "    </tr>\n",
              "    <tr>\n",
              "      <th>1</th>\n",
              "      <td>ICE CREAM; VANLLA; RICH 16% FT1/2 GAL</td>\n",
              "      <td>1188.0</td>\n",
              "      <td>118.3</td>\n",
              "      <td>703</td>\n",
              "    </tr>\n",
              "    <tr>\n",
              "      <th>2</th>\n",
              "      <td>YELLOWCAKE W/ CHOCFRSTNG;COMML1 CAKE</td>\n",
              "      <td>1108.0</td>\n",
              "      <td>92.0</td>\n",
              "      <td>609</td>\n",
              "    </tr>\n",
              "    <tr>\n",
              "      <th>3</th>\n",
              "      <td>CREME PIE                     1 PIE</td>\n",
              "      <td>910.0</td>\n",
              "      <td>90.1</td>\n",
              "      <td>46</td>\n",
              "    </tr>\n",
              "    <tr>\n",
              "      <th>4</th>\n",
              "      <td>LARD                          1 CUP</td>\n",
              "      <td>205.0</td>\n",
              "      <td>80.4</td>\n",
              "      <td>195</td>\n",
              "    </tr>\n",
              "    <tr>\n",
              "      <th>...</th>\n",
              "      <td>...</td>\n",
              "      <td>...</td>\n",
              "      <td>...</td>\n",
              "      <td>...</td>\n",
              "    </tr>\n",
              "    <tr>\n",
              "      <th>956</th>\n",
              "      <td>TOMATOES; RAW                 1 TOMATO</td>\n",
              "      <td>123.0</td>\n",
              "      <td>0.0</td>\n",
              "      <td>0</td>\n",
              "    </tr>\n",
              "    <tr>\n",
              "      <th>957</th>\n",
              "      <td>RASPBERRIES; RAW              1 CUP</td>\n",
              "      <td>123.0</td>\n",
              "      <td>0.0</td>\n",
              "      <td>0</td>\n",
              "    </tr>\n",
              "    <tr>\n",
              "      <th>958</th>\n",
              "      <td>TOMATO JUICE; CANNED W/O SALT 1 CUP</td>\n",
              "      <td>244.0</td>\n",
              "      <td>0.0</td>\n",
              "      <td>0</td>\n",
              "    </tr>\n",
              "    <tr>\n",
              "      <th>959</th>\n",
              "      <td>TOMATO JUICE; CANNED WITH SALT1 CUP</td>\n",
              "      <td>244.0</td>\n",
              "      <td>0.0</td>\n",
              "      <td>0</td>\n",
              "    </tr>\n",
              "    <tr>\n",
              "      <th>960</th>\n",
              "      <td>SALT                          1 TSP</td>\n",
              "      <td>5.5</td>\n",
              "      <td>0.0</td>\n",
              "      <td>0</td>\n",
              "    </tr>\n",
              "  </tbody>\n",
              "</table>\n",
              "<p>961 rows × 4 columns</p>\n",
              "</div>\n",
              "      <button class=\"colab-df-convert\" onclick=\"convertToInteractive('df-f0bde6b9-9fa5-4513-927a-97b8877bbe09')\"\n",
              "              title=\"Convert this dataframe to an interactive table.\"\n",
              "              style=\"display:none;\">\n",
              "        \n",
              "  <svg xmlns=\"http://www.w3.org/2000/svg\" height=\"24px\"viewBox=\"0 0 24 24\"\n",
              "       width=\"24px\">\n",
              "    <path d=\"M0 0h24v24H0V0z\" fill=\"none\"/>\n",
              "    <path d=\"M18.56 5.44l.94 2.06.94-2.06 2.06-.94-2.06-.94-.94-2.06-.94 2.06-2.06.94zm-11 1L8.5 8.5l.94-2.06 2.06-.94-2.06-.94L8.5 2.5l-.94 2.06-2.06.94zm10 10l.94 2.06.94-2.06 2.06-.94-2.06-.94-.94-2.06-.94 2.06-2.06.94z\"/><path d=\"M17.41 7.96l-1.37-1.37c-.4-.4-.92-.59-1.43-.59-.52 0-1.04.2-1.43.59L10.3 9.45l-7.72 7.72c-.78.78-.78 2.05 0 2.83L4 21.41c.39.39.9.59 1.41.59.51 0 1.02-.2 1.41-.59l7.78-7.78 2.81-2.81c.8-.78.8-2.07 0-2.86zM5.41 20L4 18.59l7.72-7.72 1.47 1.35L5.41 20z\"/>\n",
              "  </svg>\n",
              "      </button>\n",
              "      \n",
              "  <style>\n",
              "    .colab-df-container {\n",
              "      display:flex;\n",
              "      flex-wrap:wrap;\n",
              "      gap: 12px;\n",
              "    }\n",
              "\n",
              "    .colab-df-convert {\n",
              "      background-color: #E8F0FE;\n",
              "      border: none;\n",
              "      border-radius: 50%;\n",
              "      cursor: pointer;\n",
              "      display: none;\n",
              "      fill: #1967D2;\n",
              "      height: 32px;\n",
              "      padding: 0 0 0 0;\n",
              "      width: 32px;\n",
              "    }\n",
              "\n",
              "    .colab-df-convert:hover {\n",
              "      background-color: #E2EBFA;\n",
              "      box-shadow: 0px 1px 2px rgba(60, 64, 67, 0.3), 0px 1px 3px 1px rgba(60, 64, 67, 0.15);\n",
              "      fill: #174EA6;\n",
              "    }\n",
              "\n",
              "    [theme=dark] .colab-df-convert {\n",
              "      background-color: #3B4455;\n",
              "      fill: #D2E3FC;\n",
              "    }\n",
              "\n",
              "    [theme=dark] .colab-df-convert:hover {\n",
              "      background-color: #434B5C;\n",
              "      box-shadow: 0px 1px 3px 1px rgba(0, 0, 0, 0.15);\n",
              "      filter: drop-shadow(0px 1px 2px rgba(0, 0, 0, 0.3));\n",
              "      fill: #FFFFFF;\n",
              "    }\n",
              "  </style>\n",
              "\n",
              "      <script>\n",
              "        const buttonEl =\n",
              "          document.querySelector('#df-f0bde6b9-9fa5-4513-927a-97b8877bbe09 button.colab-df-convert');\n",
              "        buttonEl.style.display =\n",
              "          google.colab.kernel.accessAllowed ? 'block' : 'none';\n",
              "\n",
              "        async function convertToInteractive(key) {\n",
              "          const element = document.querySelector('#df-f0bde6b9-9fa5-4513-927a-97b8877bbe09');\n",
              "          const dataTable =\n",
              "            await google.colab.kernel.invokeFunction('convertToInteractive',\n",
              "                                                     [key], {});\n",
              "          if (!dataTable) return;\n",
              "\n",
              "          const docLinkHtml = 'Like what you see? Visit the ' +\n",
              "            '<a target=\"_blank\" href=https://colab.research.google.com/notebooks/data_table.ipynb>data table notebook</a>'\n",
              "            + ' to learn more about interactive tables.';\n",
              "          element.innerHTML = '';\n",
              "          dataTable['output_type'] = 'display_data';\n",
              "          await google.colab.output.renderOutput(dataTable, element);\n",
              "          const docLink = document.createElement('div');\n",
              "          docLink.innerHTML = docLinkHtml;\n",
              "          element.appendChild(docLink);\n",
              "        }\n",
              "      </script>\n",
              "    </div>\n",
              "  </div>\n",
              "  "
            ]
          },
          "metadata": {},
          "execution_count": 82
        }
      ]
    },
    {
      "cell_type": "markdown",
      "source": [
        "### Sorting the Nutrition subsetDF dataframe in decreasing order by saturated fat. Cheesecake has the greatest saturated fat content."
      ],
      "metadata": {
        "id": "PbI433NgGyf_"
      }
    },
    {
      "cell_type": "markdown",
      "source": [
        "# List of 5 food items"
      ],
      "metadata": {
        "id": "0b-MmT3t7B3v"
      }
    },
    {
      "cell_type": "code",
      "source": [
        "#printing sorted 5 food items\n",
        "\n",
        "a=Nutrition_subsetDF['food_item']\n",
        "a.iloc[:5]\n"
      ],
      "metadata": {
        "colab": {
          "base_uri": "https://localhost:8080/"
        },
        "id": "eVTvScn7NX9x",
        "outputId": "3106ffa6-5529-4609-9a93-65cf827627eb"
      },
      "execution_count": 83,
      "outputs": [
        {
          "output_type": "execute_result",
          "data": {
            "text/plain": [
              "0    CHEESECAKE                    1 CAKE  \n",
              "1    ICE CREAM; VANLLA; RICH 16% FT1/2 GAL \n",
              "2    YELLOWCAKE W/ CHOCFRSTNG;COMML1 CAKE  \n",
              "3    CREME PIE                     1 PIE   \n",
              "4    LARD                          1 CUP   \n",
              "Name: food_item, dtype: object"
            ]
          },
          "metadata": {},
          "execution_count": 83
        }
      ]
    },
    {
      "cell_type": "markdown",
      "source": [
        "### The five foods with the most saturated fat"
      ],
      "metadata": {
        "id": "y_f4pHCfHIqr"
      }
    },
    {
      "cell_type": "markdown",
      "source": [
        "# Creating new column"
      ],
      "metadata": {
        "id": "7Wwe37vr7MfD"
      }
    },
    {
      "cell_type": "code",
      "source": [
        "#creating new column saturated_fat_per_gram\n",
        "Nutrition_subsetDF['saturated_fat_per_gram']=Nutrition_subsetDF['saturated_fat']/Nutrition_subsetDF['weight_in_grams']\n",
        "Nutrition_subsetDF"
      ],
      "metadata": {
        "colab": {
          "base_uri": "https://localhost:8080/",
          "height": 423
        },
        "id": "Z_OqV5sjQklo",
        "outputId": "e35887aa-418c-421c-e8dc-9c77506eabea"
      },
      "execution_count": 84,
      "outputs": [
        {
          "output_type": "execute_result",
          "data": {
            "text/plain": [
              "                                  food_item  weight_in_grams  saturated_fat  \\\n",
              "0    CHEESECAKE                    1 CAKE             1110.0          119.9   \n",
              "1    ICE CREAM; VANLLA; RICH 16% FT1/2 GAL            1188.0          118.3   \n",
              "2    YELLOWCAKE W/ CHOCFRSTNG;COMML1 CAKE             1108.0           92.0   \n",
              "3    CREME PIE                     1 PIE               910.0           90.1   \n",
              "4    LARD                          1 CUP               205.0           80.4   \n",
              "..                                      ...              ...            ...   \n",
              "956  TOMATOES; RAW                 1 TOMATO            123.0            0.0   \n",
              "957  RASPBERRIES; RAW              1 CUP               123.0            0.0   \n",
              "958  TOMATO JUICE; CANNED W/O SALT 1 CUP               244.0            0.0   \n",
              "959  TOMATO JUICE; CANNED WITH SALT1 CUP               244.0            0.0   \n",
              "960  SALT                          1 TSP                 5.5            0.0   \n",
              "\n",
              "     cholesterol  saturated_fat_per_gram  \n",
              "0           2053                0.108018  \n",
              "1            703                0.099579  \n",
              "2            609                0.083032  \n",
              "3             46                0.099011  \n",
              "4            195                0.392195  \n",
              "..           ...                     ...  \n",
              "956            0                0.000000  \n",
              "957            0                0.000000  \n",
              "958            0                0.000000  \n",
              "959            0                0.000000  \n",
              "960            0                0.000000  \n",
              "\n",
              "[961 rows x 5 columns]"
            ],
            "text/html": [
              "\n",
              "  <div id=\"df-e2e8d8bb-e1cc-4fd5-9aaa-e46cf46ada83\">\n",
              "    <div class=\"colab-df-container\">\n",
              "      <div>\n",
              "<style scoped>\n",
              "    .dataframe tbody tr th:only-of-type {\n",
              "        vertical-align: middle;\n",
              "    }\n",
              "\n",
              "    .dataframe tbody tr th {\n",
              "        vertical-align: top;\n",
              "    }\n",
              "\n",
              "    .dataframe thead th {\n",
              "        text-align: right;\n",
              "    }\n",
              "</style>\n",
              "<table border=\"1\" class=\"dataframe\">\n",
              "  <thead>\n",
              "    <tr style=\"text-align: right;\">\n",
              "      <th></th>\n",
              "      <th>food_item</th>\n",
              "      <th>weight_in_grams</th>\n",
              "      <th>saturated_fat</th>\n",
              "      <th>cholesterol</th>\n",
              "      <th>saturated_fat_per_gram</th>\n",
              "    </tr>\n",
              "  </thead>\n",
              "  <tbody>\n",
              "    <tr>\n",
              "      <th>0</th>\n",
              "      <td>CHEESECAKE                    1 CAKE</td>\n",
              "      <td>1110.0</td>\n",
              "      <td>119.9</td>\n",
              "      <td>2053</td>\n",
              "      <td>0.108018</td>\n",
              "    </tr>\n",
              "    <tr>\n",
              "      <th>1</th>\n",
              "      <td>ICE CREAM; VANLLA; RICH 16% FT1/2 GAL</td>\n",
              "      <td>1188.0</td>\n",
              "      <td>118.3</td>\n",
              "      <td>703</td>\n",
              "      <td>0.099579</td>\n",
              "    </tr>\n",
              "    <tr>\n",
              "      <th>2</th>\n",
              "      <td>YELLOWCAKE W/ CHOCFRSTNG;COMML1 CAKE</td>\n",
              "      <td>1108.0</td>\n",
              "      <td>92.0</td>\n",
              "      <td>609</td>\n",
              "      <td>0.083032</td>\n",
              "    </tr>\n",
              "    <tr>\n",
              "      <th>3</th>\n",
              "      <td>CREME PIE                     1 PIE</td>\n",
              "      <td>910.0</td>\n",
              "      <td>90.1</td>\n",
              "      <td>46</td>\n",
              "      <td>0.099011</td>\n",
              "    </tr>\n",
              "    <tr>\n",
              "      <th>4</th>\n",
              "      <td>LARD                          1 CUP</td>\n",
              "      <td>205.0</td>\n",
              "      <td>80.4</td>\n",
              "      <td>195</td>\n",
              "      <td>0.392195</td>\n",
              "    </tr>\n",
              "    <tr>\n",
              "      <th>...</th>\n",
              "      <td>...</td>\n",
              "      <td>...</td>\n",
              "      <td>...</td>\n",
              "      <td>...</td>\n",
              "      <td>...</td>\n",
              "    </tr>\n",
              "    <tr>\n",
              "      <th>956</th>\n",
              "      <td>TOMATOES; RAW                 1 TOMATO</td>\n",
              "      <td>123.0</td>\n",
              "      <td>0.0</td>\n",
              "      <td>0</td>\n",
              "      <td>0.000000</td>\n",
              "    </tr>\n",
              "    <tr>\n",
              "      <th>957</th>\n",
              "      <td>RASPBERRIES; RAW              1 CUP</td>\n",
              "      <td>123.0</td>\n",
              "      <td>0.0</td>\n",
              "      <td>0</td>\n",
              "      <td>0.000000</td>\n",
              "    </tr>\n",
              "    <tr>\n",
              "      <th>958</th>\n",
              "      <td>TOMATO JUICE; CANNED W/O SALT 1 CUP</td>\n",
              "      <td>244.0</td>\n",
              "      <td>0.0</td>\n",
              "      <td>0</td>\n",
              "      <td>0.000000</td>\n",
              "    </tr>\n",
              "    <tr>\n",
              "      <th>959</th>\n",
              "      <td>TOMATO JUICE; CANNED WITH SALT1 CUP</td>\n",
              "      <td>244.0</td>\n",
              "      <td>0.0</td>\n",
              "      <td>0</td>\n",
              "      <td>0.000000</td>\n",
              "    </tr>\n",
              "    <tr>\n",
              "      <th>960</th>\n",
              "      <td>SALT                          1 TSP</td>\n",
              "      <td>5.5</td>\n",
              "      <td>0.0</td>\n",
              "      <td>0</td>\n",
              "      <td>0.000000</td>\n",
              "    </tr>\n",
              "  </tbody>\n",
              "</table>\n",
              "<p>961 rows × 5 columns</p>\n",
              "</div>\n",
              "      <button class=\"colab-df-convert\" onclick=\"convertToInteractive('df-e2e8d8bb-e1cc-4fd5-9aaa-e46cf46ada83')\"\n",
              "              title=\"Convert this dataframe to an interactive table.\"\n",
              "              style=\"display:none;\">\n",
              "        \n",
              "  <svg xmlns=\"http://www.w3.org/2000/svg\" height=\"24px\"viewBox=\"0 0 24 24\"\n",
              "       width=\"24px\">\n",
              "    <path d=\"M0 0h24v24H0V0z\" fill=\"none\"/>\n",
              "    <path d=\"M18.56 5.44l.94 2.06.94-2.06 2.06-.94-2.06-.94-.94-2.06-.94 2.06-2.06.94zm-11 1L8.5 8.5l.94-2.06 2.06-.94-2.06-.94L8.5 2.5l-.94 2.06-2.06.94zm10 10l.94 2.06.94-2.06 2.06-.94-2.06-.94-.94-2.06-.94 2.06-2.06.94z\"/><path d=\"M17.41 7.96l-1.37-1.37c-.4-.4-.92-.59-1.43-.59-.52 0-1.04.2-1.43.59L10.3 9.45l-7.72 7.72c-.78.78-.78 2.05 0 2.83L4 21.41c.39.39.9.59 1.41.59.51 0 1.02-.2 1.41-.59l7.78-7.78 2.81-2.81c.8-.78.8-2.07 0-2.86zM5.41 20L4 18.59l7.72-7.72 1.47 1.35L5.41 20z\"/>\n",
              "  </svg>\n",
              "      </button>\n",
              "      \n",
              "  <style>\n",
              "    .colab-df-container {\n",
              "      display:flex;\n",
              "      flex-wrap:wrap;\n",
              "      gap: 12px;\n",
              "    }\n",
              "\n",
              "    .colab-df-convert {\n",
              "      background-color: #E8F0FE;\n",
              "      border: none;\n",
              "      border-radius: 50%;\n",
              "      cursor: pointer;\n",
              "      display: none;\n",
              "      fill: #1967D2;\n",
              "      height: 32px;\n",
              "      padding: 0 0 0 0;\n",
              "      width: 32px;\n",
              "    }\n",
              "\n",
              "    .colab-df-convert:hover {\n",
              "      background-color: #E2EBFA;\n",
              "      box-shadow: 0px 1px 2px rgba(60, 64, 67, 0.3), 0px 1px 3px 1px rgba(60, 64, 67, 0.15);\n",
              "      fill: #174EA6;\n",
              "    }\n",
              "\n",
              "    [theme=dark] .colab-df-convert {\n",
              "      background-color: #3B4455;\n",
              "      fill: #D2E3FC;\n",
              "    }\n",
              "\n",
              "    [theme=dark] .colab-df-convert:hover {\n",
              "      background-color: #434B5C;\n",
              "      box-shadow: 0px 1px 3px 1px rgba(0, 0, 0, 0.15);\n",
              "      filter: drop-shadow(0px 1px 2px rgba(0, 0, 0, 0.3));\n",
              "      fill: #FFFFFF;\n",
              "    }\n",
              "  </style>\n",
              "\n",
              "      <script>\n",
              "        const buttonEl =\n",
              "          document.querySelector('#df-e2e8d8bb-e1cc-4fd5-9aaa-e46cf46ada83 button.colab-df-convert');\n",
              "        buttonEl.style.display =\n",
              "          google.colab.kernel.accessAllowed ? 'block' : 'none';\n",
              "\n",
              "        async function convertToInteractive(key) {\n",
              "          const element = document.querySelector('#df-e2e8d8bb-e1cc-4fd5-9aaa-e46cf46ada83');\n",
              "          const dataTable =\n",
              "            await google.colab.kernel.invokeFunction('convertToInteractive',\n",
              "                                                     [key], {});\n",
              "          if (!dataTable) return;\n",
              "\n",
              "          const docLinkHtml = 'Like what you see? Visit the ' +\n",
              "            '<a target=\"_blank\" href=https://colab.research.google.com/notebooks/data_table.ipynb>data table notebook</a>'\n",
              "            + ' to learn more about interactive tables.';\n",
              "          element.innerHTML = '';\n",
              "          dataTable['output_type'] = 'display_data';\n",
              "          await google.colab.output.renderOutput(dataTable, element);\n",
              "          const docLink = document.createElement('div');\n",
              "          docLink.innerHTML = docLinkHtml;\n",
              "          element.appendChild(docLink);\n",
              "        }\n",
              "      </script>\n",
              "    </div>\n",
              "  </div>\n",
              "  "
            ]
          },
          "metadata": {},
          "execution_count": 84
        }
      ]
    },
    {
      "cell_type": "markdown",
      "source": [
        "### By dividing weight in grams by saturated fat per gram, a new column entitled saturated fat per gram is created."
      ],
      "metadata": {
        "id": "x3njNTcrHa-C"
      }
    },
    {
      "cell_type": "markdown",
      "source": [
        "# Sorting method"
      ],
      "metadata": {
        "id": "Y6-HhMYv7hC8"
      }
    },
    {
      "cell_type": "code",
      "source": [
        "#sorting Nutrition_subsetDF as per descending order of saturated_fat_per_gram\n",
        "\n",
        "Nutrition_subsetDF.sort_values(by=['saturated_fat_per_gram'],ascending=False,inplace=True)\n",
        "Nutrition_subsetDF.reset_index(drop=True,inplace=True)\n",
        "Nutrition_subsetDF"
      ],
      "metadata": {
        "colab": {
          "base_uri": "https://localhost:8080/",
          "height": 423
        },
        "id": "GBxu92wERdp8",
        "outputId": "f041b94c-6530-4dff-8484-3673385208b4"
      },
      "execution_count": 85,
      "outputs": [
        {
          "output_type": "execute_result",
          "data": {
            "text/plain": [
              "                                  food_item  weight_in_grams  saturated_fat  \\\n",
              "0    BUTTER; SALTED                1 TBSP               14.0            7.1   \n",
              "1    BUTTER; UNSALTED              1 TBSP               14.0            7.1   \n",
              "2    BUTTER; SALTED                1/2 CUP             113.0           57.1   \n",
              "3    BUTTER; UNSALTED              1/2 CUP             113.0           57.1   \n",
              "4    BUTTER; SALTED                1 PAT                 5.0            2.5   \n",
              "..                                      ...              ...            ...   \n",
              "956  LIMEADE;CONCENTRATE;FRZN;UNDIL6 FL OZ             218.0            0.0   \n",
              "957  ORANGE SODA                   12 FL OZ            372.0            0.0   \n",
              "958  COLA; DIET; ASPRTAME + SACCHRN12 FL OZ            355.0            0.0   \n",
              "959  COLA; DIET; SACCHARIN ONLY    12 FL OZ            355.0            0.0   \n",
              "960  SALT                          1 TSP                 5.5            0.0   \n",
              "\n",
              "     cholesterol  saturated_fat_per_gram  \n",
              "0             31                0.507143  \n",
              "1             31                0.507143  \n",
              "2            247                0.505310  \n",
              "3            247                0.505310  \n",
              "4             11                0.500000  \n",
              "..           ...                     ...  \n",
              "956            0                0.000000  \n",
              "957            0                0.000000  \n",
              "958            0                0.000000  \n",
              "959            0                0.000000  \n",
              "960            0                0.000000  \n",
              "\n",
              "[961 rows x 5 columns]"
            ],
            "text/html": [
              "\n",
              "  <div id=\"df-232d3aba-baca-4e46-827d-524528f2e1b5\">\n",
              "    <div class=\"colab-df-container\">\n",
              "      <div>\n",
              "<style scoped>\n",
              "    .dataframe tbody tr th:only-of-type {\n",
              "        vertical-align: middle;\n",
              "    }\n",
              "\n",
              "    .dataframe tbody tr th {\n",
              "        vertical-align: top;\n",
              "    }\n",
              "\n",
              "    .dataframe thead th {\n",
              "        text-align: right;\n",
              "    }\n",
              "</style>\n",
              "<table border=\"1\" class=\"dataframe\">\n",
              "  <thead>\n",
              "    <tr style=\"text-align: right;\">\n",
              "      <th></th>\n",
              "      <th>food_item</th>\n",
              "      <th>weight_in_grams</th>\n",
              "      <th>saturated_fat</th>\n",
              "      <th>cholesterol</th>\n",
              "      <th>saturated_fat_per_gram</th>\n",
              "    </tr>\n",
              "  </thead>\n",
              "  <tbody>\n",
              "    <tr>\n",
              "      <th>0</th>\n",
              "      <td>BUTTER; SALTED                1 TBSP</td>\n",
              "      <td>14.0</td>\n",
              "      <td>7.1</td>\n",
              "      <td>31</td>\n",
              "      <td>0.507143</td>\n",
              "    </tr>\n",
              "    <tr>\n",
              "      <th>1</th>\n",
              "      <td>BUTTER; UNSALTED              1 TBSP</td>\n",
              "      <td>14.0</td>\n",
              "      <td>7.1</td>\n",
              "      <td>31</td>\n",
              "      <td>0.507143</td>\n",
              "    </tr>\n",
              "    <tr>\n",
              "      <th>2</th>\n",
              "      <td>BUTTER; SALTED                1/2 CUP</td>\n",
              "      <td>113.0</td>\n",
              "      <td>57.1</td>\n",
              "      <td>247</td>\n",
              "      <td>0.505310</td>\n",
              "    </tr>\n",
              "    <tr>\n",
              "      <th>3</th>\n",
              "      <td>BUTTER; UNSALTED              1/2 CUP</td>\n",
              "      <td>113.0</td>\n",
              "      <td>57.1</td>\n",
              "      <td>247</td>\n",
              "      <td>0.505310</td>\n",
              "    </tr>\n",
              "    <tr>\n",
              "      <th>4</th>\n",
              "      <td>BUTTER; SALTED                1 PAT</td>\n",
              "      <td>5.0</td>\n",
              "      <td>2.5</td>\n",
              "      <td>11</td>\n",
              "      <td>0.500000</td>\n",
              "    </tr>\n",
              "    <tr>\n",
              "      <th>...</th>\n",
              "      <td>...</td>\n",
              "      <td>...</td>\n",
              "      <td>...</td>\n",
              "      <td>...</td>\n",
              "      <td>...</td>\n",
              "    </tr>\n",
              "    <tr>\n",
              "      <th>956</th>\n",
              "      <td>LIMEADE;CONCENTRATE;FRZN;UNDIL6 FL OZ</td>\n",
              "      <td>218.0</td>\n",
              "      <td>0.0</td>\n",
              "      <td>0</td>\n",
              "      <td>0.000000</td>\n",
              "    </tr>\n",
              "    <tr>\n",
              "      <th>957</th>\n",
              "      <td>ORANGE SODA                   12 FL OZ</td>\n",
              "      <td>372.0</td>\n",
              "      <td>0.0</td>\n",
              "      <td>0</td>\n",
              "      <td>0.000000</td>\n",
              "    </tr>\n",
              "    <tr>\n",
              "      <th>958</th>\n",
              "      <td>COLA; DIET; ASPRTAME + SACCHRN12 FL OZ</td>\n",
              "      <td>355.0</td>\n",
              "      <td>0.0</td>\n",
              "      <td>0</td>\n",
              "      <td>0.000000</td>\n",
              "    </tr>\n",
              "    <tr>\n",
              "      <th>959</th>\n",
              "      <td>COLA; DIET; SACCHARIN ONLY    12 FL OZ</td>\n",
              "      <td>355.0</td>\n",
              "      <td>0.0</td>\n",
              "      <td>0</td>\n",
              "      <td>0.000000</td>\n",
              "    </tr>\n",
              "    <tr>\n",
              "      <th>960</th>\n",
              "      <td>SALT                          1 TSP</td>\n",
              "      <td>5.5</td>\n",
              "      <td>0.0</td>\n",
              "      <td>0</td>\n",
              "      <td>0.000000</td>\n",
              "    </tr>\n",
              "  </tbody>\n",
              "</table>\n",
              "<p>961 rows × 5 columns</p>\n",
              "</div>\n",
              "      <button class=\"colab-df-convert\" onclick=\"convertToInteractive('df-232d3aba-baca-4e46-827d-524528f2e1b5')\"\n",
              "              title=\"Convert this dataframe to an interactive table.\"\n",
              "              style=\"display:none;\">\n",
              "        \n",
              "  <svg xmlns=\"http://www.w3.org/2000/svg\" height=\"24px\"viewBox=\"0 0 24 24\"\n",
              "       width=\"24px\">\n",
              "    <path d=\"M0 0h24v24H0V0z\" fill=\"none\"/>\n",
              "    <path d=\"M18.56 5.44l.94 2.06.94-2.06 2.06-.94-2.06-.94-.94-2.06-.94 2.06-2.06.94zm-11 1L8.5 8.5l.94-2.06 2.06-.94-2.06-.94L8.5 2.5l-.94 2.06-2.06.94zm10 10l.94 2.06.94-2.06 2.06-.94-2.06-.94-.94-2.06-.94 2.06-2.06.94z\"/><path d=\"M17.41 7.96l-1.37-1.37c-.4-.4-.92-.59-1.43-.59-.52 0-1.04.2-1.43.59L10.3 9.45l-7.72 7.72c-.78.78-.78 2.05 0 2.83L4 21.41c.39.39.9.59 1.41.59.51 0 1.02-.2 1.41-.59l7.78-7.78 2.81-2.81c.8-.78.8-2.07 0-2.86zM5.41 20L4 18.59l7.72-7.72 1.47 1.35L5.41 20z\"/>\n",
              "  </svg>\n",
              "      </button>\n",
              "      \n",
              "  <style>\n",
              "    .colab-df-container {\n",
              "      display:flex;\n",
              "      flex-wrap:wrap;\n",
              "      gap: 12px;\n",
              "    }\n",
              "\n",
              "    .colab-df-convert {\n",
              "      background-color: #E8F0FE;\n",
              "      border: none;\n",
              "      border-radius: 50%;\n",
              "      cursor: pointer;\n",
              "      display: none;\n",
              "      fill: #1967D2;\n",
              "      height: 32px;\n",
              "      padding: 0 0 0 0;\n",
              "      width: 32px;\n",
              "    }\n",
              "\n",
              "    .colab-df-convert:hover {\n",
              "      background-color: #E2EBFA;\n",
              "      box-shadow: 0px 1px 2px rgba(60, 64, 67, 0.3), 0px 1px 3px 1px rgba(60, 64, 67, 0.15);\n",
              "      fill: #174EA6;\n",
              "    }\n",
              "\n",
              "    [theme=dark] .colab-df-convert {\n",
              "      background-color: #3B4455;\n",
              "      fill: #D2E3FC;\n",
              "    }\n",
              "\n",
              "    [theme=dark] .colab-df-convert:hover {\n",
              "      background-color: #434B5C;\n",
              "      box-shadow: 0px 1px 3px 1px rgba(0, 0, 0, 0.15);\n",
              "      filter: drop-shadow(0px 1px 2px rgba(0, 0, 0, 0.3));\n",
              "      fill: #FFFFFF;\n",
              "    }\n",
              "  </style>\n",
              "\n",
              "      <script>\n",
              "        const buttonEl =\n",
              "          document.querySelector('#df-232d3aba-baca-4e46-827d-524528f2e1b5 button.colab-df-convert');\n",
              "        buttonEl.style.display =\n",
              "          google.colab.kernel.accessAllowed ? 'block' : 'none';\n",
              "\n",
              "        async function convertToInteractive(key) {\n",
              "          const element = document.querySelector('#df-232d3aba-baca-4e46-827d-524528f2e1b5');\n",
              "          const dataTable =\n",
              "            await google.colab.kernel.invokeFunction('convertToInteractive',\n",
              "                                                     [key], {});\n",
              "          if (!dataTable) return;\n",
              "\n",
              "          const docLinkHtml = 'Like what you see? Visit the ' +\n",
              "            '<a target=\"_blank\" href=https://colab.research.google.com/notebooks/data_table.ipynb>data table notebook</a>'\n",
              "            + ' to learn more about interactive tables.';\n",
              "          element.innerHTML = '';\n",
              "          dataTable['output_type'] = 'display_data';\n",
              "          await google.colab.output.renderOutput(dataTable, element);\n",
              "          const docLink = document.createElement('div');\n",
              "          docLink.innerHTML = docLinkHtml;\n",
              "          element.appendChild(docLink);\n",
              "        }\n",
              "      </script>\n",
              "    </div>\n",
              "  </div>\n",
              "  "
            ]
          },
          "metadata": {},
          "execution_count": 85
        }
      ]
    },
    {
      "cell_type": "markdown",
      "source": [
        "### Sorting Nutrition subsetDF by saturated fat per gram. From above table we can observe Saturated fat per gram is greatest in butter salted 1TBSP."
      ],
      "metadata": {
        "id": "c35esAHUIIjY"
      }
    },
    {
      "cell_type": "markdown",
      "source": [
        "# List of 5 food items"
      ],
      "metadata": {
        "id": "FBh_cG8Y8Dsv"
      }
    },
    {
      "cell_type": "code",
      "source": [
        "#printing sorted 5 food items\n",
        "\n",
        "b=Nutrition_subsetDF['food_item']\n",
        "b.iloc[:5]"
      ],
      "metadata": {
        "colab": {
          "base_uri": "https://localhost:8080/"
        },
        "id": "b2WiIaXQR2lw",
        "outputId": "398aed98-6793-43ae-989b-809a98dc3d49"
      },
      "execution_count": 86,
      "outputs": [
        {
          "output_type": "execute_result",
          "data": {
            "text/plain": [
              "0    BUTTER; SALTED                1 TBSP  \n",
              "1    BUTTER; UNSALTED              1 TBSP  \n",
              "2    BUTTER; SALTED                1/2 CUP \n",
              "3    BUTTER; UNSALTED              1/2 CUP \n",
              "4    BUTTER; SALTED                1 PAT   \n",
              "Name: food_item, dtype: object"
            ]
          },
          "metadata": {},
          "execution_count": 86
        }
      ]
    },
    {
      "cell_type": "markdown",
      "source": [
        "### The five foods with the most saturated fat per gram"
      ],
      "metadata": {
        "id": "ykxUznIcIoEu"
      }
    },
    {
      "cell_type": "markdown",
      "source": [
        "# Detecting Outliers for saturated_fat_per_gram\n"
      ],
      "metadata": {
        "id": "EpFNxWJU8Vpl"
      }
    },
    {
      "cell_type": "code",
      "source": [
        "#boxplot for outliers\n",
        "\n",
        "import seaborn as sns\n",
        "sns.boxplot(Nutrition_subsetDF['saturated_fat_per_gram'])"
      ],
      "metadata": {
        "colab": {
          "base_uri": "https://localhost:8080/",
          "height": 352
        },
        "id": "W7ojEA_vkyUm",
        "outputId": "4737b06f-1d1b-4852-ea93-94123f59561d"
      },
      "execution_count": 87,
      "outputs": [
        {
          "output_type": "stream",
          "name": "stderr",
          "text": [
            "/usr/local/lib/python3.7/dist-packages/seaborn/_decorators.py:43: FutureWarning: Pass the following variable as a keyword arg: x. From version 0.12, the only valid positional argument will be `data`, and passing other arguments without an explicit keyword will result in an error or misinterpretation.\n",
            "  FutureWarning\n"
          ]
        },
        {
          "output_type": "execute_result",
          "data": {
            "text/plain": [
              "<matplotlib.axes._subplots.AxesSubplot at 0x7f73ffd8ded0>"
            ]
          },
          "metadata": {},
          "execution_count": 87
        },
        {
          "output_type": "display_data",
          "data": {
            "text/plain": [
              "<Figure size 432x288 with 1 Axes>"
            ],
            "image/png": "[encoded data removed]"
          },
          "metadata": {
            "needs_background": "light"
          }
        }
      ]
    },
    {
      "cell_type": "markdown",
      "source": [
        "### Outliers from 0.1 are plainly seen in the graph above."
      ],
      "metadata": {
        "id": "CQkvuO0Q8XuN"
      }
    },
    {
      "cell_type": "markdown",
      "source": [
        "# Zscore for age"
      ],
      "metadata": {
        "id": "b508Re8t8maS"
      }
    },
    {
      "cell_type": "code",
      "source": [
        "#zscore for age in Nutrition_subsetDF\n",
        "\n",
        "from scipy import stats\n",
        "zscore =np.abs(stats.zscore(Nutrition_subsetDF['saturated_fat_per_gram']))\n",
        "zscore"
      ],
      "metadata": {
        "colab": {
          "base_uri": "https://localhost:8080/"
        },
        "id": "AlRMlZFpn1pA",
        "outputId": "4154e14f-45ad-4713-a73a-6892e3f00a7f"
      },
      "execution_count": 88,
      "outputs": [
        {
          "output_type": "execute_result",
          "data": {
            "text/plain": [
              "array([7.11047538e+00, 7.11047538e+00, 7.08274117e+00, 7.08274117e+00,\n",
              "       7.00240762e+00, 7.00240762e+00, 5.37307839e+00, 5.37137526e+00,\n",
              "       4.73298477e+00, 4.24067610e+00, 4.20426618e+00, 3.94288940e+00,\n",
              "       3.93868677e+00, 3.27822652e+00, 3.22372631e+00, 2.96787810e+00,\n",
              "       2.92126064e+00, 2.84179905e+00, 2.74640591e+00, 2.72580633e+00,\n",
              "       2.65935525e+00, 2.64155586e+00, 2.63967232e+00, 2.62422901e+00,\n",
              "       2.58630553e+00, 2.46356191e+00, 2.46356191e+00, 2.42620515e+00,\n",
              "       2.36269867e+00, 2.36227665e+00, 2.32739654e+00, 2.31947157e+00,\n",
              "       2.31947157e+00, 2.31947157e+00, 2.29065350e+00, 2.26610478e+00,\n",
              "       2.15819614e+00, 2.13935864e+00, 2.10600440e+00, 2.06541755e+00,\n",
              "       2.03129089e+00, 1.99927081e+00, 1.99927081e+00, 1.99426768e+00,\n",
              "       1.89253723e+00, 1.85838248e+00, 1.83917044e+00, 1.83428242e+00,\n",
              "       1.81515538e+00, 1.78580364e+00, 1.78580364e+00, 1.74690206e+00,\n",
              "       1.70708762e+00, 1.69320736e+00, 1.67907006e+00, 1.67907006e+00,\n",
              "       1.62570327e+00, 1.59901987e+00, 1.59139156e+00, 1.56650391e+00,\n",
              "       1.55579277e+00, 1.53057696e+00, 1.52380090e+00, 1.49095211e+00,\n",
              "       1.49095211e+00, 1.48294709e+00, 1.46560289e+00, 1.45492953e+00,\n",
              "       1.45492953e+00, 1.45492953e+00, 1.44634542e+00, 1.43200607e+00,\n",
              "       1.41613598e+00, 1.41223609e+00, 1.41107595e+00, 1.38288436e+00,\n",
              "       1.38288436e+00, 1.37717153e+00, 1.36008107e+00, 1.35999942e+00,\n",
              "       1.35999942e+00, 1.27481660e+00, 1.25320305e+00, 1.25320305e+00,\n",
              "       1.25320305e+00, 1.19876892e+00, 1.17642656e+00, 1.17642656e+00,\n",
              "       1.14540213e+00, 1.14540213e+00, 1.10360814e+00, 1.09470368e+00,\n",
              "       1.09203534e+00, 1.08332813e+00, 1.07192183e+00, 1.06699400e+00,\n",
              "       1.06572899e+00, 1.05868109e+00, 1.05678517e+00, 1.05147658e+00,\n",
              "       1.04517262e+00, 1.01113128e+00, 1.00278398e+00, 9.99194256e-01,\n",
              "       9.50613339e-01, 9.50613339e-01, 9.50613339e-01, 9.44245710e-01,\n",
              "       9.40390713e-01, 9.35650111e-01, 9.30706121e-01, 9.12789624e-01,\n",
              "       8.80784943e-01, 8.80784943e-01, 8.78568169e-01, 8.78568169e-01,\n",
              "       8.78568169e-01, 8.61616364e-01, 8.56054053e-01, 8.56054053e-01,\n",
              "       8.49750101e-01, 8.43816969e-01, 8.42545584e-01, 8.25201376e-01,\n",
              "       8.25201376e-01, 8.18230339e-01, 8.18092296e-01, 8.18092296e-01,\n",
              "       8.11810717e-01, 8.08774410e-01, 7.99318482e-01, 7.99318482e-01,\n",
              "       7.71834583e-01, 7.71834583e-01, 7.71834583e-01, 7.61494767e-01,\n",
              "       7.61494767e-01, 7.48886862e-01, 7.48886862e-01, 7.34477828e-01,\n",
              "       7.23671053e-01, 7.19221204e-01, 6.98455243e-01, 6.98455243e-01,\n",
              "       6.93903653e-01, 6.92305046e-01, 6.87491848e-01, 6.81644704e-01,\n",
              "       6.71912286e-01, 6.65823019e-01, 6.58640807e-01, 6.54979710e-01,\n",
              "       6.26410073e-01, 6.18289375e-01, 6.15269068e-01, 6.11734205e-01,\n",
              "       6.04034811e-01, 5.76826045e-01, 5.76826045e-01, 5.72376196e-01,\n",
              "       5.58367413e-01, 5.47160386e-01, 5.47160386e-01, 5.41227255e-01,\n",
              "       5.19235440e-01, 5.10912660e-01, 5.05628465e-01, 5.05000620e-01,\n",
              "       5.05000620e-01, 4.96728767e-01, 4.82319733e-01, 4.70643447e-01,\n",
              "       4.70643447e-01, 4.70029675e-01, 4.70029675e-01, 4.66469796e-01,\n",
              "       4.51633828e-01, 4.51633828e-01, 4.51510944e-01, 4.50088999e-01,\n",
              "       4.49848671e-01, 4.49848671e-01, 4.46297148e-01, 4.34430885e-01,\n",
              "       4.23783033e-01, 4.07731793e-01, 4.05951853e-01, 3.98267035e-01,\n",
              "       3.93211234e-01, 3.89358224e-01, 3.83257625e-01, 3.83257625e-01,\n",
              "       3.83257625e-01, 3.66668276e-01, 3.56240686e-01, 3.51737863e-01,\n",
              "       3.45433910e-01, 3.45433910e-01, 3.45433910e-01, 3.44900242e-01,\n",
              "       3.44900242e-01, 3.30552449e-01, 3.14736403e-01, 3.09835120e-01,\n",
              "       3.02206808e-01, 2.92035725e-01, 2.91533450e-01, 2.87039404e-01,\n",
              "       2.84915967e-01, 2.82394387e-01, 2.78191752e-01, 2.73173680e-01,\n",
              "       2.68303199e-01, 2.66184223e-01, 2.64182969e-01, 2.44570672e-01,\n",
              "       2.38166657e-01, 2.38166657e-01, 2.34278505e-01, 2.27512919e-01,\n",
              "       2.15752604e-01, 2.05102449e-01, 2.03478242e-01, 2.03038751e-01,\n",
              "       1.97555830e-01, 1.94139053e-01, 1.94139053e-01, 1.94139053e-01,\n",
              "       1.94139053e-01, 1.88535540e-01, 1.85239356e-01, 1.84799865e-01,\n",
              "       1.84799865e-01, 1.81838658e-01, 1.79009568e-01, 1.67439961e-01,\n",
              "       1.67439961e-01, 1.65043888e-01, 1.62619291e-01, 1.62175351e-01,\n",
              "       1.53999601e-01, 1.46859410e-01, 1.43707434e-01, 1.43707434e-01,\n",
              "       1.40105176e-01, 1.34936718e-01, 1.34101412e-01, 1.31433072e-01,\n",
              "       1.25368664e-01, 1.18491625e-01, 1.18491625e-01, 1.16947800e-01,\n",
              "       1.16551947e-01, 1.15278800e-01, 1.10748187e-01, 1.09361763e-01,\n",
              "       9.68780737e-02, 9.54684943e-02, 9.03627975e-02, 8.77598569e-02,\n",
              "       8.60712982e-02, 8.60712982e-02, 8.38198866e-02, 7.46957450e-02,\n",
              "       7.31031676e-02, 7.27706514e-02, 6.99417825e-02, 6.80600057e-02,\n",
              "       6.80600057e-02, 6.74895123e-02, 6.25783080e-02, 5.87389866e-02,\n",
              "       5.50173456e-02, 5.23001248e-02, 4.28441962e-02, 2.50448012e-02,\n",
              "       1.95680643e-02, 1.82148009e-02, 1.28352989e-02, 1.20789614e-02,\n",
              "       1.19226196e-02, 9.22311684e-03, 7.24540629e-03, 6.82161117e-03,\n",
              "       5.02048192e-03, 1.65429118e-03, 2.04548668e-03, 4.93312710e-03,\n",
              "       6.55820612e-03, 1.16219524e-02, 1.59926927e-02, 1.59926927e-02,\n",
              "       1.66816492e-02, 1.76737466e-02, 1.76737466e-02, 2.01953276e-02,\n",
              "       2.86673059e-02, 3.28032323e-02, 3.31923080e-02, 3.45624749e-02,\n",
              "       3.86222653e-02, 4.36100078e-02, 4.54111371e-02, 4.70157795e-02,\n",
              "       4.70556464e-02, 5.09159969e-02, 5.58263628e-02, 5.80190419e-02,\n",
              "       5.80190419e-02, 5.80190419e-02, 5.80190419e-02, 5.80190419e-02,\n",
              "       5.80190419e-02, 5.80190419e-02, 6.49274828e-02, 7.81916895e-02,\n",
              "       7.81916895e-02, 8.60366080e-02, 8.95388037e-02, 9.16401212e-02,\n",
              "       9.16401212e-02, 9.16401212e-02, 9.40416269e-02, 9.76438854e-02,\n",
              "       9.95509634e-02, 9.95509634e-02, 1.07650159e-01, 1.08450661e-01,\n",
              "       1.08450661e-01, 1.12280910e-01, 1.14843401e-01, 1.17350358e-01,\n",
              "       1.17350358e-01, 1.21856534e-01, 1.23049287e-01, 1.23283490e-01,\n",
              "       1.23660197e-01, 1.25261201e-01, 1.30064212e-01, 1.30064212e-01,\n",
              "       1.30064212e-01, 1.30064212e-01, 1.31985416e-01, 1.34762810e-01,\n",
              "       1.35149753e-01, 1.35149753e-01, 1.35400891e-01, 1.42071740e-01,\n",
              "       1.42071740e-01, 1.47153996e-01, 1.50583406e-01, 1.54079269e-01,\n",
              "       1.56668678e-01, 1.58112332e-01, 1.60940713e-01, 1.67328955e-01,\n",
              "       1.68488303e-01, 1.68793696e-01, 1.69734654e-01, 1.73291314e-01,\n",
              "       1.74106920e-01, 1.79054928e-01, 1.84098089e-01, 1.88547938e-01,\n",
              "       1.88547938e-01, 1.88767684e-01, 1.89917122e-01, 1.91817215e-01,\n",
              "       1.95559821e-01, 2.02109382e-01, 2.09313899e-01, 2.16518416e-01,\n",
              "       2.18213596e-01, 2.19780839e-01, 2.22693716e-01, 2.32043643e-01,\n",
              "       2.34306560e-01, 2.38131967e-01, 2.40833661e-01, 2.41590135e-01,\n",
              "       2.42134476e-01, 2.42416592e-01, 2.46104178e-01, 2.48327038e-01,\n",
              "       2.51204679e-01, 2.54036278e-01, 2.59745518e-01, 2.59745518e-01,\n",
              "       2.66049470e-01, 2.70362701e-01, 2.73095064e-01, 2.77544913e-01,\n",
              "       2.78991507e-01, 2.81359069e-01, 2.81707675e-01, 2.82159571e-01,\n",
              "       2.82159571e-01, 2.83021650e-01, 2.90622019e-01, 2.92165844e-01,\n",
              "       2.92165844e-01, 2.94659716e-01, 2.94659716e-01, 2.94659716e-01,\n",
              "       2.96905658e-01, 2.98169609e-01, 2.98564593e-01, 2.98715405e-01,\n",
              "       3.02108078e-01, 3.05722047e-01, 3.06297782e-01, 3.07210571e-01,\n",
              "       3.07522841e-01, 3.11618040e-01, 3.13143703e-01, 3.13143703e-01,\n",
              "       3.13779395e-01, 3.14211666e-01, 3.18787413e-01, 3.20263461e-01,\n",
              "       3.21638869e-01, 3.23448616e-01, 3.24411868e-01, 3.29573914e-01,\n",
              "       3.35392946e-01, 3.44470638e-01, 3.46199722e-01, 3.46199722e-01,\n",
              "       3.46199722e-01, 3.46199722e-01, 3.48742493e-01, 3.48742493e-01,\n",
              "       3.48742493e-01, 3.56024063e-01, 3.60608756e-01, 3.60608756e-01,\n",
              "       3.60608756e-01, 3.60608756e-01, 3.60608756e-01, 3.69051053e-01,\n",
              "       3.73216661e-01, 3.73216661e-01, 3.74196550e-01, 3.74729609e-01,\n",
              "       3.74890276e-01, 3.75716025e-01, 3.75914850e-01, 3.79317260e-01,\n",
              "       3.80781404e-01, 3.80781404e-01, 3.82517574e-01, 3.83251524e-01,\n",
              "       3.84341283e-01, 3.85417859e-01, 3.87015011e-01, 4.02140678e-01,\n",
              "       4.02140678e-01, 4.02234854e-01, 4.03835858e-01, 4.04003405e-01,\n",
              "       4.09040884e-01, 4.11040375e-01, 4.13520619e-01, 4.17092169e-01,\n",
              "       4.18244892e-01, 4.18244892e-01, 4.19940072e-01, 4.24794453e-01,\n",
              "       4.25703313e-01, 4.30774487e-01, 4.30774487e-01, 4.30774487e-01,\n",
              "       4.32122445e-01, 4.32368284e-01, 4.32653926e-01, 4.34480423e-01,\n",
              "       4.35700770e-01, 4.39033256e-01, 4.41299346e-01, 4.41299346e-01,\n",
              "       4.41299346e-01, 4.41299346e-01, 4.41299346e-01, 4.41299346e-01,\n",
              "       4.41299346e-01, 4.41299346e-01, 4.52363199e-01, 4.53066724e-01,\n",
              "       4.55538862e-01, 4.55601647e-01, 4.55601647e-01, 4.55601647e-01,\n",
              "       4.55695685e-01, 4.55695685e-01, 4.57993951e-01, 4.59028171e-01,\n",
              "       4.61471994e-01, 4.61471994e-01, 4.61471994e-01, 4.63125490e-01,\n",
              "       4.63664673e-01, 4.67775946e-01, 4.67775946e-01, 4.69705728e-01,\n",
              "       4.71558318e-01, 4.71558318e-01, 4.72634724e-01, 4.73338257e-01,\n",
              "       4.74079899e-01, 4.74079899e-01, 4.75690600e-01, 4.77610112e-01,\n",
              "       4.82056328e-01, 4.82706360e-01, 4.82706360e-01, 4.90290062e-01,\n",
              "       4.90290062e-01, 4.94128534e-01, 4.95587501e-01, 4.95587501e-01,\n",
              "       4.95587501e-01, 4.95831998e-01, 4.98765964e-01, 4.98854872e-01,\n",
              "       5.00329143e-01, 5.00329143e-01, 5.06300100e-01, 5.06529752e-01,\n",
              "       5.08937047e-01, 5.08937047e-01, 5.08937047e-01, 5.08968439e-01,\n",
              "       5.08968439e-01, 5.08968439e-01, 5.08968439e-01, 5.08968439e-01,\n",
              "       5.08968439e-01, 5.08968439e-01, 5.08968439e-01, 5.08968439e-01,\n",
              "       5.08968439e-01, 5.08968439e-01, 5.10164592e-01, 5.11903613e-01,\n",
              "       5.11903613e-01, 5.15055589e-01, 5.18268769e-01, 5.18390668e-01,\n",
              "       5.19108130e-01, 5.20598720e-01, 5.23037867e-01, 5.23037867e-01,\n",
              "       5.24511518e-01, 5.24668463e-01, 5.25207660e-01, 5.26736442e-01,\n",
              "       5.29972696e-01, 5.30946258e-01, 5.31458731e-01, 5.32076261e-01,\n",
              "       5.32076261e-01, 5.33240067e-01, 5.34659344e-01, 5.34827076e-01,\n",
              "       5.35636140e-01, 5.35792275e-01, 5.35792275e-01, 5.36023083e-01,\n",
              "       5.36472863e-01, 5.36472863e-01, 5.36692036e-01, 5.36836099e-01,\n",
              "       5.36978552e-01, 5.37119423e-01, 5.37119423e-01, 5.37532796e-01,\n",
              "       5.37532796e-01, 5.37634031e-01, 5.37634031e-01, 5.38128055e-01,\n",
              "       5.38128055e-01, 5.38128055e-01, 5.38320175e-01, 5.38320175e-01,\n",
              "       5.38320175e-01, 5.39059100e-01, 5.39641004e-01, 5.40085988e-01,\n",
              "       5.40194521e-01, 5.40408441e-01, 5.41322057e-01, 5.41466976e-01,\n",
              "       5.41466976e-01, 5.42340317e-01, 5.42340317e-01, 5.42813315e-01,\n",
              "       5.43423375e-01, 5.43501847e-01, 5.43809331e-01, 5.43884640e-01,\n",
              "       5.44106936e-01, 5.44535837e-01, 5.45011393e-01, 5.45011393e-01,\n",
              "       5.45524692e-01, 5.45979031e-01, 5.46240035e-01, 5.46409458e-01,\n",
              "       5.46575351e-01, 5.47926198e-01, 5.47926198e-01, 5.47926198e-01,\n",
              "       5.47926198e-01, 5.47926198e-01, 5.47926198e-01, 5.48195526e-01,\n",
              "       5.48195526e-01, 5.48326449e-01, 5.48581154e-01, 5.49179158e-01,\n",
              "       5.50231644e-01, 5.50231644e-01, 5.50231644e-01, 5.50515321e-01,\n",
              "       5.50515321e-01, 5.50515321e-01, 5.50515321e-01, 5.50697166e-01,\n",
              "       5.50697166e-01, 5.50697166e-01, 5.50697166e-01, 5.50786006e-01,\n",
              "       5.51210610e-01, 5.51251360e-01, 5.51371837e-01, 5.51528457e-01,\n",
              "       5.51528457e-01, 5.51528457e-01, 5.51828645e-01, 5.51972571e-01,\n",
              "       5.51972571e-01, 5.52315705e-01, 5.52315705e-01, 5.52510891e-01,\n",
              "       5.52574274e-01, 5.52574274e-01, 5.52636844e-01, 5.52636844e-01,\n",
              "       5.52636844e-01, 5.52636844e-01, 5.52804847e-01, 5.52879304e-01,\n",
              "       5.52879304e-01, 5.52879304e-01, 5.52879304e-01, 5.52879304e-01,\n",
              "       5.52918540e-01, 5.53053339e-01, 5.53165847e-01, 5.53435535e-01,\n",
              "       5.53435535e-01, 5.53435535e-01, 5.53435535e-01, 5.53487580e-01,\n",
              "       5.53929962e-01, 5.53929962e-01, 5.53929962e-01, 5.53929962e-01,\n",
              "       5.53929962e-01, 5.53929962e-01, 5.53929962e-01, 5.53929962e-01,\n",
              "       5.54022328e-01, 5.54112685e-01, 5.54157132e-01, 5.54372345e-01,\n",
              "       5.54372345e-01, 5.54372345e-01, 5.54770489e-01, 5.54770489e-01,\n",
              "       5.54845388e-01, 5.54954995e-01, 5.55026302e-01, 5.55026302e-01,\n",
              "       5.55130715e-01, 5.55198682e-01, 5.55232187e-01, 5.55924433e-01,\n",
              "       5.56031280e-01, 5.56031280e-01, 5.56134623e-01, 5.56134623e-01,\n",
              "       5.56134623e-01, 5.56134623e-01, 5.56134623e-01, 5.56134623e-01,\n",
              "       5.56134623e-01, 5.56159932e-01, 5.56159932e-01, 5.56185035e-01,\n",
              "       5.56234633e-01, 5.56259133e-01, 5.56283438e-01, 5.56283438e-01,\n",
              "       5.56355198e-01, 5.56402100e-01, 5.56402100e-01, 5.56402100e-01,\n",
              "       5.56471090e-01, 5.56668758e-01, 5.59528277e-01, 5.62335232e-01,\n",
              "       5.62335232e-01, 5.62335232e-01, 5.62335232e-01, 5.62335232e-01,\n",
              "       5.62335232e-01, 5.62335232e-01, 5.62335232e-01, 5.62335232e-01,\n",
              "       5.62335232e-01, 5.62335232e-01, 5.62335232e-01, 5.62335232e-01,\n",
              "       5.62335232e-01, 5.62335232e-01, 5.62335232e-01, 5.62335232e-01,\n",
              "       5.62335232e-01, 5.62335232e-01, 5.62335232e-01, 5.62335232e-01,\n",
              "       5.62335232e-01, 5.62335232e-01, 5.62335232e-01, 5.62335232e-01,\n",
              "       5.62335232e-01, 5.62335232e-01, 5.62335232e-01, 5.62335232e-01,\n",
              "       5.62335232e-01, 5.62335232e-01, 5.62335232e-01, 5.62335232e-01,\n",
              "       5.62335232e-01, 5.62335232e-01, 5.62335232e-01, 5.62335232e-01,\n",
              "       5.62335232e-01, 5.62335232e-01, 5.62335232e-01, 5.62335232e-01,\n",
              "       5.62335232e-01, 5.62335232e-01, 5.62335232e-01, 5.62335232e-01,\n",
              "       5.62335232e-01, 5.62335232e-01, 5.62335232e-01, 5.62335232e-01,\n",
              "       5.62335232e-01, 5.62335232e-01, 5.62335232e-01, 5.62335232e-01,\n",
              "       5.62335232e-01, 5.62335232e-01, 5.62335232e-01, 5.62335232e-01,\n",
              "       5.62335232e-01, 5.62335232e-01, 5.62335232e-01, 5.62335232e-01,\n",
              "       5.62335232e-01, 5.62335232e-01, 5.62335232e-01, 5.62335232e-01,\n",
              "       5.62335232e-01, 5.62335232e-01, 5.62335232e-01, 5.62335232e-01,\n",
              "       5.62335232e-01, 5.62335232e-01, 5.62335232e-01, 5.62335232e-01,\n",
              "       5.62335232e-01, 5.62335232e-01, 5.62335232e-01, 5.62335232e-01,\n",
              "       5.62335232e-01, 5.62335232e-01, 5.62335232e-01, 5.62335232e-01,\n",
              "       5.62335232e-01, 5.62335232e-01, 5.62335232e-01, 5.62335232e-01,\n",
              "       5.62335232e-01, 5.62335232e-01, 5.62335232e-01, 5.62335232e-01,\n",
              "       5.62335232e-01, 5.62335232e-01, 5.62335232e-01, 5.62335232e-01,\n",
              "       5.62335232e-01, 5.62335232e-01, 5.62335232e-01, 5.62335232e-01,\n",
              "       5.62335232e-01, 5.62335232e-01, 5.62335232e-01, 5.62335232e-01,\n",
              "       5.62335232e-01, 5.62335232e-01, 5.62335232e-01, 5.62335232e-01,\n",
              "       5.62335232e-01, 5.62335232e-01, 5.62335232e-01, 5.62335232e-01,\n",
              "       5.62335232e-01, 5.62335232e-01, 5.62335232e-01, 5.62335232e-01,\n",
              "       5.62335232e-01, 5.62335232e-01, 5.62335232e-01, 5.62335232e-01,\n",
              "       5.62335232e-01, 5.62335232e-01, 5.62335232e-01, 5.62335232e-01,\n",
              "       5.62335232e-01, 5.62335232e-01, 5.62335232e-01, 5.62335232e-01,\n",
              "       5.62335232e-01, 5.62335232e-01, 5.62335232e-01, 5.62335232e-01,\n",
              "       5.62335232e-01, 5.62335232e-01, 5.62335232e-01, 5.62335232e-01,\n",
              "       5.62335232e-01, 5.62335232e-01, 5.62335232e-01, 5.62335232e-01,\n",
              "       5.62335232e-01, 5.62335232e-01, 5.62335232e-01, 5.62335232e-01,\n",
              "       5.62335232e-01, 5.62335232e-01, 5.62335232e-01, 5.62335232e-01,\n",
              "       5.62335232e-01, 5.62335232e-01, 5.62335232e-01, 5.62335232e-01,\n",
              "       5.62335232e-01, 5.62335232e-01, 5.62335232e-01, 5.62335232e-01,\n",
              "       5.62335232e-01, 5.62335232e-01, 5.62335232e-01, 5.62335232e-01,\n",
              "       5.62335232e-01, 5.62335232e-01, 5.62335232e-01, 5.62335232e-01,\n",
              "       5.62335232e-01, 5.62335232e-01, 5.62335232e-01, 5.62335232e-01,\n",
              "       5.62335232e-01, 5.62335232e-01, 5.62335232e-01, 5.62335232e-01,\n",
              "       5.62335232e-01, 5.62335232e-01, 5.62335232e-01, 5.62335232e-01,\n",
              "       5.62335232e-01, 5.62335232e-01, 5.62335232e-01, 5.62335232e-01,\n",
              "       5.62335232e-01, 5.62335232e-01, 5.62335232e-01, 5.62335232e-01,\n",
              "       5.62335232e-01, 5.62335232e-01, 5.62335232e-01, 5.62335232e-01,\n",
              "       5.62335232e-01, 5.62335232e-01, 5.62335232e-01, 5.62335232e-01,\n",
              "       5.62335232e-01, 5.62335232e-01, 5.62335232e-01, 5.62335232e-01,\n",
              "       5.62335232e-01, 5.62335232e-01, 5.62335232e-01, 5.62335232e-01,\n",
              "       5.62335232e-01, 5.62335232e-01, 5.62335232e-01, 5.62335232e-01,\n",
              "       5.62335232e-01, 5.62335232e-01, 5.62335232e-01, 5.62335232e-01,\n",
              "       5.62335232e-01, 5.62335232e-01, 5.62335232e-01, 5.62335232e-01,\n",
              "       5.62335232e-01, 5.62335232e-01, 5.62335232e-01, 5.62335232e-01,\n",
              "       5.62335232e-01, 5.62335232e-01, 5.62335232e-01, 5.62335232e-01,\n",
              "       5.62335232e-01, 5.62335232e-01, 5.62335232e-01, 5.62335232e-01,\n",
              "       5.62335232e-01, 5.62335232e-01, 5.62335232e-01, 5.62335232e-01,\n",
              "       5.62335232e-01, 5.62335232e-01, 5.62335232e-01, 5.62335232e-01,\n",
              "       5.62335232e-01, 5.62335232e-01, 5.62335232e-01, 5.62335232e-01,\n",
              "       5.62335232e-01, 5.62335232e-01, 5.62335232e-01, 5.62335232e-01,\n",
              "       5.62335232e-01, 5.62335232e-01, 5.62335232e-01, 5.62335232e-01,\n",
              "       5.62335232e-01, 5.62335232e-01, 5.62335232e-01, 5.62335232e-01,\n",
              "       5.62335232e-01, 5.62335232e-01, 5.62335232e-01, 5.62335232e-01,\n",
              "       5.62335232e-01])"
            ]
          },
          "metadata": {},
          "execution_count": 88
        }
      ]
    },
    {
      "cell_type": "markdown",
      "source": [
        "### In adult trainingDF, we can see the zscored values of age."
      ],
      "metadata": {
        "id": "oHyPn3Hq8oTa"
      }
    },
    {
      "cell_type": "markdown",
      "source": [
        "# Using describe() method"
      ],
      "metadata": {
        "id": "vJG7iEQL9H0i"
      }
    },
    {
      "cell_type": "code",
      "source": [
        "#using function describe()\n",
        "\n",
        "Nutrition_subsetDF['saturated_fat_per_gram'].describe()"
      ],
      "metadata": {
        "colab": {
          "base_uri": "https://localhost:8080/"
        },
        "id": "6_42Q5GNO-ke",
        "outputId": "8ae02c4c-cf72-4446-d473-2bb79645a224"
      },
      "execution_count": 89,
      "outputs": [
        {
          "output_type": "execute_result",
          "data": {
            "text/plain": [
              "count    961.000000\n",
              "mean       0.037168\n",
              "std        0.066131\n",
              "min        0.000000\n",
              "25%        0.000000\n",
              "50%        0.008000\n",
              "75%        0.047347\n",
              "max        0.507143\n",
              "Name: saturated_fat_per_gram, dtype: float64"
            ]
          },
          "metadata": {},
          "execution_count": 89
        }
      ]
    },
    {
      "cell_type": "markdown",
      "source": [
        "### describe() returns the count, mean, standard deviation, min, quartiles, and maximum values for the specified dataframe."
      ],
      "metadata": {
        "id": "zDKoBPolPBJf"
      }
    },
    {
      "cell_type": "markdown",
      "source": [
        "## Identifying lower and upper limit outliers"
      ],
      "metadata": {
        "id": "qcatNtPp9SB8"
      }
    },
    {
      "cell_type": "code",
      "source": [
        "#lower and upper bound of outliers\n",
        "\n",
        "Q1=Nutrition_subsetDF['saturated_fat_per_gram'].quantile(0.25)\n",
        "Q3=Nutrition_subsetDF['saturated_fat_per_gram'].quantile(0.75)\n",
        "IQR=Q3-Q1\n",
        "lower_bound=Nutrition_subsetDF['saturated_fat_per_gram'][Nutrition_subsetDF['saturated_fat_per_gram']<Q1-(1.5 * IQR)]\n",
        "upper_bound=Nutrition_subsetDF['saturated_fat_per_gram'][Nutrition_subsetDF['saturated_fat_per_gram']>Q3 +(1.5 * IQR)]"
      ],
      "metadata": {
        "id": "b9Sd3OSVoPmX"
      },
      "execution_count": 90,
      "outputs": []
    },
    {
      "cell_type": "code",
      "source": [
        "lower_bound"
      ],
      "metadata": {
        "colab": {
          "base_uri": "https://localhost:8080/"
        },
        "id": "BDFdbwF62Hio",
        "outputId": "f763c44e-d858-47e1-8502-f3b5ac655842"
      },
      "execution_count": 91,
      "outputs": [
        {
          "output_type": "execute_result",
          "data": {
            "text/plain": [
              "Series([], Name: saturated_fat_per_gram, dtype: float64)"
            ]
          },
          "metadata": {},
          "execution_count": 91
        }
      ]
    },
    {
      "cell_type": "code",
      "source": [
        "upper_bound"
      ],
      "metadata": {
        "colab": {
          "base_uri": "https://localhost:8080/"
        },
        "id": "7e8AJ2mf2PED",
        "outputId": "4b6e4ca3-be50-4f07-8464-cd341f551556"
      },
      "execution_count": 92,
      "outputs": [
        {
          "output_type": "execute_result",
          "data": {
            "text/plain": [
              "0     0.507143\n",
              "1     0.507143\n",
              "2     0.505310\n",
              "3     0.505310\n",
              "4     0.500000\n",
              "        ...   \n",
              "80    0.127059\n",
              "81    0.121429\n",
              "82    0.120000\n",
              "83    0.120000\n",
              "84    0.120000\n",
              "Name: saturated_fat_per_gram, Length: 85, dtype: float64"
            ]
          },
          "metadata": {},
          "execution_count": 92
        }
      ]
    },
    {
      "cell_type": "code",
      "source": [
        "max(upper_bound),min(upper_bound)"
      ],
      "metadata": {
        "colab": {
          "base_uri": "https://localhost:8080/"
        },
        "id": "P-v_W_TL1mc9",
        "outputId": "3551c1fc-9da3-4a38-fc8c-bf9829188a75"
      },
      "execution_count": 93,
      "outputs": [
        {
          "output_type": "execute_result",
          "data": {
            "text/plain": [
              "(0.5071428571428571, 0.12)"
            ]
          },
          "metadata": {},
          "execution_count": 93
        }
      ]
    },
    {
      "cell_type": "markdown",
      "source": [
        "### To determine the lower and upper bounds of outliers, we can see that there are no lower bound outliers because the value is 0, and the upper bound in saturated fat is 0.507."
      ],
      "metadata": {
        "id": "D_jsNpT9M7OB"
      }
    },
    {
      "cell_type": "markdown",
      "source": [
        "# Density ploting for saturated fat per gram\n"
      ],
      "metadata": {
        "id": "cEttNYYr9pVZ"
      }
    },
    {
      "cell_type": "code",
      "source": [
        "#Density plot for saturated_fat_per_gram\n",
        "\n",
        "Nutrition_outliers = Nutrition_subsetDF['saturated_fat_per_gram']\n",
        "\n",
        "Nutrition_outliers.plot.density()\n",
        "plt.title('Density Plot')\n",
        "plt.show()"
      ],
      "metadata": {
        "colab": {
          "base_uri": "https://localhost:8080/",
          "height": 281
        },
        "id": "s_1tGQLfDDdC",
        "outputId": "ecfb27b7-0e3b-479c-9894-14a69ff2d48a"
      },
      "execution_count": 94,
      "outputs": [
        {
          "output_type": "display_data",
          "data": {
            "text/plain": [
              "<Figure size 432x288 with 1 Axes>"
            ],
            "image/png": "[encoded data removed]"
          },
          "metadata": {
            "needs_background": "light"
          }
        }
      ]
    },
    {
      "cell_type": "markdown",
      "source": [
        "### Outliers ranging from 0.2 to 0.5 may be seen in the density figure above due to a slight skew in the data. and the entire range is between 0 and 0.2"
      ],
      "metadata": {
        "id": "H3uth_rOPRA7"
      }
    },
    {
      "cell_type": "markdown",
      "source": [
        "# Using describe() method"
      ],
      "metadata": {
        "id": "YsVNdkkFC1JR"
      }
    },
    {
      "cell_type": "code",
      "source": [
        "Nutrition_subsetDF['saturated_fat'].describe()"
      ],
      "metadata": {
        "colab": {
          "base_uri": "https://localhost:8080/"
        },
        "id": "NxY7pwKY_QZS",
        "outputId": "1ef22961-c268-47c2-9fb5-cf49cd62ade5"
      },
      "execution_count": 95,
      "outputs": [
        {
          "output_type": "execute_result",
          "data": {
            "text/plain": [
              "count    961.000000\n",
              "mean       3.987617\n",
              "std       10.744359\n",
              "min        0.000000\n",
              "25%        0.000000\n",
              "50%        0.400000\n",
              "75%        3.300000\n",
              "max      119.900000\n",
              "Name: saturated_fat, dtype: float64"
            ]
          },
          "metadata": {},
          "execution_count": 95
        }
      ]
    },
    {
      "cell_type": "markdown",
      "source": [
        "### describe() returns the count, mean, standard deviation, min, quartiles, and maximum values for the specified dataframe."
      ],
      "metadata": {
        "id": "hXdRuzS8DAEK"
      }
    },
    {
      "cell_type": "markdown",
      "source": [
        "## Identifying lower and upper limit outliers\n",
        "\n"
      ],
      "metadata": {
        "id": "WTSNBfv6DKxD"
      }
    },
    {
      "cell_type": "code",
      "source": [
        "#lower and upper bound of outliers\n",
        "\n",
        "Q1=Nutrition_subsetDF['saturated_fat'].quantile(0.25)\n",
        "Q3=Nutrition_subsetDF['saturated_fat'].quantile(0.75)\n",
        "IQR=Q3-Q1\n",
        "lower_bound=Nutrition_subsetDF['saturated_fat'][Nutrition_subsetDF['saturated_fat']<Q1-(1.5 * IQR)]\n",
        "upper_bound=Nutrition_subsetDF['saturated_fat'][Nutrition_subsetDF['saturated_fat']>Q3 +(1.5 * IQR)]"
      ],
      "metadata": {
        "id": "ZlwsQrRY_F0h"
      },
      "execution_count": 96,
      "outputs": []
    },
    {
      "cell_type": "code",
      "source": [
        "lower_bound"
      ],
      "metadata": {
        "colab": {
          "base_uri": "https://localhost:8080/"
        },
        "id": "758h0T8Y_Yq6",
        "outputId": "6102714d-7bd3-4109-ecaa-6e45ef743d07"
      },
      "execution_count": 97,
      "outputs": [
        {
          "output_type": "execute_result",
          "data": {
            "text/plain": [
              "Series([], Name: saturated_fat, dtype: float64)"
            ]
          },
          "metadata": {},
          "execution_count": 97
        }
      ]
    },
    {
      "cell_type": "code",
      "source": [
        "upper_bound"
      ],
      "metadata": {
        "colab": {
          "base_uri": "https://localhost:8080/"
        },
        "id": "_kkYRMW1_cNT",
        "outputId": "ba991565-f682-4ed9-b735-906741a7c8b1"
      },
      "execution_count": 98,
      "outputs": [
        {
          "output_type": "execute_result",
          "data": {
            "text/plain": [
              "2      57.1\n",
              "3      57.1\n",
              "7      80.4\n",
              "9       9.0\n",
              "10     29.3\n",
              "       ... \n",
              "351    25.5\n",
              "352    28.1\n",
              "356    24.6\n",
              "412     9.6\n",
              "446    19.0\n",
              "Name: saturated_fat, Length: 96, dtype: float64"
            ]
          },
          "metadata": {},
          "execution_count": 98
        }
      ]
    },
    {
      "cell_type": "code",
      "source": [
        "max(upper_bound),min(upper_bound)"
      ],
      "metadata": {
        "colab": {
          "base_uri": "https://localhost:8080/"
        },
        "id": "WSZZRiQw_sgX",
        "outputId": "e5e47707-21bf-43bf-d5aa-d5282e626413"
      },
      "execution_count": 99,
      "outputs": [
        {
          "output_type": "execute_result",
          "data": {
            "text/plain": [
              "(119.9, 8.3)"
            ]
          },
          "metadata": {},
          "execution_count": 99
        }
      ]
    },
    {
      "cell_type": "markdown",
      "source": [
        "### To determine the lower and upper bounds of outliers, we can see that there are no lower bound outliers because the value is 0, and the upper bound in saturated fat is 119.9 and minimum in upper bound is 8.3."
      ],
      "metadata": {
        "id": "MApBTBhcDtMv"
      }
    },
    {
      "cell_type": "markdown",
      "source": [
        "# Detecting Outliers for saturated_fat\n"
      ],
      "metadata": {
        "id": "aWbgGl9jD8N5"
      }
    },
    {
      "cell_type": "code",
      "source": [
        "#boxplot for outliers\n",
        "\n",
        "import seaborn as sns\n",
        "sns.boxplot(Nutrition_subsetDF['saturated_fat'])"
      ],
      "metadata": {
        "colab": {
          "base_uri": "https://localhost:8080/",
          "height": 352
        },
        "id": "g1abtxhx_m3t",
        "outputId": "94fcb9f0-20bf-4515-9db5-4240a37fd6dd"
      },
      "execution_count": 100,
      "outputs": [
        {
          "output_type": "stream",
          "name": "stderr",
          "text": [
            "/usr/local/lib/python3.7/dist-packages/seaborn/_decorators.py:43: FutureWarning: Pass the following variable as a keyword arg: x. From version 0.12, the only valid positional argument will be `data`, and passing other arguments without an explicit keyword will result in an error or misinterpretation.\n",
            "  FutureWarning\n"
          ]
        },
        {
          "output_type": "execute_result",
          "data": {
            "text/plain": [
              "<matplotlib.axes._subplots.AxesSubplot at 0x7f73ff8cdf90>"
            ]
          },
          "metadata": {},
          "execution_count": 100
        },
        {
          "output_type": "display_data",
          "data": {
            "text/plain": [
              "<Figure size 432x288 with 1 Axes>"
            ],
            "image/png": "[encoded data removed]"
          },
          "metadata": {
            "needs_background": "light"
          }
        }
      ]
    },
    {
      "cell_type": "markdown",
      "source": [
        "# Using describe() method"
      ],
      "metadata": {
        "id": "aO1CpBCyC4Lt"
      }
    },
    {
      "cell_type": "code",
      "source": [
        "Nutrition_subsetDF['weight_in_grams'].describe()"
      ],
      "metadata": {
        "colab": {
          "base_uri": "https://localhost:8080/"
        },
        "id": "n7pXg3ro_-Hj",
        "outputId": "d34c2ed6-42be-4e1b-ceef-f4123f7a3fab"
      },
      "execution_count": 101,
      "outputs": [
        {
          "output_type": "execute_result",
          "data": {
            "text/plain": [
              "count     961.000000\n",
              "mean      149.409365\n",
              "std       175.909357\n",
              "min         0.400000\n",
              "25%        32.000000\n",
              "50%       113.000000\n",
              "75%       218.000000\n",
              "max      1542.000000\n",
              "Name: weight_in_grams, dtype: float64"
            ]
          },
          "metadata": {},
          "execution_count": 101
        }
      ]
    },
    {
      "cell_type": "markdown",
      "source": [
        "### describe() returns the count, mean, standard deviation, min, quartiles, and maximum values for the specified dataframe."
      ],
      "metadata": {
        "id": "o3fm-QcDC3f3"
      }
    },
    {
      "cell_type": "markdown",
      "source": [
        "## Identifying lower and upper limit outliers"
      ],
      "metadata": {
        "id": "Obx8ReEsDRtV"
      }
    },
    {
      "cell_type": "code",
      "source": [
        "#lower and upper bound of outliers\n",
        "\n",
        "Q1=Nutrition_subsetDF['weight_in_grams'].quantile(0.25)\n",
        "Q3=Nutrition_subsetDF['weight_in_grams'].quantile(0.75)\n",
        "IQR=Q3-Q1\n",
        "lower_bound=Nutrition_subsetDF['weight_in_grams'][Nutrition_subsetDF['weight_in_grams']<Q1-(1.5 * IQR)]\n",
        "upper_bound=Nutrition_subsetDF['weight_in_grams'][Nutrition_subsetDF['weight_in_grams']>Q3 +(1.5 * IQR)]"
      ],
      "metadata": {
        "id": "s7KxSXpyAFTI"
      },
      "execution_count": 102,
      "outputs": []
    },
    {
      "cell_type": "code",
      "source": [
        "lower_bound"
      ],
      "metadata": {
        "colab": {
          "base_uri": "https://localhost:8080/"
        },
        "id": "FVlhVFzlAg8t",
        "outputId": "064bc872-dada-4119-8fa7-19b498a27c4d"
      },
      "execution_count": 103,
      "outputs": [
        {
          "output_type": "execute_result",
          "data": {
            "text/plain": [
              "Series([], Name: weight_in_grams, dtype: float64)"
            ]
          },
          "metadata": {},
          "execution_count": 103
        }
      ]
    },
    {
      "cell_type": "code",
      "source": [
        "upper_bound"
      ],
      "metadata": {
        "colab": {
          "base_uri": "https://localhost:8080/"
        },
        "id": "qNFOrRcaAo_R",
        "outputId": "710ec0ef-f6c9-4b26-e4e9-7558bed28791"
      },
      "execution_count": 104,
      "outputs": [
        {
          "output_type": "execute_result",
          "data": {
            "text/plain": [
              "94     1110.0\n",
              "101     500.0\n",
              "107    1188.0\n",
              "109     910.0\n",
              "144    1108.0\n",
              "178    1064.0\n",
              "224    1107.0\n",
              "258    1108.0\n",
              "259    1536.0\n",
              "265     910.0\n",
              "271     514.0\n",
              "279     777.0\n",
              "280    1096.0\n",
              "286     910.0\n",
              "298    1361.0\n",
              "303     825.0\n",
              "322     840.0\n",
              "326     945.0\n",
              "334    1140.0\n",
              "336     945.0\n",
              "351     945.0\n",
              "352    1048.0\n",
              "356     945.0\n",
              "412     570.0\n",
              "446    1542.0\n",
              "650     635.0\n",
              "710     539.0\n",
              "Name: weight_in_grams, dtype: float64"
            ]
          },
          "metadata": {},
          "execution_count": 104
        }
      ]
    },
    {
      "cell_type": "code",
      "source": [
        "max(upper_bound),min(upper_bound)"
      ],
      "metadata": {
        "colab": {
          "base_uri": "https://localhost:8080/"
        },
        "id": "qDwhQW3oAq6y",
        "outputId": "6552f756-ef43-4462-d09b-fcab22764796"
      },
      "execution_count": 105,
      "outputs": [
        {
          "output_type": "execute_result",
          "data": {
            "text/plain": [
              "(1542.0, 500.0)"
            ]
          },
          "metadata": {},
          "execution_count": 105
        }
      ]
    },
    {
      "cell_type": "markdown",
      "source": [
        "### To determine the lower and upper bounds of outliers, we can see that there are no lower bound outliers because the value is 0, and the upper bound in saturated fat is 1542 and minimum in upper bound is 500."
      ],
      "metadata": {
        "id": "JxNP39wWDZjF"
      }
    },
    {
      "cell_type": "markdown",
      "source": [
        "# Detecting Outliers for weight_in_gram\n"
      ],
      "metadata": {
        "id": "RY8m_934D-Jk"
      }
    },
    {
      "cell_type": "code",
      "source": [
        "#boxplot for outliers\n",
        "\n",
        "import seaborn as sns\n",
        "sns.boxplot(Nutrition_subsetDF['weight_in_grams'])"
      ],
      "metadata": {
        "colab": {
          "base_uri": "https://localhost:8080/",
          "height": 352
        },
        "id": "JZmRlFGWAyhX",
        "outputId": "912330a4-5ac5-43e9-d554-359739a7174c"
      },
      "execution_count": 106,
      "outputs": [
        {
          "output_type": "stream",
          "name": "stderr",
          "text": [
            "/usr/local/lib/python3.7/dist-packages/seaborn/_decorators.py:43: FutureWarning: Pass the following variable as a keyword arg: x. From version 0.12, the only valid positional argument will be `data`, and passing other arguments without an explicit keyword will result in an error or misinterpretation.\n",
            "  FutureWarning\n"
          ]
        },
        {
          "output_type": "execute_result",
          "data": {
            "text/plain": [
              "<matplotlib.axes._subplots.AxesSubplot at 0x7f73ff8ae950>"
            ]
          },
          "metadata": {},
          "execution_count": 106
        },
        {
          "output_type": "display_data",
          "data": {
            "text/plain": [
              "<Figure size 432x288 with 1 Axes>"
            ],
            "image/png": "[encoded data removed]"
          },
          "metadata": {
            "needs_background": "light"
          }
        }
      ]
    },
    {
      "cell_type": "markdown",
      "source": [
        "# Using describe() method"
      ],
      "metadata": {
        "id": "8YQMPjlmC6UP"
      }
    },
    {
      "cell_type": "code",
      "source": [
        "Nutrition_subsetDF['cholesterol'].describe()"
      ],
      "metadata": {
        "colab": {
          "base_uri": "https://localhost:8080/"
        },
        "id": "3PMgKNiFBK9f",
        "outputId": "c6f881f2-2b3d-4c17-e16d-b5dc6ec7e5aa"
      },
      "execution_count": 107,
      "outputs": [
        {
          "output_type": "execute_result",
          "data": {
            "text/plain": [
              "count     961.00000\n",
              "mean       32.55359\n",
              "std       119.96059\n",
              "min         0.00000\n",
              "25%         0.00000\n",
              "50%         0.00000\n",
              "75%        20.00000\n",
              "max      2053.00000\n",
              "Name: cholesterol, dtype: float64"
            ]
          },
          "metadata": {},
          "execution_count": 107
        }
      ]
    },
    {
      "cell_type": "markdown",
      "source": [
        "### describe() returns the count, mean, standard deviation, min, quartiles, and maximum values for the specified dataframe."
      ],
      "metadata": {
        "id": "IJBYvoSFDEgK"
      }
    },
    {
      "cell_type": "markdown",
      "source": [
        "## Identifying lower and upper limit outliers"
      ],
      "metadata": {
        "id": "licNtpEXDNjM"
      }
    },
    {
      "cell_type": "code",
      "source": [
        "#lower and upper bound of outliers\n",
        "\n",
        "Q1=Nutrition_subsetDF['cholesterol'].quantile(0.25)\n",
        "Q3=Nutrition_subsetDF['cholesterol'].quantile(0.75)\n",
        "IQR=Q3-Q1\n",
        "lower_bound=Nutrition_subsetDF['cholesterol'][Nutrition_subsetDF['cholesterol']<Q1-(1.5 * IQR)]\n",
        "upper_bound=Nutrition_subsetDF['cholesterol'][Nutrition_subsetDF['cholesterol']>Q3 +(1.5 * IQR)]"
      ],
      "metadata": {
        "id": "KDR6d6emBWoY"
      },
      "execution_count": 108,
      "outputs": []
    },
    {
      "cell_type": "code",
      "source": [
        "lower_bound"
      ],
      "metadata": {
        "colab": {
          "base_uri": "https://localhost:8080/"
        },
        "id": "aX_laIaLBg8-",
        "outputId": "a59f686a-1833-423c-bfb4-b359db3d12f7"
      },
      "execution_count": 109,
      "outputs": [
        {
          "output_type": "execute_result",
          "data": {
            "text/plain": [
              "Series([], Name: cholesterol, dtype: int64)"
            ]
          },
          "metadata": {},
          "execution_count": 109
        }
      ]
    },
    {
      "cell_type": "code",
      "source": [
        "upper_bound"
      ],
      "metadata": {
        "colab": {
          "base_uri": "https://localhost:8080/"
        },
        "id": "msWn7c4fBjM0",
        "outputId": "3d635556-4be8-482c-a462-7b27c98ff590"
      },
      "execution_count": 110,
      "outputs": [
        {
          "output_type": "execute_result",
          "data": {
            "text/plain": [
              "2      247\n",
              "3      247\n",
              "7      195\n",
              "16     326\n",
              "23     119\n",
              "      ... \n",
              "507     54\n",
              "509    120\n",
              "526    135\n",
              "528     59\n",
              "555    128\n",
              "Name: cholesterol, Length: 146, dtype: int64"
            ]
          },
          "metadata": {},
          "execution_count": 110
        }
      ]
    },
    {
      "cell_type": "code",
      "source": [
        "max(upper_bound),min(upper_bound)"
      ],
      "metadata": {
        "colab": {
          "base_uri": "https://localhost:8080/"
        },
        "id": "9aYoK6wVBl5J",
        "outputId": "82cae110-7599-4a28-e771-75ec465a7acf"
      },
      "execution_count": 111,
      "outputs": [
        {
          "output_type": "execute_result",
          "data": {
            "text/plain": [
              "(2053, 51)"
            ]
          },
          "metadata": {},
          "execution_count": 111
        }
      ]
    },
    {
      "cell_type": "markdown",
      "source": [
        "### To determine the lower and upper bounds of outliers, we can see that there are no lower bound outliers because the value is 0, and the upper bound in saturated fat is 2053 and minimum in upper bound is 51."
      ],
      "metadata": {
        "id": "tauPUtTyDkdX"
      }
    },
    {
      "cell_type": "markdown",
      "source": [
        "# Detecting Outliers for cholesterol\n"
      ],
      "metadata": {
        "id": "dyZH8VfYD_-P"
      }
    },
    {
      "cell_type": "code",
      "source": [
        "#boxplot for outliers\n",
        "\n",
        "import seaborn as sns\n",
        "sns.boxplot(Nutrition_subsetDF['cholesterol'])"
      ],
      "metadata": {
        "colab": {
          "base_uri": "https://localhost:8080/",
          "height": 351
        },
        "id": "T0JQGr7nBqY3",
        "outputId": "98183c62-9479-4af1-afd1-7040fa6b9376"
      },
      "execution_count": 112,
      "outputs": [
        {
          "output_type": "stream",
          "name": "stderr",
          "text": [
            "/usr/local/lib/python3.7/dist-packages/seaborn/_decorators.py:43: FutureWarning: Pass the following variable as a keyword arg: x. From version 0.12, the only valid positional argument will be `data`, and passing other arguments without an explicit keyword will result in an error or misinterpretation.\n",
            "  FutureWarning\n"
          ]
        },
        {
          "output_type": "execute_result",
          "data": {
            "text/plain": [
              "<matplotlib.axes._subplots.AxesSubplot at 0x7f73ff7c1c90>"
            ]
          },
          "metadata": {},
          "execution_count": 112
        },
        {
          "output_type": "display_data",
          "data": {
            "text/plain": [
              "<Figure size 432x288 with 1 Axes>"
            ],
            "image/png": "[encoded data removed]"
          },
          "metadata": {
            "needs_background": "light"
          }
        }
      ]
    },
    {
      "cell_type": "markdown",
      "source": [
        "# Summary\n",
        "\n",
        "*   We can see that 'Cheese cake' has the greatest saturated fat after sorting the data set by saturated fat.\n",
        "*   We can see that 'Butter,salted and Butter,unsalted' have the same saturated fat per gram and have the greatest saturated fat per gram after sorting the data set by saturated fat per gram.\n",
        "*  The 'saturated fat per gram' variable has outliers; the lower limit has none, while the upper bound extreme outlier is 0.507.\n",
        "*  There are no values that are missing.\n",
        "*  The 'saturated fat' variable has outliers; the lower limit has none, while the upper bound extreme outlier is 119.9.\n",
        "*  The 'weight_in_grams' variable has outliers; the lower limit has none, while the upper bound extreme outlier is 1542.\n",
        "* The 'cholesterol' variable has outliers; the lower limit has none, while the upper bound extreme outlier is 2053.\n",
        "\n",
        "\n",
        "\n",
        "\n",
        "\n",
        "\n",
        "\n",
        "\n",
        "\n",
        "\n"
      ],
      "metadata": {
        "id": "gRXS4qe7A64z"
      }
    }
  ]
}