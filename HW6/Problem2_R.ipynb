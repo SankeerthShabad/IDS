{
  "nbformat": 4,
  "nbformat_minor": 0,
  "metadata": {
    "colab": {
      "name": "Problem2_R.ipynb",
      "provenance": [],
      "collapsed_sections": [],
      "authorship_tag": "ABX9TyNr76o30p3iFbnOVVYMb6Nk",
      "include_colab_link": true
    },
    "kernelspec": {
      "name": "ir",
      "display_name": "R"
    },
    "language_info": {
      "name": "R"
    }
  },
  "cells": [
    {
      "cell_type": "markdown",
      "metadata": {
        "id": "view-in-github",
        "colab_type": "text"
      },
      "source": [
        "<a href=\"https://colab.research.google.com/github/SankeerthShabad/IDS/blob/main/HW6/Problem2_R.ipynb\" target=\"_parent\"><img src=\"https://colab.research.google.com/assets/colab-badge.svg\" alt=\"Open In Colab\"/></a>"
      ]
    },
    {
      "cell_type": "markdown",
      "source": [
        "# Importing Test and Training dataset"
      ],
      "metadata": {
        "id": "EnHbrqKLavA4"
      }
    },
    {
      "cell_type": "code",
      "source": [
        "# importing data sets, test and training\n",
        "\n",
        "library(readr)\n",
        "Loans_TestDF <- read_csv(\"https://raw.githubusercontent.com/SankeerthShabad/IDS/main/HW6/Loans_Test.csv\")\n",
        "Loans_TrainingDF <- read_csv(\"https://raw.githubusercontent.com/SankeerthShabad/IDS/main/HW6/Loans_Training.csv\")"
      ],
      "metadata": {
        "colab": {
          "base_uri": "https://localhost:8080/"
        },
        "id": "wGoGxn66fk8U",
        "outputId": "98f9e19c-5589-41d7-ef7f-32ad9c63b09b"
      },
      "execution_count": 1,
      "outputs": [
        {
          "output_type": "stream",
          "name": "stderr",
          "text": [
            "\u001b[1mRows: \u001b[22m\u001b[34m49698\u001b[39m \u001b[1mColumns: \u001b[22m\u001b[34m5\u001b[39m\n",
            "\u001b[36m──\u001b[39m \u001b[1mColumn specification\u001b[22m \u001b[36m────────────────────────────────────────────────────────\u001b[39m\n",
            "\u001b[1mDelimiter:\u001b[22m \",\"\n",
            "\u001b[32mdbl\u001b[39m (4): Debt_to_Income_Ratio, FICO_Score, Request_Amount, Interest\n",
            "\u001b[33mlgl\u001b[39m (1): Approval\n",
            "\n",
            "\u001b[36mℹ\u001b[39m Use `spec()` to retrieve the full column specification for this data.\n",
            "\u001b[36mℹ\u001b[39m Specify the column types or set `show_col_types = FALSE` to quiet this message.\n",
            "\u001b[1mRows: \u001b[22m\u001b[34m150302\u001b[39m \u001b[1mColumns: \u001b[22m\u001b[34m5\u001b[39m\n",
            "\u001b[36m──\u001b[39m \u001b[1mColumn specification\u001b[22m \u001b[36m────────────────────────────────────────────────────────\u001b[39m\n",
            "\u001b[1mDelimiter:\u001b[22m \",\"\n",
            "\u001b[32mdbl\u001b[39m (4): Debt_to_Income_Ratio, FICO_Score, Request_Amount, Interest\n",
            "\u001b[33mlgl\u001b[39m (1): Approval\n",
            "\n",
            "\u001b[36mℹ\u001b[39m Use `spec()` to retrieve the full column specification for this data.\n",
            "\u001b[36mℹ\u001b[39m Specify the column types or set `show_col_types = FALSE` to quiet this message.\n"
          ]
        }
      ]
    },
    {
      "cell_type": "markdown",
      "source": [
        "### After importing Test and Training data sets there are 49698 Test data and 150302 Training data."
      ],
      "metadata": {
        "id": "uCbU0ZPubEip"
      }
    },
    {
      "cell_type": "markdown",
      "source": [
        "# Using head function for Test and Training"
      ],
      "metadata": {
        "id": "iYwHYrAxbVE2"
      }
    },
    {
      "cell_type": "code",
      "source": [
        "# head of test and training\n",
        "\n",
        "head(Loans_TestDF)\n",
        "head(Loans_TrainingDF)"
      ],
      "metadata": {
        "colab": {
          "base_uri": "https://localhost:8080/",
          "height": 556
        },
        "id": "7ha2u8sHfozu",
        "outputId": "f15f0285-cdce-417d-bb22-882aa0b423e9"
      },
      "execution_count": 2,
      "outputs": [
        {
          "output_type": "display_data",
          "data": {
            "text/html": [
              "<table class=\"dataframe\">\n",
              "<caption>A tibble: 6 × 5</caption>\n",
              "<thead>\n",
              "\t<tr><th scope=col>Approval</th><th scope=col>Debt_to_Income_Ratio</th><th scope=col>FICO_Score</th><th scope=col>Request_Amount</th><th scope=col>Interest</th></tr>\n",
              "\t<tr><th scope=col>&lt;lgl&gt;</th><th scope=col>&lt;dbl&gt;</th><th scope=col>&lt;dbl&gt;</th><th scope=col>&lt;dbl&gt;</th><th scope=col>&lt;dbl&gt;</th></tr>\n",
              "</thead>\n",
              "<tbody>\n",
              "\t<tr><td>FALSE</td><td>0</td><td>413</td><td>2000</td><td> 900</td></tr>\n",
              "\t<tr><td>FALSE</td><td>0</td><td>449</td><td>1000</td><td> 450</td></tr>\n",
              "\t<tr><td>FALSE</td><td>0</td><td>454</td><td>6000</td><td>2700</td></tr>\n",
              "\t<tr><td>FALSE</td><td>0</td><td>456</td><td>1000</td><td> 450</td></tr>\n",
              "\t<tr><td>FALSE</td><td>0</td><td>457</td><td>1000</td><td> 450</td></tr>\n",
              "\t<tr><td>FALSE</td><td>0</td><td>457</td><td>8000</td><td>3600</td></tr>\n",
              "</tbody>\n",
              "</table>\n"
            ],
            "text/markdown": "\nA tibble: 6 × 5\n\n| Approval &lt;lgl&gt; | Debt_to_Income_Ratio &lt;dbl&gt; | FICO_Score &lt;dbl&gt; | Request_Amount &lt;dbl&gt; | Interest &lt;dbl&gt; |\n|---|---|---|---|---|\n| FALSE | 0 | 413 | 2000 |  900 |\n| FALSE | 0 | 449 | 1000 |  450 |\n| FALSE | 0 | 454 | 6000 | 2700 |\n| FALSE | 0 | 456 | 1000 |  450 |\n| FALSE | 0 | 457 | 1000 |  450 |\n| FALSE | 0 | 457 | 8000 | 3600 |\n\n",
            "text/latex": "A tibble: 6 × 5\n\\begin{tabular}{lllll}\n Approval & Debt\\_to\\_Income\\_Ratio & FICO\\_Score & Request\\_Amount & Interest\\\\\n <lgl> & <dbl> & <dbl> & <dbl> & <dbl>\\\\\n\\hline\n\t FALSE & 0 & 413 & 2000 &  900\\\\\n\t FALSE & 0 & 449 & 1000 &  450\\\\\n\t FALSE & 0 & 454 & 6000 & 2700\\\\\n\t FALSE & 0 & 456 & 1000 &  450\\\\\n\t FALSE & 0 & 457 & 1000 &  450\\\\\n\t FALSE & 0 & 457 & 8000 & 3600\\\\\n\\end{tabular}\n",
            "text/plain": [
              "  Approval Debt_to_Income_Ratio FICO_Score Request_Amount Interest\n",
              "1 FALSE    0                    413        2000            900    \n",
              "2 FALSE    0                    449        1000            450    \n",
              "3 FALSE    0                    454        6000           2700    \n",
              "4 FALSE    0                    456        1000            450    \n",
              "5 FALSE    0                    457        1000            450    \n",
              "6 FALSE    0                    457        8000           3600    "
            ]
          },
          "metadata": {}
        },
        {
          "output_type": "display_data",
          "data": {
            "text/html": [
              "<table class=\"dataframe\">\n",
              "<caption>A tibble: 6 × 5</caption>\n",
              "<thead>\n",
              "\t<tr><th scope=col>Approval</th><th scope=col>Debt_to_Income_Ratio</th><th scope=col>FICO_Score</th><th scope=col>Request_Amount</th><th scope=col>Interest</th></tr>\n",
              "\t<tr><th scope=col>&lt;lgl&gt;</th><th scope=col>&lt;dbl&gt;</th><th scope=col>&lt;dbl&gt;</th><th scope=col>&lt;dbl&gt;</th><th scope=col>&lt;dbl&gt;</th></tr>\n",
              "</thead>\n",
              "<tbody>\n",
              "\t<tr><td>FALSE</td><td>0</td><td>397</td><td>1000</td><td> 450</td></tr>\n",
              "\t<tr><td>FALSE</td><td>0</td><td>403</td><td> 500</td><td> 225</td></tr>\n",
              "\t<tr><td>FALSE</td><td>0</td><td>408</td><td>1000</td><td> 450</td></tr>\n",
              "\t<tr><td>FALSE</td><td>0</td><td>408</td><td>2000</td><td> 900</td></tr>\n",
              "\t<tr><td>FALSE</td><td>0</td><td>411</td><td>5000</td><td>2250</td></tr>\n",
              "\t<tr><td>FALSE</td><td>0</td><td>413</td><td>5000</td><td>2250</td></tr>\n",
              "</tbody>\n",
              "</table>\n"
            ],
            "text/markdown": "\nA tibble: 6 × 5\n\n| Approval &lt;lgl&gt; | Debt_to_Income_Ratio &lt;dbl&gt; | FICO_Score &lt;dbl&gt; | Request_Amount &lt;dbl&gt; | Interest &lt;dbl&gt; |\n|---|---|---|---|---|\n| FALSE | 0 | 397 | 1000 |  450 |\n| FALSE | 0 | 403 |  500 |  225 |\n| FALSE | 0 | 408 | 1000 |  450 |\n| FALSE | 0 | 408 | 2000 |  900 |\n| FALSE | 0 | 411 | 5000 | 2250 |\n| FALSE | 0 | 413 | 5000 | 2250 |\n\n",
            "text/latex": "A tibble: 6 × 5\n\\begin{tabular}{lllll}\n Approval & Debt\\_to\\_Income\\_Ratio & FICO\\_Score & Request\\_Amount & Interest\\\\\n <lgl> & <dbl> & <dbl> & <dbl> & <dbl>\\\\\n\\hline\n\t FALSE & 0 & 397 & 1000 &  450\\\\\n\t FALSE & 0 & 403 &  500 &  225\\\\\n\t FALSE & 0 & 408 & 1000 &  450\\\\\n\t FALSE & 0 & 408 & 2000 &  900\\\\\n\t FALSE & 0 & 411 & 5000 & 2250\\\\\n\t FALSE & 0 & 413 & 5000 & 2250\\\\\n\\end{tabular}\n",
            "text/plain": [
              "  Approval Debt_to_Income_Ratio FICO_Score Request_Amount Interest\n",
              "1 FALSE    0                    397        1000            450    \n",
              "2 FALSE    0                    403         500            225    \n",
              "3 FALSE    0                    408        1000            450    \n",
              "4 FALSE    0                    408        2000            900    \n",
              "5 FALSE    0                    411        5000           2250    \n",
              "6 FALSE    0                    413        5000           2250    "
            ]
          },
          "metadata": {}
        }
      ]
    },
    {
      "cell_type": "markdown",
      "source": [
        "### After using the head function, we can observe 5 column names in the test and training data set."
      ],
      "metadata": {
        "id": "014WrInjbd7T"
      }
    },
    {
      "cell_type": "markdown",
      "source": [
        "# Using str for Test and Training data"
      ],
      "metadata": {
        "id": "4AVUWDHidGKL"
      }
    },
    {
      "cell_type": "code",
      "source": [
        "str(Loans_TestDF)"
      ],
      "metadata": {
        "colab": {
          "base_uri": "https://localhost:8080/"
        },
        "id": "LefGMPEXf5n6",
        "outputId": "4af5b456-29f7-4397-977c-cd832cd61fd9"
      },
      "execution_count": 3,
      "outputs": [
        {
          "output_type": "stream",
          "name": "stdout",
          "text": [
            "spec_tbl_df [49,698 × 5] (S3: spec_tbl_df/tbl_df/tbl/data.frame)\n",
            " $ Approval            : logi [1:49698] FALSE FALSE FALSE FALSE FALSE FALSE ...\n",
            " $ Debt_to_Income_Ratio: num [1:49698] 0 0 0 0 0 0 0 0 0 0 ...\n",
            " $ FICO_Score          : num [1:49698] 413 449 454 456 457 457 459 461 461 462 ...\n",
            " $ Request_Amount      : num [1:49698] 2000 1000 6000 1000 1000 8000 8000 500 6000 19000 ...\n",
            " $ Interest            : num [1:49698] 900 450 2700 450 450 3600 3600 225 2700 8550 ...\n",
            " - attr(*, \"spec\")=\n",
            "  .. cols(\n",
            "  ..   Approval = \u001b[33mcol_logical()\u001b[39m,\n",
            "  ..   Debt_to_Income_Ratio = \u001b[32mcol_double()\u001b[39m,\n",
            "  ..   FICO_Score = \u001b[32mcol_double()\u001b[39m,\n",
            "  ..   Request_Amount = \u001b[32mcol_double()\u001b[39m,\n",
            "  ..   Interest = \u001b[32mcol_double()\u001b[39m\n",
            "  .. )\n",
            " - attr(*, \"problems\")=<externalptr> \n"
          ]
        }
      ]
    },
    {
      "cell_type": "code",
      "source": [
        "str(Loans_TrainingDF)"
      ],
      "metadata": {
        "colab": {
          "base_uri": "https://localhost:8080/"
        },
        "id": "zKUaCMx4gVCJ",
        "outputId": "79554ba0-058f-4015-e28b-05d86a2d8335"
      },
      "execution_count": 4,
      "outputs": [
        {
          "output_type": "stream",
          "name": "stdout",
          "text": [
            "spec_tbl_df [150,302 × 5] (S3: spec_tbl_df/tbl_df/tbl/data.frame)\n",
            " $ Approval            : logi [1:150302] FALSE FALSE FALSE FALSE FALSE FALSE ...\n",
            " $ Debt_to_Income_Ratio: num [1:150302] 0 0 0 0 0 0 0 0 0 0 ...\n",
            " $ FICO_Score          : num [1:150302] 397 403 408 408 411 413 416 421 422 432 ...\n",
            " $ Request_Amount      : num [1:150302] 1000 500 1000 2000 5000 5000 6000 2000 12000 10000 ...\n",
            " $ Interest            : num [1:150302] 450 225 450 900 2250 2250 2700 900 5400 4500 ...\n",
            " - attr(*, \"spec\")=\n",
            "  .. cols(\n",
            "  ..   Approval = \u001b[33mcol_logical()\u001b[39m,\n",
            "  ..   Debt_to_Income_Ratio = \u001b[32mcol_double()\u001b[39m,\n",
            "  ..   FICO_Score = \u001b[32mcol_double()\u001b[39m,\n",
            "  ..   Request_Amount = \u001b[32mcol_double()\u001b[39m,\n",
            "  ..   Interest = \u001b[32mcol_double()\u001b[39m\n",
            "  .. )\n",
            " - attr(*, \"problems\")=<externalptr> \n"
          ]
        }
      ]
    },
    {
      "cell_type": "markdown",
      "source": [
        "### str() is used to check internal structure of the Test and Training data set"
      ],
      "metadata": {
        "id": "_kwifUQmdM-5"
      }
    },
    {
      "cell_type": "markdown",
      "source": [
        "# Checking missing values of Test and Training"
      ],
      "metadata": {
        "id": "BD_khALWdiX9"
      }
    },
    {
      "cell_type": "code",
      "source": [
        "sum(is.na(Loans_TestDF))\n",
        "sum(is.na(Loans_TrainingDF))"
      ],
      "metadata": {
        "colab": {
          "base_uri": "https://localhost:8080/",
          "height": 52
        },
        "id": "oo4RCrUegkec",
        "outputId": "4dfceba1-a33f-4db8-c735-d1cfac8767f2"
      },
      "execution_count": 5,
      "outputs": [
        {
          "output_type": "display_data",
          "data": {
            "text/html": [
              "0"
            ],
            "text/markdown": "0",
            "text/latex": "0",
            "text/plain": [
              "[1] 0"
            ]
          },
          "metadata": {}
        },
        {
          "output_type": "display_data",
          "data": {
            "text/html": [
              "0"
            ],
            "text/markdown": "0",
            "text/latex": "0",
            "text/plain": [
              "[1] 0"
            ]
          },
          "metadata": {}
        }
      ]
    },
    {
      "cell_type": "markdown",
      "source": [
        "### As we can see there is no missing values in Test and Training data set."
      ],
      "metadata": {
        "id": "ucHAyS70doe2"
      }
    },
    {
      "cell_type": "markdown",
      "source": [
        "# prop.table() function for test and training data"
      ],
      "metadata": {
        "id": "vrw8T-xp6hFp"
      }
    },
    {
      "cell_type": "code",
      "source": [
        "prop.table(table(Loans_TestDF$Approval))\n",
        "prop.table(table(Loans_TrainingDF$Approval))"
      ],
      "metadata": {
        "colab": {
          "base_uri": "https://localhost:8080/",
          "height": 121
        },
        "id": "lhGTc7XwlvDX",
        "outputId": "8eba25a4-148e-4080-bc6c-a0a6a8688c58"
      },
      "execution_count": 6,
      "outputs": [
        {
          "output_type": "display_data",
          "data": {
            "text/plain": [
              "\n",
              "    FALSE      TRUE \n",
              "0.5017103 0.4982897 "
            ]
          },
          "metadata": {}
        },
        {
          "output_type": "display_data",
          "data": {
            "text/plain": [
              "\n",
              "    FALSE      TRUE \n",
              "0.4994345 0.5005655 "
            ]
          },
          "metadata": {}
        }
      ]
    },
    {
      "cell_type": "markdown",
      "source": [
        "### Fraction of Test and Training Approval. We can observe there are 0.5 false rate and 0.49 true rate in test data and 0.49 and 0.50 rate in Training rate."
      ],
      "metadata": {
        "id": "wYL7KytN7PP0"
      }
    },
    {
      "cell_type": "markdown",
      "source": [
        "# rpart.plot, party, caret packages"
      ],
      "metadata": {
        "id": "pMojqcr-75eV"
      }
    },
    {
      "cell_type": "code",
      "source": [
        "# Installing required packages\n",
        "\n",
        "install.packages('rpart.plot')\n",
        "install.packages('party')\n",
        "install.packages(\"caret\")"
      ],
      "metadata": {
        "colab": {
          "base_uri": "https://localhost:8080/"
        },
        "id": "dirG2CbWYEXm",
        "outputId": "5079f20a-dc88-4f3c-ee34-4a03574dd8d4"
      },
      "execution_count": 7,
      "outputs": [
        {
          "output_type": "stream",
          "name": "stderr",
          "text": [
            "Installing package into ‘/usr/local/lib/R/site-library’\n",
            "(as ‘lib’ is unspecified)\n",
            "\n",
            "Installing package into ‘/usr/local/lib/R/site-library’\n",
            "(as ‘lib’ is unspecified)\n",
            "\n",
            "also installing the dependencies ‘TH.data’, ‘libcoin’, ‘matrixStats’, ‘multcomp’, ‘mvtnorm’, ‘modeltools’, ‘strucchange’, ‘coin’, ‘zoo’, ‘sandwich’\n",
            "\n",
            "\n",
            "Installing package into ‘/usr/local/lib/R/site-library’\n",
            "(as ‘lib’ is unspecified)\n",
            "\n",
            "also installing the dependencies ‘listenv’, ‘parallelly’, ‘future’, ‘globals’, ‘future.apply’, ‘progressr’, ‘numDeriv’, ‘SQUAREM’, ‘lava’, ‘prodlim’, ‘proxy’, ‘iterators’, ‘Rcpp’, ‘gower’, ‘hardhat’, ‘ipred’, ‘timeDate’, ‘e1071’, ‘foreach’, ‘ModelMetrics’, ‘plyr’, ‘pROC’, ‘recipes’, ‘reshape2’\n",
            "\n",
            "\n"
          ]
        }
      ]
    },
    {
      "cell_type": "code",
      "source": [
        "# Library for rpart,rpart.plot,party,caret\n",
        "\n",
        "library(rpart)\n",
        "library(rpart.plot)\n",
        "library(party)\n",
        "library(caret)"
      ],
      "metadata": {
        "colab": {
          "base_uri": "https://localhost:8080/"
        },
        "id": "3ct4iZVdYNTe",
        "outputId": "e85ccf34-1153-4784-975f-3741698a1177"
      },
      "execution_count": 8,
      "outputs": [
        {
          "output_type": "stream",
          "name": "stderr",
          "text": [
            "Loading required package: grid\n",
            "\n",
            "Loading required package: mvtnorm\n",
            "\n",
            "Loading required package: modeltools\n",
            "\n",
            "Loading required package: stats4\n",
            "\n",
            "Loading required package: strucchange\n",
            "\n",
            "Loading required package: zoo\n",
            "\n",
            "\n",
            "Attaching package: ‘zoo’\n",
            "\n",
            "\n",
            "The following objects are masked from ‘package:base’:\n",
            "\n",
            "    as.Date, as.Date.numeric\n",
            "\n",
            "\n",
            "Loading required package: sandwich\n",
            "\n",
            "Loading required package: ggplot2\n",
            "\n",
            "Loading required package: lattice\n",
            "\n",
            "Warning message in system(\"timedatectl\", intern = TRUE):\n",
            "“running command 'timedatectl' had status 1”\n"
          ]
        }
      ]
    },
    {
      "cell_type": "markdown",
      "source": [
        "# CART model and Visualizing the Decision tree"
      ],
      "metadata": {
        "id": "fUofucok8V_r"
      }
    },
    {
      "cell_type": "code",
      "source": [
        "#\n",
        "\n",
        "set.seed(100)\n",
        "model1_CART <- rpart(Approval ~., data = Loans_TrainingDF, method = \"class\")\n",
        "model1_CART\n",
        "\n",
        "# Plot the trees\n",
        "par(xpd = NA) # Avoid clipping the text in some device\n",
        "rpart.plot(model1_CART)\n",
        "#text(model1_CART, digits = 2)"
      ],
      "metadata": {
        "colab": {
          "base_uri": "https://localhost:8080/",
          "height": 610
        },
        "id": "7av6lHBmji6s",
        "outputId": "3e5e13fe-9414-434e-8521-ae4e3ec51ecb"
      },
      "execution_count": 9,
      "outputs": [
        {
          "output_type": "display_data",
          "data": {
            "text/plain": [
              "n= 150302 \n",
              "\n",
              "node), split, n, loss, yval, (yprob)\n",
              "      * denotes terminal node\n",
              "\n",
              "1) root 150302 75066 TRUE (0.49943447 0.50056553)  \n",
              "  2) FICO_Score< 659.5 46002  1808 FALSE (0.96069736 0.03930264) *\n",
              "  3) FICO_Score>=659.5 104300 30872 TRUE (0.29599233 0.70400767)  \n",
              "    6) Debt_to_Income_Ratio>=0.305 12873  1679 FALSE (0.86957197 0.13042803) *\n",
              "    7) Debt_to_Income_Ratio< 0.305 91427 19678 TRUE (0.21523182 0.78476818) *"
            ]
          },
          "metadata": {}
        },
        {
          "output_type": "display_data",
          "data": {
            "text/plain": [
              "plot without title"
            ],
            "image/png": "[encoded data removed]"
          },
          "metadata": {
            "image/png": {
              "width": 420,
              "height": 420
            }
          }
        }
      ]
    },
    {
      "cell_type": "markdown",
      "source": [
        "**CART MODEL:**\n",
        "* If FICO score is higher than 660 and debt-to-income ratio is more than 0.305, your loan will be authorized.\n",
        "\n",
        "* If FICO score is higher than 660 but debt-to-income ratio is less than 0.305, your loan will be denied.\n",
        "\n",
        "* If FICO score is less than 660, loan application will be denied.\n",
        "\n",
        "**Decision tree:**\n",
        "\n",
        "*   Nodes divided into two where FICO score is higher than 660 and another node lower than 660\n",
        "*   Nodes divided into two where FICO score is higher than 660 and debt-to-income ratio is more than 0.305 and another node lower than 0.305\n",
        "\n",
        "\n",
        "\n",
        "\n",
        "\n",
        "\n",
        "\n"
      ],
      "metadata": {
        "id": "DuhsXDZZ9ApK"
      }
    },
    {
      "cell_type": "markdown",
      "source": [
        "# Using predict"
      ],
      "metadata": {
        "id": "htu-iho969rA"
      }
    },
    {
      "cell_type": "code",
      "source": [
        "pred_CART <- predict(model1_CART, Loans_TestDF, 'class')\n",
        "head(pred_CART)"
      ],
      "metadata": {
        "colab": {
          "base_uri": "https://localhost:8080/",
          "height": 52
        },
        "id": "HO77RSpCddBv",
        "outputId": "af79c738-bcea-475b-c39b-018676f01f8b"
      },
      "execution_count": 10,
      "outputs": [
        {
          "output_type": "display_data",
          "data": {
            "text/html": [
              "<style>\n",
              ".dl-inline {width: auto; margin:0; padding: 0}\n",
              ".dl-inline>dt, .dl-inline>dd {float: none; width: auto; display: inline-block}\n",
              ".dl-inline>dt::after {content: \":\\0020\"; padding-right: .5ex}\n",
              ".dl-inline>dt:not(:first-of-type) {padding-left: .5ex}\n",
              "</style><dl class=dl-inline><dt>1</dt><dd>FALSE</dd><dt>2</dt><dd>FALSE</dd><dt>3</dt><dd>FALSE</dd><dt>4</dt><dd>FALSE</dd><dt>5</dt><dd>FALSE</dd><dt>6</dt><dd>FALSE</dd></dl>\n",
              "\n",
              "<details>\n",
              "\t<summary style=display:list-item;cursor:pointer>\n",
              "\t\t<strong>Levels</strong>:\n",
              "\t</summary>\n",
              "\t<style>\n",
              "\t.list-inline {list-style: none; margin:0; padding: 0}\n",
              "\t.list-inline>li {display: inline-block}\n",
              "\t.list-inline>li:not(:last-child)::after {content: \"\\00b7\"; padding: 0 .5ex}\n",
              "\t</style>\n",
              "\t<ol class=list-inline><li>'FALSE'</li><li>'TRUE'</li></ol>\n",
              "</details>"
            ],
            "text/markdown": "1\n:   FALSE2\n:   FALSE3\n:   FALSE4\n:   FALSE5\n:   FALSE6\n:   FALSE\n\n\n**Levels**: 1. 'FALSE'\n2. 'TRUE'\n\n\n",
            "text/latex": "\\begin{description*}\n\\item[1] FALSE\n\\item[2] FALSE\n\\item[3] FALSE\n\\item[4] FALSE\n\\item[5] FALSE\n\\item[6] FALSE\n\\end{description*}\n\n\\emph{Levels}: \\begin{enumerate*}\n\\item 'FALSE'\n\\item 'TRUE'\n\\end{enumerate*}\n",
            "text/plain": [
              "    1     2     3     4     5     6 \n",
              "FALSE FALSE FALSE FALSE FALSE FALSE \n",
              "Levels: FALSE TRUE"
            ]
          },
          "metadata": {}
        }
      ]
    },
    {
      "cell_type": "markdown",
      "source": [
        "# Confusion Matrix"
      ],
      "metadata": {
        "id": "6Hzo2kfd7F4I"
      }
    },
    {
      "cell_type": "code",
      "source": [
        "# Confusion Matrix\n",
        "\n",
        "confusionMatrix(table(Loans_TestDF$Approval, pred_CART))"
      ],
      "metadata": {
        "colab": {
          "base_uri": "https://localhost:8080/",
          "height": 486
        },
        "id": "JsCmUVxdqK5H",
        "outputId": "25711bd6-dc3d-4524-a354-6659f2d00640"
      },
      "execution_count": 11,
      "outputs": [
        {
          "output_type": "display_data",
          "data": {
            "text/plain": [
              "Confusion Matrix and Statistics\n",
              "\n",
              "       pred_CART\n",
              "        FALSE  TRUE\n",
              "  FALSE 18314  6620\n",
              "  TRUE   1171 23593\n",
              "                                        \n",
              "               Accuracy : 0.8432        \n",
              "                 95% CI : (0.84, 0.8464)\n",
              "    No Information Rate : 0.6079        \n",
              "    P-Value [Acc > NIR] : < 2.2e-16     \n",
              "                                        \n",
              "                  Kappa : 0.6867        \n",
              "                                        \n",
              " Mcnemar's Test P-Value : < 2.2e-16     \n",
              "                                        \n",
              "            Sensitivity : 0.9399        \n",
              "            Specificity : 0.7809        \n",
              "         Pos Pred Value : 0.7345        \n",
              "         Neg Pred Value : 0.9527        \n",
              "             Prevalence : 0.3921        \n",
              "         Detection Rate : 0.3685        \n",
              "   Detection Prevalence : 0.5017        \n",
              "      Balanced Accuracy : 0.8604        \n",
              "                                        \n",
              "       'Positive' Class : FALSE         \n",
              "                                        "
            ]
          },
          "metadata": {}
        }
      ]
    },
    {
      "cell_type": "markdown",
      "source": [
        "### We can see that the true positive is 23593, the false positive is 1171, the false negative is 6620, and the true negative is 18314. We can also see that the accuracy is 84 percent and that the sensitivity and specificity are also high."
      ],
      "metadata": {
        "id": "ZF1YGlgu7Jrq"
      }
    },
    {
      "cell_type": "code",
      "source": [
        "#accuarcy for cart model\n",
        "CART_Accuracy <- sum(pred_CART == Loans_TestDF$Approval)/ length(pred_CART)\n",
        "cat('CART Model Accuracy :',CART_Accuracy * 100)"
      ],
      "metadata": {
        "colab": {
          "base_uri": "https://localhost:8080/"
        },
        "id": "mmdMQsRJAkpm",
        "outputId": "66ccc5a0-f413-4a69-8e02-bbd1f628a722"
      },
      "execution_count": 26,
      "outputs": [
        {
          "output_type": "stream",
          "name": "stdout",
          "text": [
            "CART Model Accuracy : 84.32331"
          ]
        }
      ]
    },
    {
      "cell_type": "markdown",
      "source": [
        "# Using as.factor() function"
      ],
      "metadata": {
        "id": "GD_QlWm3_COv"
      }
    },
    {
      "cell_type": "code",
      "source": [
        "# as.factor() function\n",
        "\n",
        "Loans_TrainingDF$Approval = as.factor(Loans_TrainingDF$Approval)\n",
        "head(Loans_TrainingDF$Approval)"
      ],
      "metadata": {
        "colab": {
          "base_uri": "https://localhost:8080/",
          "height": 52
        },
        "id": "zj96zonC2lPB",
        "outputId": "d35e39ea-d848-425c-e567-b6133c90cce7"
      },
      "execution_count": 16,
      "outputs": [
        {
          "output_type": "display_data",
          "data": {
            "text/html": [
              "<style>\n",
              ".list-inline {list-style: none; margin:0; padding: 0}\n",
              ".list-inline>li {display: inline-block}\n",
              ".list-inline>li:not(:last-child)::after {content: \"\\00b7\"; padding: 0 .5ex}\n",
              "</style>\n",
              "<ol class=list-inline><li>FALSE</li><li>FALSE</li><li>FALSE</li><li>FALSE</li><li>FALSE</li><li>FALSE</li></ol>\n",
              "\n",
              "<details>\n",
              "\t<summary style=display:list-item;cursor:pointer>\n",
              "\t\t<strong>Levels</strong>:\n",
              "\t</summary>\n",
              "\t<style>\n",
              "\t.list-inline {list-style: none; margin:0; padding: 0}\n",
              "\t.list-inline>li {display: inline-block}\n",
              "\t.list-inline>li:not(:last-child)::after {content: \"\\00b7\"; padding: 0 .5ex}\n",
              "\t</style>\n",
              "\t<ol class=list-inline><li>'FALSE'</li><li>'TRUE'</li></ol>\n",
              "</details>"
            ],
            "text/markdown": "1. FALSE\n2. FALSE\n3. FALSE\n4. FALSE\n5. FALSE\n6. FALSE\n\n\n\n**Levels**: 1. 'FALSE'\n2. 'TRUE'\n\n\n",
            "text/latex": "\\begin{enumerate*}\n\\item FALSE\n\\item FALSE\n\\item FALSE\n\\item FALSE\n\\item FALSE\n\\item FALSE\n\\end{enumerate*}\n\n\\emph{Levels}: \\begin{enumerate*}\n\\item 'FALSE'\n\\item 'TRUE'\n\\end{enumerate*}\n",
            "text/plain": [
              "[1] FALSE FALSE FALSE FALSE FALSE FALSE\n",
              "Levels: FALSE TRUE"
            ]
          },
          "metadata": {}
        }
      ]
    },
    {
      "cell_type": "code",
      "source": [
        "install.packages('C50')\n",
        "library(C50)\n"
      ],
      "metadata": {
        "colab": {
          "base_uri": "https://localhost:8080/"
        },
        "id": "-1OdSBqDX3NM",
        "outputId": "022cb245-82cf-402a-8c07-20189b419b25"
      },
      "execution_count": 13,
      "outputs": [
        {
          "output_type": "stream",
          "name": "stderr",
          "text": [
            "Installing package into ‘/usr/local/lib/R/site-library’\n",
            "(as ‘lib’ is unspecified)\n",
            "\n",
            "also installing the dependencies ‘Formula’, ‘inum’, ‘partykit’, ‘Cubist’\n",
            "\n",
            "\n"
          ]
        }
      ]
    },
    {
      "cell_type": "markdown",
      "source": [
        "# C5.0 Model"
      ],
      "metadata": {
        "id": "lxca9FXF_J0t"
      }
    },
    {
      "cell_type": "code",
      "source": [
        "# model C5.0\n",
        "\n",
        "model2_c5 =C5.0(Loans_TrainingDF[,-1], Loans_TrainingDF$Approval, control = C5.0Control(minCases=1000))\n",
        "model2_c5"
      ],
      "metadata": {
        "colab": {
          "base_uri": "https://localhost:8080/",
          "height": 225
        },
        "id": "d3CcfQnNuV7N",
        "outputId": "f0d640c6-1a6f-4737-a14d-0544cde64e3a"
      },
      "execution_count": 17,
      "outputs": [
        {
          "output_type": "display_data",
          "data": {
            "text/plain": [
              "\n",
              "Call:\n",
              "C5.0.default(x = Loans_TrainingDF[, -1], y = Loans_TrainingDF$Approval,\n",
              " control = C5.0Control(minCases = 1000))\n",
              "\n",
              "Classification Tree\n",
              "Number of samples: 150302 \n",
              "Number of predictors: 4 \n",
              "\n",
              "Tree size: 8 \n",
              "\n",
              "Non-standard options: attempt to group attributes, minimum number of cases: 1000\n"
            ]
          },
          "metadata": {}
        }
      ]
    },
    {
      "cell_type": "markdown",
      "source": [
        "### We can see from the result that the number of samples is 150302, the number of predictors is 4, and the tree size is 8; from the output, we can display the decision tree."
      ],
      "metadata": {
        "id": "XPT0wWi__NiS"
      }
    },
    {
      "cell_type": "markdown",
      "source": [
        "# Ploting tree for C5.0 model"
      ],
      "metadata": {
        "id": "I9azYPpF_hWr"
      }
    },
    {
      "cell_type": "code",
      "source": [
        "plot(model2_c5)"
      ],
      "metadata": {
        "colab": {
          "base_uri": "https://localhost:8080/",
          "height": 437
        },
        "id": "uiVmKaNXY-WF",
        "outputId": "f751f57e-37c2-439c-d23b-1a6ff98f2133"
      },
      "execution_count": 18,
      "outputs": [
        {
          "output_type": "display_data",
          "data": {
            "text/plain": [
              "plot without title"
            ],
            "image/png": "[encoded data removed]"
          },
          "metadata": {
            "image/png": {
              "width": 420,
              "height": 420
            }
          }
        }
      ]
    },
    {
      "cell_type": "markdown",
      "source": [
        "# Using predict() function"
      ],
      "metadata": {
        "id": "F-KP40vy_reA"
      }
    },
    {
      "cell_type": "code",
      "source": [
        "# Using predict()\n",
        "\n",
        "pred_C5 <- predict(model2_c5, Loans_TestDF)\n",
        "head(pred_C5)"
      ],
      "metadata": {
        "colab": {
          "base_uri": "https://localhost:8080/",
          "height": 52
        },
        "id": "KJIxPE_fWkQ2",
        "outputId": "c5596dc4-bfa3-4171-bf46-822ad806a624"
      },
      "execution_count": 30,
      "outputs": [
        {
          "output_type": "display_data",
          "data": {
            "text/html": [
              "<style>\n",
              ".list-inline {list-style: none; margin:0; padding: 0}\n",
              ".list-inline>li {display: inline-block}\n",
              ".list-inline>li:not(:last-child)::after {content: \"\\00b7\"; padding: 0 .5ex}\n",
              "</style>\n",
              "<ol class=list-inline><li>FALSE</li><li>FALSE</li><li>FALSE</li><li>FALSE</li><li>FALSE</li><li>FALSE</li></ol>\n",
              "\n",
              "<details>\n",
              "\t<summary style=display:list-item;cursor:pointer>\n",
              "\t\t<strong>Levels</strong>:\n",
              "\t</summary>\n",
              "\t<style>\n",
              "\t.list-inline {list-style: none; margin:0; padding: 0}\n",
              "\t.list-inline>li {display: inline-block}\n",
              "\t.list-inline>li:not(:last-child)::after {content: \"\\00b7\"; padding: 0 .5ex}\n",
              "\t</style>\n",
              "\t<ol class=list-inline><li>'FALSE'</li><li>'TRUE'</li></ol>\n",
              "</details>"
            ],
            "text/markdown": "1. FALSE\n2. FALSE\n3. FALSE\n4. FALSE\n5. FALSE\n6. FALSE\n\n\n\n**Levels**: 1. 'FALSE'\n2. 'TRUE'\n\n\n",
            "text/latex": "\\begin{enumerate*}\n\\item FALSE\n\\item FALSE\n\\item FALSE\n\\item FALSE\n\\item FALSE\n\\item FALSE\n\\end{enumerate*}\n\n\\emph{Levels}: \\begin{enumerate*}\n\\item 'FALSE'\n\\item 'TRUE'\n\\end{enumerate*}\n",
            "text/plain": [
              "[1] FALSE FALSE FALSE FALSE FALSE FALSE\n",
              "Levels: FALSE TRUE"
            ]
          },
          "metadata": {}
        }
      ]
    },
    {
      "cell_type": "code",
      "source": [
        "confusionMatrix(table(Loans_TestDF$Approval, pred_C5))"
      ],
      "metadata": {
        "colab": {
          "base_uri": "https://localhost:8080/",
          "height": 486
        },
        "id": "f5U3XjU4Xl2r",
        "outputId": "4e955e26-fe41-48ba-fe87-2a2d9df0b8a7"
      },
      "execution_count": 31,
      "outputs": [
        {
          "output_type": "display_data",
          "data": {
            "text/plain": [
              "Confusion Matrix and Statistics\n",
              "\n",
              "       pred_C5\n",
              "        FALSE  TRUE\n",
              "  FALSE 18842  6092\n",
              "  TRUE   1504 23260\n",
              "                                         \n",
              "               Accuracy : 0.8472         \n",
              "                 95% CI : (0.844, 0.8503)\n",
              "    No Information Rate : 0.5906         \n",
              "    P-Value [Acc > NIR] : < 2.2e-16      \n",
              "                                         \n",
              "                  Kappa : 0.6945         \n",
              "                                         \n",
              " Mcnemar's Test P-Value : < 2.2e-16      \n",
              "                                         \n",
              "            Sensitivity : 0.9261         \n",
              "            Specificity : 0.7925         \n",
              "         Pos Pred Value : 0.7557         \n",
              "         Neg Pred Value : 0.9393         \n",
              "             Prevalence : 0.4094         \n",
              "         Detection Rate : 0.3791         \n",
              "   Detection Prevalence : 0.5017         \n",
              "      Balanced Accuracy : 0.8593         \n",
              "                                         \n",
              "       'Positive' Class : FALSE          \n",
              "                                         "
            ]
          },
          "metadata": {}
        }
      ]
    },
    {
      "cell_type": "markdown",
      "source": [
        "### We can see that the true positive is 23260, the false positive is 1504, the false negative is 6092, and the true negative is 18842. We can also see that the accuracy is 84 percent and that the sensitivity and specificity are also high."
      ],
      "metadata": {
        "id": "WFb4-oyR_z8s"
      }
    },
    {
      "cell_type": "markdown",
      "source": [
        "# Comparing C5.0 model with CART model "
      ],
      "metadata": {
        "id": "FqzK_A4bDVCE"
      }
    },
    {
      "cell_type": "code",
      "source": [
        "#accuarcy of c5 model\n",
        "\n",
        "C5_Accuracy <- sum(pred_C5 == Loans_TestDF$Approval)/ length(pred_C5)\n",
        "cat('C5 Model Accuracy :',C5_Accuracy * 100)"
      ],
      "metadata": {
        "colab": {
          "base_uri": "https://localhost:8080/"
        },
        "id": "Kpyq7_YTBZw4",
        "outputId": "10fb7f0a-1e26-4f05-a3e0-2b9d1e197a0f"
      },
      "execution_count": 33,
      "outputs": [
        {
          "output_type": "stream",
          "name": "stdout",
          "text": [
            "C5 Model Accuracy : 84.71568"
          ]
        }
      ]
    },
    {
      "cell_type": "code",
      "source": [
        "#plotting predict_CART accuracy and predict_c5 accuracy\n",
        "\n",
        "labels <- c('CART', 'C5.0')\n",
        "Accuracy = c(CART_Accuracy, C5_Accuracy)\n",
        "\n",
        "#barplot\n",
        "\n",
        "barplot(Accuracy, ylab = \"count\", names.arg = labels, col=\"blue\")"
      ],
      "metadata": {
        "colab": {
          "base_uri": "https://localhost:8080/",
          "height": 437
        },
        "id": "HR2V9TL0CkPj",
        "outputId": "9837f400-7473-4f82-8033-c3b727887dc0"
      },
      "execution_count": 35,
      "outputs": [
        {
          "output_type": "display_data",
          "data": {
            "text/plain": [
              "plot without title"
            ],
            "image/png": "[encoded data removed]"
          },
          "metadata": {
            "image/png": {
              "width": 420,
              "height": 420
            }
          }
        }
      ]
    },
    {
      "cell_type": "markdown",
      "source": [
        "# Summary:\n",
        "### > The accuracy of the CART model is 84.32331, whereas the accuracy of the c5 model is 84.71568.\n",
        "### > According to the graph above, the accuracy of both the CART model and the C5 model is nearly same, with a little difference in the values of sensitivity and specificity in the CART and C5 models.\n",
        "### > The FICO score is the root node in the CART decision tree, while the Debt to Income Ratio is the root node in the C5 decision tree.\n",
        "\n",
        "\n",
        "\n",
        "\n",
        "\n",
        "\n"
      ],
      "metadata": {
        "id": "0BGJLsjkDwRA"
      }
    }
  ]
}