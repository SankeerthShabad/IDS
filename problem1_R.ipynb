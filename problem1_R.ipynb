{
  "nbformat": 4,
  "nbformat_minor": 0,
  "metadata": {
    "colab": {
      "name": "problem1_R.ipynb",
      "provenance": [],
      "collapsed_sections": [],
      "authorship_tag": "ABX9TyOh60N15gnIw7Lir3wMZ5eX",
      "include_colab_link": true
    },
    "kernelspec": {
      "name": "ir",
      "display_name": "R"
    },
    "language_info": {
      "name": "R"
    }
  },
  "cells": [
    {
      "cell_type": "markdown",
      "metadata": {
        "id": "view-in-github",
        "colab_type": "text"
      },
      "source": [
        "<a href=\"https://colab.research.google.com/github/SankeerthShabad/IDS/blob/main/problem1_R.ipynb\" target=\"_parent\"><img src=\"https://colab.research.google.com/assets/colab-badge.svg\" alt=\"Open In Colab\"/></a>"
      ]
    },
    {
      "cell_type": "code",
      "execution_count": 69,
      "metadata": {
        "colab": {
          "base_uri": "https://localhost:8080/",
          "height": 1000
        },
        "id": "8_PrlBtCCP8P",
        "outputId": "1036009d-148f-489b-8d69-ad031c5745fa"
      },
      "outputs": [
        {
          "output_type": "stream",
          "name": "stderr",
          "text": [
            "\u001b[1mRows: \u001b[22m\u001b[34m14797\u001b[39m \u001b[1mColumns: \u001b[22m\u001b[34m9\u001b[39m\n",
            "\u001b[36m──\u001b[39m \u001b[1mColumn specification\u001b[22m \u001b[36m────────────────────────────────────────────────────────\u001b[39m\n",
            "\u001b[1mDelimiter:\u001b[22m \",\"\n",
            "\u001b[31mchr\u001b[39m (5): workclass, maritalstatus, occupation, sex, income\n",
            "\u001b[32mdbl\u001b[39m (4): age, education, capitalgain, capitalloss\n",
            "\n",
            "\u001b[36mℹ\u001b[39m Use `spec()` to retrieve the full column specification for this data.\n",
            "\u001b[36mℹ\u001b[39m Specify the column types or set `show_col_types = FALSE` to quiet this message.\n"
          ]
        },
        {
          "output_type": "display_data",
          "data": {
            "text/html": [
              "<table class=\"dataframe\">\n",
              "<caption>A spec_tbl_df: 14797 × 9</caption>\n",
              "<thead>\n",
              "\t<tr><th scope=col>age</th><th scope=col>workclass</th><th scope=col>education</th><th scope=col>maritalstatus</th><th scope=col>occupation</th><th scope=col>sex</th><th scope=col>capitalgain</th><th scope=col>capitalloss</th><th scope=col>income</th></tr>\n",
              "\t<tr><th scope=col>&lt;dbl&gt;</th><th scope=col>&lt;chr&gt;</th><th scope=col>&lt;dbl&gt;</th><th scope=col>&lt;chr&gt;</th><th scope=col>&lt;chr&gt;</th><th scope=col>&lt;chr&gt;</th><th scope=col>&lt;dbl&gt;</th><th scope=col>&lt;dbl&gt;</th><th scope=col>&lt;chr&gt;</th></tr>\n",
              "</thead>\n",
              "<tbody>\n",
              "\t<tr><td>50</td><td>Self-emp-not-inc</td><td>13</td><td><span style=white-space:pre-wrap>Married-civ-spouse   </span></td><td><span style=white-space:pre-wrap>Exec-managerial  </span></td><td><span style=white-space:pre-wrap>Male  </span></td><td><span style=white-space:pre-wrap>    0</span></td><td><span style=white-space:pre-wrap>   0</span></td><td>&lt;=50K</td></tr>\n",
              "\t<tr><td>38</td><td><span style=white-space:pre-wrap>Private         </span></td><td> 9</td><td><span style=white-space:pre-wrap>Divorced             </span></td><td>Handlers-cleaners</td><td><span style=white-space:pre-wrap>Male  </span></td><td><span style=white-space:pre-wrap>    0</span></td><td><span style=white-space:pre-wrap>   0</span></td><td>&lt;=50K</td></tr>\n",
              "\t<tr><td>49</td><td><span style=white-space:pre-wrap>Private         </span></td><td> 5</td><td>Married-spouse-absent</td><td><span style=white-space:pre-wrap>Other-service    </span></td><td>Female</td><td><span style=white-space:pre-wrap>    0</span></td><td><span style=white-space:pre-wrap>   0</span></td><td>&lt;=50K</td></tr>\n",
              "\t<tr><td>52</td><td>Self-emp-not-inc</td><td> 9</td><td><span style=white-space:pre-wrap>Married-civ-spouse   </span></td><td><span style=white-space:pre-wrap>Exec-managerial  </span></td><td><span style=white-space:pre-wrap>Male  </span></td><td><span style=white-space:pre-wrap>    0</span></td><td><span style=white-space:pre-wrap>   0</span></td><td>&gt;50K </td></tr>\n",
              "\t<tr><td>31</td><td><span style=white-space:pre-wrap>Private         </span></td><td>14</td><td><span style=white-space:pre-wrap>Never-married        </span></td><td><span style=white-space:pre-wrap>Prof-specialty   </span></td><td>Female</td><td>14084</td><td><span style=white-space:pre-wrap>   0</span></td><td>&gt;50K </td></tr>\n",
              "\t<tr><td>40</td><td><span style=white-space:pre-wrap>Private         </span></td><td>11</td><td><span style=white-space:pre-wrap>Married-civ-spouse   </span></td><td><span style=white-space:pre-wrap>Craft-repair     </span></td><td><span style=white-space:pre-wrap>Male  </span></td><td><span style=white-space:pre-wrap>    0</span></td><td><span style=white-space:pre-wrap>   0</span></td><td>&gt;50K </td></tr>\n",
              "\t<tr><td>38</td><td><span style=white-space:pre-wrap>Private         </span></td><td> 7</td><td><span style=white-space:pre-wrap>Married-civ-spouse   </span></td><td><span style=white-space:pre-wrap>Sales            </span></td><td><span style=white-space:pre-wrap>Male  </span></td><td><span style=white-space:pre-wrap>    0</span></td><td><span style=white-space:pre-wrap>   0</span></td><td>&lt;=50K</td></tr>\n",
              "\t<tr><td>43</td><td><span style=white-space:pre-wrap>Private         </span></td><td> 7</td><td><span style=white-space:pre-wrap>Married-civ-spouse   </span></td><td>Transport-moving </td><td><span style=white-space:pre-wrap>Male  </span></td><td><span style=white-space:pre-wrap>    0</span></td><td>2042</td><td>&lt;=50K</td></tr>\n",
              "\t<tr><td>54</td><td><span style=white-space:pre-wrap>?               </span></td><td>10</td><td><span style=white-space:pre-wrap>Married-civ-spouse   </span></td><td><span style=white-space:pre-wrap>?                </span></td><td><span style=white-space:pre-wrap>Male  </span></td><td><span style=white-space:pre-wrap>    0</span></td><td><span style=white-space:pre-wrap>   0</span></td><td>&gt;50K </td></tr>\n",
              "\t<tr><td>39</td><td><span style=white-space:pre-wrap>Private         </span></td><td> 9</td><td><span style=white-space:pre-wrap>Divorced             </span></td><td><span style=white-space:pre-wrap>Exec-managerial  </span></td><td><span style=white-space:pre-wrap>Male  </span></td><td><span style=white-space:pre-wrap>    0</span></td><td><span style=white-space:pre-wrap>   0</span></td><td>&lt;=50K</td></tr>\n",
              "\t<tr><td>30</td><td><span style=white-space:pre-wrap>Federal-gov     </span></td><td>10</td><td><span style=white-space:pre-wrap>Married-civ-spouse   </span></td><td><span style=white-space:pre-wrap>Adm-clerical     </span></td><td><span style=white-space:pre-wrap>Male  </span></td><td><span style=white-space:pre-wrap>    0</span></td><td><span style=white-space:pre-wrap>   0</span></td><td>&lt;=50K</td></tr>\n",
              "\t<tr><td>21</td><td><span style=white-space:pre-wrap>Private         </span></td><td>10</td><td><span style=white-space:pre-wrap>Never-married        </span></td><td>Machine-op-inspct</td><td><span style=white-space:pre-wrap>Male  </span></td><td><span style=white-space:pre-wrap>    0</span></td><td><span style=white-space:pre-wrap>   0</span></td><td>&lt;=50K</td></tr>\n",
              "\t<tr><td>19</td><td><span style=white-space:pre-wrap>Private         </span></td><td> 9</td><td><span style=white-space:pre-wrap>Married-AF-spouse    </span></td><td><span style=white-space:pre-wrap>Adm-clerical     </span></td><td>Female</td><td><span style=white-space:pre-wrap>    0</span></td><td><span style=white-space:pre-wrap>   0</span></td><td>&lt;=50K</td></tr>\n",
              "\t<tr><td>31</td><td><span style=white-space:pre-wrap>Private         </span></td><td>10</td><td><span style=white-space:pre-wrap>Married-civ-spouse   </span></td><td><span style=white-space:pre-wrap>Sales            </span></td><td><span style=white-space:pre-wrap>Male  </span></td><td><span style=white-space:pre-wrap>    0</span></td><td><span style=white-space:pre-wrap>   0</span></td><td>&gt;50K </td></tr>\n",
              "\t<tr><td>31</td><td><span style=white-space:pre-wrap>Private         </span></td><td> 5</td><td><span style=white-space:pre-wrap>Married-civ-spouse   </span></td><td>Machine-op-inspct</td><td><span style=white-space:pre-wrap>Male  </span></td><td><span style=white-space:pre-wrap>    0</span></td><td><span style=white-space:pre-wrap>   0</span></td><td>&lt;=50K</td></tr>\n",
              "\t<tr><td>24</td><td><span style=white-space:pre-wrap>Private         </span></td><td>13</td><td><span style=white-space:pre-wrap>Married-civ-spouse   </span></td><td><span style=white-space:pre-wrap>Tech-support     </span></td><td><span style=white-space:pre-wrap>Male  </span></td><td><span style=white-space:pre-wrap>    0</span></td><td><span style=white-space:pre-wrap>   0</span></td><td>&lt;=50K</td></tr>\n",
              "\t<tr><td>44</td><td><span style=white-space:pre-wrap>Private         </span></td><td>14</td><td><span style=white-space:pre-wrap>Divorced             </span></td><td><span style=white-space:pre-wrap>Exec-managerial  </span></td><td>Female</td><td><span style=white-space:pre-wrap>    0</span></td><td><span style=white-space:pre-wrap>   0</span></td><td>&lt;=50K</td></tr>\n",
              "\t<tr><td>25</td><td><span style=white-space:pre-wrap>Private         </span></td><td>10</td><td><span style=white-space:pre-wrap>Married-civ-spouse   </span></td><td><span style=white-space:pre-wrap>Exec-managerial  </span></td><td>Female</td><td><span style=white-space:pre-wrap>    0</span></td><td><span style=white-space:pre-wrap>   0</span></td><td>&lt;=50K</td></tr>\n",
              "\t<tr><td>18</td><td><span style=white-space:pre-wrap>Private         </span></td><td> 9</td><td><span style=white-space:pre-wrap>Never-married        </span></td><td><span style=white-space:pre-wrap>Other-service    </span></td><td>Female</td><td><span style=white-space:pre-wrap>    0</span></td><td><span style=white-space:pre-wrap>   0</span></td><td>&lt;=50K</td></tr>\n",
              "\t<tr><td>50</td><td><span style=white-space:pre-wrap>Federal-gov     </span></td><td>13</td><td><span style=white-space:pre-wrap>Divorced             </span></td><td><span style=white-space:pre-wrap>Exec-managerial  </span></td><td><span style=white-space:pre-wrap>Male  </span></td><td><span style=white-space:pre-wrap>    0</span></td><td><span style=white-space:pre-wrap>   0</span></td><td>&gt;50K </td></tr>\n",
              "\t<tr><td>47</td><td><span style=white-space:pre-wrap>Self-emp-inc    </span></td><td> 9</td><td><span style=white-space:pre-wrap>Divorced             </span></td><td><span style=white-space:pre-wrap>Exec-managerial  </span></td><td><span style=white-space:pre-wrap>Male  </span></td><td><span style=white-space:pre-wrap>    0</span></td><td><span style=white-space:pre-wrap>   0</span></td><td>&lt;=50K</td></tr>\n",
              "\t<tr><td>43</td><td><span style=white-space:pre-wrap>Private         </span></td><td>10</td><td><span style=white-space:pre-wrap>Married-civ-spouse   </span></td><td><span style=white-space:pre-wrap>Tech-support     </span></td><td><span style=white-space:pre-wrap>Male  </span></td><td><span style=white-space:pre-wrap>    0</span></td><td><span style=white-space:pre-wrap>   0</span></td><td>&gt;50K </td></tr>\n",
              "\t<tr><td>35</td><td><span style=white-space:pre-wrap>Private         </span></td><td>11</td><td><span style=white-space:pre-wrap>Married-civ-spouse   </span></td><td><span style=white-space:pre-wrap>Other-service    </span></td><td><span style=white-space:pre-wrap>Male  </span></td><td><span style=white-space:pre-wrap>    0</span></td><td><span style=white-space:pre-wrap>   0</span></td><td>&lt;=50K</td></tr>\n",
              "\t<tr><td>30</td><td><span style=white-space:pre-wrap>Private         </span></td><td>13</td><td><span style=white-space:pre-wrap>Married-civ-spouse   </span></td><td><span style=white-space:pre-wrap>Sales            </span></td><td><span style=white-space:pre-wrap>Male  </span></td><td> 2407</td><td><span style=white-space:pre-wrap>   0</span></td><td>&lt;=50K</td></tr>\n",
              "\t<tr><td>29</td><td><span style=white-space:pre-wrap>Private         </span></td><td>10</td><td><span style=white-space:pre-wrap>Divorced             </span></td><td><span style=white-space:pre-wrap>Tech-support     </span></td><td><span style=white-space:pre-wrap>Male  </span></td><td><span style=white-space:pre-wrap>    0</span></td><td><span style=white-space:pre-wrap>   0</span></td><td>&lt;=50K</td></tr>\n",
              "\t<tr><td>28</td><td><span style=white-space:pre-wrap>Private         </span></td><td>10</td><td><span style=white-space:pre-wrap>Divorced             </span></td><td><span style=white-space:pre-wrap>Adm-clerical     </span></td><td>Female</td><td><span style=white-space:pre-wrap>    0</span></td><td><span style=white-space:pre-wrap>   0</span></td><td>&lt;=50K</td></tr>\n",
              "\t<tr><td>53</td><td><span style=white-space:pre-wrap>Private         </span></td><td> 9</td><td><span style=white-space:pre-wrap>Married-civ-spouse   </span></td><td><span style=white-space:pre-wrap>Adm-clerical     </span></td><td>Female</td><td><span style=white-space:pre-wrap>    0</span></td><td><span style=white-space:pre-wrap>   0</span></td><td>&gt;50K </td></tr>\n",
              "\t<tr><td>25</td><td><span style=white-space:pre-wrap>?               </span></td><td>10</td><td><span style=white-space:pre-wrap>Never-married        </span></td><td><span style=white-space:pre-wrap>?                </span></td><td><span style=white-space:pre-wrap>Male  </span></td><td><span style=white-space:pre-wrap>    0</span></td><td><span style=white-space:pre-wrap>   0</span></td><td>&lt;=50K</td></tr>\n",
              "\t<tr><td>31</td><td><span style=white-space:pre-wrap>Private         </span></td><td>13</td><td><span style=white-space:pre-wrap>Separated            </span></td><td><span style=white-space:pre-wrap>Sales            </span></td><td>Female</td><td><span style=white-space:pre-wrap>    0</span></td><td><span style=white-space:pre-wrap>   0</span></td><td>&lt;=50K</td></tr>\n",
              "\t<tr><td>23</td><td><span style=white-space:pre-wrap>Private         </span></td><td>10</td><td><span style=white-space:pre-wrap>Never-married        </span></td><td>Machine-op-inspct</td><td><span style=white-space:pre-wrap>Male  </span></td><td><span style=white-space:pre-wrap>    0</span></td><td><span style=white-space:pre-wrap>   0</span></td><td>&lt;=50K</td></tr>\n",
              "\t<tr><td>⋮</td><td>⋮</td><td>⋮</td><td>⋮</td><td>⋮</td><td>⋮</td><td>⋮</td><td>⋮</td><td>⋮</td></tr>\n",
              "\t<tr><td>18</td><td><span style=white-space:pre-wrap>Private         </span></td><td> 7</td><td><span style=white-space:pre-wrap>Never-married     </span></td><td><span style=white-space:pre-wrap>Prof-specialty   </span></td><td><span style=white-space:pre-wrap>Male  </span></td><td><span style=white-space:pre-wrap>   0</span></td><td>0</td><td>&lt;=50K</td></tr>\n",
              "\t<tr><td>34</td><td><span style=white-space:pre-wrap>Private         </span></td><td> 9</td><td><span style=white-space:pre-wrap>Never-married     </span></td><td><span style=white-space:pre-wrap>Other-service    </span></td><td>Female</td><td><span style=white-space:pre-wrap>   0</span></td><td>0</td><td>&lt;=50K</td></tr>\n",
              "\t<tr><td>57</td><td><span style=white-space:pre-wrap>Private         </span></td><td> 9</td><td>Married-civ-spouse</td><td>Transport-moving </td><td><span style=white-space:pre-wrap>Male  </span></td><td><span style=white-space:pre-wrap>   0</span></td><td>0</td><td>&lt;=50K</td></tr>\n",
              "\t<tr><td>71</td><td><span style=white-space:pre-wrap>Private         </span></td><td> 5</td><td>Married-civ-spouse</td><td><span style=white-space:pre-wrap>Other-service    </span></td><td><span style=white-space:pre-wrap>Male  </span></td><td><span style=white-space:pre-wrap>   0</span></td><td>0</td><td>&lt;=50K</td></tr>\n",
              "\t<tr><td>35</td><td><span style=white-space:pre-wrap>Local-gov       </span></td><td>13</td><td>Married-civ-spouse</td><td><span style=white-space:pre-wrap>Prof-specialty   </span></td><td><span style=white-space:pre-wrap>Male  </span></td><td><span style=white-space:pre-wrap>   0</span></td><td>0</td><td>&lt;=50K</td></tr>\n",
              "\t<tr><td>45</td><td><span style=white-space:pre-wrap>Private         </span></td><td> 6</td><td><span style=white-space:pre-wrap>Divorced          </span></td><td><span style=white-space:pre-wrap>Other-service    </span></td><td>Female</td><td><span style=white-space:pre-wrap>   0</span></td><td>0</td><td>&lt;=50K</td></tr>\n",
              "\t<tr><td>32</td><td><span style=white-space:pre-wrap>Private         </span></td><td> 9</td><td><span style=white-space:pre-wrap>Separated         </span></td><td><span style=white-space:pre-wrap>Sales            </span></td><td>Female</td><td><span style=white-space:pre-wrap>   0</span></td><td>0</td><td>&lt;=50K</td></tr>\n",
              "\t<tr><td>20</td><td><span style=white-space:pre-wrap>Private         </span></td><td> 9</td><td><span style=white-space:pre-wrap>Never-married     </span></td><td>Machine-op-inspct</td><td><span style=white-space:pre-wrap>Male  </span></td><td><span style=white-space:pre-wrap>   0</span></td><td>0</td><td>&lt;=50K</td></tr>\n",
              "\t<tr><td>46</td><td><span style=white-space:pre-wrap>Private         </span></td><td>14</td><td>Married-civ-spouse</td><td><span style=white-space:pre-wrap>Prof-specialty   </span></td><td>Female</td><td><span style=white-space:pre-wrap>   0</span></td><td>0</td><td>&gt;50K </td></tr>\n",
              "\t<tr><td>40</td><td><span style=white-space:pre-wrap>Private         </span></td><td>11</td><td>Married-civ-spouse</td><td><span style=white-space:pre-wrap>Craft-repair     </span></td><td><span style=white-space:pre-wrap>Male  </span></td><td><span style=white-space:pre-wrap>   0</span></td><td>0</td><td>&lt;=50K</td></tr>\n",
              "\t<tr><td>66</td><td><span style=white-space:pre-wrap>Federal-gov     </span></td><td> 6</td><td>Married-civ-spouse</td><td><span style=white-space:pre-wrap>Craft-repair     </span></td><td><span style=white-space:pre-wrap>Male  </span></td><td>3471</td><td>0</td><td>&lt;=50K</td></tr>\n",
              "\t<tr><td>46</td><td><span style=white-space:pre-wrap>Private         </span></td><td>10</td><td>Married-civ-spouse</td><td><span style=white-space:pre-wrap>Exec-managerial  </span></td><td><span style=white-space:pre-wrap>Male  </span></td><td><span style=white-space:pre-wrap>   0</span></td><td>0</td><td>&gt;50K </td></tr>\n",
              "\t<tr><td>27</td><td><span style=white-space:pre-wrap>Private         </span></td><td> 9</td><td><span style=white-space:pre-wrap>Never-married     </span></td><td><span style=white-space:pre-wrap>Other-service    </span></td><td>Female</td><td><span style=white-space:pre-wrap>   0</span></td><td>0</td><td>&lt;=50K</td></tr>\n",
              "\t<tr><td>58</td><td><span style=white-space:pre-wrap>Private         </span></td><td> 7</td><td>Married-civ-spouse</td><td><span style=white-space:pre-wrap>Sales            </span></td><td><span style=white-space:pre-wrap>Male  </span></td><td><span style=white-space:pre-wrap>   0</span></td><td>0</td><td>&lt;=50K</td></tr>\n",
              "\t<tr><td>30</td><td><span style=white-space:pre-wrap>Private         </span></td><td> 9</td><td><span style=white-space:pre-wrap>Divorced          </span></td><td>Transport-moving </td><td><span style=white-space:pre-wrap>Male  </span></td><td><span style=white-space:pre-wrap>   0</span></td><td>0</td><td>&lt;=50K</td></tr>\n",
              "\t<tr><td>32</td><td><span style=white-space:pre-wrap>Private         </span></td><td> 6</td><td>Married-civ-spouse</td><td>Transport-moving </td><td><span style=white-space:pre-wrap>Male  </span></td><td><span style=white-space:pre-wrap>   0</span></td><td>0</td><td>&lt;=50K</td></tr>\n",
              "\t<tr><td>22</td><td><span style=white-space:pre-wrap>Private         </span></td><td>10</td><td><span style=white-space:pre-wrap>Never-married     </span></td><td><span style=white-space:pre-wrap>Adm-clerical     </span></td><td><span style=white-space:pre-wrap>Male  </span></td><td><span style=white-space:pre-wrap>   0</span></td><td>0</td><td>&lt;=50K</td></tr>\n",
              "\t<tr><td>34</td><td><span style=white-space:pre-wrap>Private         </span></td><td>16</td><td>Married-civ-spouse</td><td><span style=white-space:pre-wrap>Prof-specialty   </span></td><td><span style=white-space:pre-wrap>Male  </span></td><td><span style=white-space:pre-wrap>   0</span></td><td>0</td><td>&gt;50K </td></tr>\n",
              "\t<tr><td>22</td><td><span style=white-space:pre-wrap>Private         </span></td><td> 8</td><td><span style=white-space:pre-wrap>Never-married     </span></td><td><span style=white-space:pre-wrap>Protective-serv  </span></td><td><span style=white-space:pre-wrap>Male  </span></td><td><span style=white-space:pre-wrap>   0</span></td><td>0</td><td>&lt;=50K</td></tr>\n",
              "\t<tr><td>34</td><td><span style=white-space:pre-wrap>Private         </span></td><td>13</td><td><span style=white-space:pre-wrap>Never-married     </span></td><td><span style=white-space:pre-wrap>Exec-managerial  </span></td><td>Female</td><td><span style=white-space:pre-wrap>   0</span></td><td>0</td><td>&gt;50K </td></tr>\n",
              "\t<tr><td>45</td><td><span style=white-space:pre-wrap>Local-gov       </span></td><td>12</td><td><span style=white-space:pre-wrap>Divorced          </span></td><td><span style=white-space:pre-wrap>Prof-specialty   </span></td><td>Female</td><td><span style=white-space:pre-wrap>   0</span></td><td>0</td><td>&lt;=50K</td></tr>\n",
              "\t<tr><td>39</td><td><span style=white-space:pre-wrap>Local-gov       </span></td><td>12</td><td>Married-civ-spouse</td><td><span style=white-space:pre-wrap>Adm-clerical     </span></td><td>Female</td><td><span style=white-space:pre-wrap>   0</span></td><td>0</td><td>&gt;50K </td></tr>\n",
              "\t<tr><td>37</td><td><span style=white-space:pre-wrap>Private         </span></td><td>12</td><td><span style=white-space:pre-wrap>Divorced          </span></td><td><span style=white-space:pre-wrap>Tech-support     </span></td><td>Female</td><td><span style=white-space:pre-wrap>   0</span></td><td>0</td><td>&lt;=50K</td></tr>\n",
              "\t<tr><td>65</td><td>Self-emp-not-inc</td><td>15</td><td><span style=white-space:pre-wrap>Never-married     </span></td><td><span style=white-space:pre-wrap>Prof-specialty   </span></td><td><span style=white-space:pre-wrap>Male  </span></td><td>1086</td><td>0</td><td>&lt;=50K</td></tr>\n",
              "\t<tr><td>43</td><td><span style=white-space:pre-wrap>State-gov       </span></td><td>10</td><td><span style=white-space:pre-wrap>Divorced          </span></td><td><span style=white-space:pre-wrap>Adm-clerical     </span></td><td>Female</td><td><span style=white-space:pre-wrap>   0</span></td><td>0</td><td>&lt;=50K</td></tr>\n",
              "\t<tr><td>43</td><td>Self-emp-not-inc</td><td>10</td><td>Married-civ-spouse</td><td><span style=white-space:pre-wrap>Craft-repair     </span></td><td><span style=white-space:pre-wrap>Male  </span></td><td><span style=white-space:pre-wrap>   0</span></td><td>0</td><td>&lt;=50K</td></tr>\n",
              "\t<tr><td>32</td><td><span style=white-space:pre-wrap>Private         </span></td><td> 6</td><td>Married-civ-spouse</td><td>Handlers-cleaners</td><td><span style=white-space:pre-wrap>Male  </span></td><td><span style=white-space:pre-wrap>   0</span></td><td>0</td><td>&lt;=50K</td></tr>\n",
              "\t<tr><td>32</td><td><span style=white-space:pre-wrap>Private         </span></td><td>14</td><td><span style=white-space:pre-wrap>Never-married     </span></td><td><span style=white-space:pre-wrap>Tech-support     </span></td><td><span style=white-space:pre-wrap>Male  </span></td><td><span style=white-space:pre-wrap>   0</span></td><td>0</td><td>&lt;=50K</td></tr>\n",
              "\t<tr><td>58</td><td><span style=white-space:pre-wrap>Private         </span></td><td> 9</td><td><span style=white-space:pre-wrap>Widowed           </span></td><td><span style=white-space:pre-wrap>Adm-clerical     </span></td><td>Female</td><td><span style=white-space:pre-wrap>   0</span></td><td>0</td><td>&lt;=50K</td></tr>\n",
              "\t<tr><td>22</td><td><span style=white-space:pre-wrap>Private         </span></td><td> 9</td><td><span style=white-space:pre-wrap>Never-married     </span></td><td><span style=white-space:pre-wrap>Adm-clerical     </span></td><td><span style=white-space:pre-wrap>Male  </span></td><td><span style=white-space:pre-wrap>   0</span></td><td>0</td><td>&lt;=50K</td></tr>\n",
              "</tbody>\n",
              "</table>\n"
            ],
            "text/markdown": "\nA spec_tbl_df: 14797 × 9\n\n| age &lt;dbl&gt; | workclass &lt;chr&gt; | education &lt;dbl&gt; | maritalstatus &lt;chr&gt; | occupation &lt;chr&gt; | sex &lt;chr&gt; | capitalgain &lt;dbl&gt; | capitalloss &lt;dbl&gt; | income &lt;chr&gt; |\n|---|---|---|---|---|---|---|---|---|\n| 50 | Self-emp-not-inc | 13 | Married-civ-spouse    | Exec-managerial   | Male   |     0 |    0 | &lt;=50K |\n| 38 | Private          |  9 | Divorced              | Handlers-cleaners | Male   |     0 |    0 | &lt;=50K |\n| 49 | Private          |  5 | Married-spouse-absent | Other-service     | Female |     0 |    0 | &lt;=50K |\n| 52 | Self-emp-not-inc |  9 | Married-civ-spouse    | Exec-managerial   | Male   |     0 |    0 | &gt;50K  |\n| 31 | Private          | 14 | Never-married         | Prof-specialty    | Female | 14084 |    0 | &gt;50K  |\n| 40 | Private          | 11 | Married-civ-spouse    | Craft-repair      | Male   |     0 |    0 | &gt;50K  |\n| 38 | Private          |  7 | Married-civ-spouse    | Sales             | Male   |     0 |    0 | &lt;=50K |\n| 43 | Private          |  7 | Married-civ-spouse    | Transport-moving  | Male   |     0 | 2042 | &lt;=50K |\n| 54 | ?                | 10 | Married-civ-spouse    | ?                 | Male   |     0 |    0 | &gt;50K  |\n| 39 | Private          |  9 | Divorced              | Exec-managerial   | Male   |     0 |    0 | &lt;=50K |\n| 30 | Federal-gov      | 10 | Married-civ-spouse    | Adm-clerical      | Male   |     0 |    0 | &lt;=50K |\n| 21 | Private          | 10 | Never-married         | Machine-op-inspct | Male   |     0 |    0 | &lt;=50K |\n| 19 | Private          |  9 | Married-AF-spouse     | Adm-clerical      | Female |     0 |    0 | &lt;=50K |\n| 31 | Private          | 10 | Married-civ-spouse    | Sales             | Male   |     0 |    0 | &gt;50K  |\n| 31 | Private          |  5 | Married-civ-spouse    | Machine-op-inspct | Male   |     0 |    0 | &lt;=50K |\n| 24 | Private          | 13 | Married-civ-spouse    | Tech-support      | Male   |     0 |    0 | &lt;=50K |\n| 44 | Private          | 14 | Divorced              | Exec-managerial   | Female |     0 |    0 | &lt;=50K |\n| 25 | Private          | 10 | Married-civ-spouse    | Exec-managerial   | Female |     0 |    0 | &lt;=50K |\n| 18 | Private          |  9 | Never-married         | Other-service     | Female |     0 |    0 | &lt;=50K |\n| 50 | Federal-gov      | 13 | Divorced              | Exec-managerial   | Male   |     0 |    0 | &gt;50K  |\n| 47 | Self-emp-inc     |  9 | Divorced              | Exec-managerial   | Male   |     0 |    0 | &lt;=50K |\n| 43 | Private          | 10 | Married-civ-spouse    | Tech-support      | Male   |     0 |    0 | &gt;50K  |\n| 35 | Private          | 11 | Married-civ-spouse    | Other-service     | Male   |     0 |    0 | &lt;=50K |\n| 30 | Private          | 13 | Married-civ-spouse    | Sales             | Male   |  2407 |    0 | &lt;=50K |\n| 29 | Private          | 10 | Divorced              | Tech-support      | Male   |     0 |    0 | &lt;=50K |\n| 28 | Private          | 10 | Divorced              | Adm-clerical      | Female |     0 |    0 | &lt;=50K |\n| 53 | Private          |  9 | Married-civ-spouse    | Adm-clerical      | Female |     0 |    0 | &gt;50K  |\n| 25 | ?                | 10 | Never-married         | ?                 | Male   |     0 |    0 | &lt;=50K |\n| 31 | Private          | 13 | Separated             | Sales             | Female |     0 |    0 | &lt;=50K |\n| 23 | Private          | 10 | Never-married         | Machine-op-inspct | Male   |     0 |    0 | &lt;=50K |\n| ⋮ | ⋮ | ⋮ | ⋮ | ⋮ | ⋮ | ⋮ | ⋮ | ⋮ |\n| 18 | Private          |  7 | Never-married      | Prof-specialty    | Male   |    0 | 0 | &lt;=50K |\n| 34 | Private          |  9 | Never-married      | Other-service     | Female |    0 | 0 | &lt;=50K |\n| 57 | Private          |  9 | Married-civ-spouse | Transport-moving  | Male   |    0 | 0 | &lt;=50K |\n| 71 | Private          |  5 | Married-civ-spouse | Other-service     | Male   |    0 | 0 | &lt;=50K |\n| 35 | Local-gov        | 13 | Married-civ-spouse | Prof-specialty    | Male   |    0 | 0 | &lt;=50K |\n| 45 | Private          |  6 | Divorced           | Other-service     | Female |    0 | 0 | &lt;=50K |\n| 32 | Private          |  9 | Separated          | Sales             | Female |    0 | 0 | &lt;=50K |\n| 20 | Private          |  9 | Never-married      | Machine-op-inspct | Male   |    0 | 0 | &lt;=50K |\n| 46 | Private          | 14 | Married-civ-spouse | Prof-specialty    | Female |    0 | 0 | &gt;50K  |\n| 40 | Private          | 11 | Married-civ-spouse | Craft-repair      | Male   |    0 | 0 | &lt;=50K |\n| 66 | Federal-gov      |  6 | Married-civ-spouse | Craft-repair      | Male   | 3471 | 0 | &lt;=50K |\n| 46 | Private          | 10 | Married-civ-spouse | Exec-managerial   | Male   |    0 | 0 | &gt;50K  |\n| 27 | Private          |  9 | Never-married      | Other-service     | Female |    0 | 0 | &lt;=50K |\n| 58 | Private          |  7 | Married-civ-spouse | Sales             | Male   |    0 | 0 | &lt;=50K |\n| 30 | Private          |  9 | Divorced           | Transport-moving  | Male   |    0 | 0 | &lt;=50K |\n| 32 | Private          |  6 | Married-civ-spouse | Transport-moving  | Male   |    0 | 0 | &lt;=50K |\n| 22 | Private          | 10 | Never-married      | Adm-clerical      | Male   |    0 | 0 | &lt;=50K |\n| 34 | Private          | 16 | Married-civ-spouse | Prof-specialty    | Male   |    0 | 0 | &gt;50K  |\n| 22 | Private          |  8 | Never-married      | Protective-serv   | Male   |    0 | 0 | &lt;=50K |\n| 34 | Private          | 13 | Never-married      | Exec-managerial   | Female |    0 | 0 | &gt;50K  |\n| 45 | Local-gov        | 12 | Divorced           | Prof-specialty    | Female |    0 | 0 | &lt;=50K |\n| 39 | Local-gov        | 12 | Married-civ-spouse | Adm-clerical      | Female |    0 | 0 | &gt;50K  |\n| 37 | Private          | 12 | Divorced           | Tech-support      | Female |    0 | 0 | &lt;=50K |\n| 65 | Self-emp-not-inc | 15 | Never-married      | Prof-specialty    | Male   | 1086 | 0 | &lt;=50K |\n| 43 | State-gov        | 10 | Divorced           | Adm-clerical      | Female |    0 | 0 | &lt;=50K |\n| 43 | Self-emp-not-inc | 10 | Married-civ-spouse | Craft-repair      | Male   |    0 | 0 | &lt;=50K |\n| 32 | Private          |  6 | Married-civ-spouse | Handlers-cleaners | Male   |    0 | 0 | &lt;=50K |\n| 32 | Private          | 14 | Never-married      | Tech-support      | Male   |    0 | 0 | &lt;=50K |\n| 58 | Private          |  9 | Widowed            | Adm-clerical      | Female |    0 | 0 | &lt;=50K |\n| 22 | Private          |  9 | Never-married      | Adm-clerical      | Male   |    0 | 0 | &lt;=50K |\n\n",
            "text/latex": "A spec\\_tbl\\_df: 14797 × 9\n\\begin{tabular}{lllllllll}\n age & workclass & education & maritalstatus & occupation & sex & capitalgain & capitalloss & income\\\\\n <dbl> & <chr> & <dbl> & <chr> & <chr> & <chr> & <dbl> & <dbl> & <chr>\\\\\n\\hline\n\t 50 & Self-emp-not-inc & 13 & Married-civ-spouse    & Exec-managerial   & Male   &     0 &    0 & <=50K\\\\\n\t 38 & Private          &  9 & Divorced              & Handlers-cleaners & Male   &     0 &    0 & <=50K\\\\\n\t 49 & Private          &  5 & Married-spouse-absent & Other-service     & Female &     0 &    0 & <=50K\\\\\n\t 52 & Self-emp-not-inc &  9 & Married-civ-spouse    & Exec-managerial   & Male   &     0 &    0 & >50K \\\\\n\t 31 & Private          & 14 & Never-married         & Prof-specialty    & Female & 14084 &    0 & >50K \\\\\n\t 40 & Private          & 11 & Married-civ-spouse    & Craft-repair      & Male   &     0 &    0 & >50K \\\\\n\t 38 & Private          &  7 & Married-civ-spouse    & Sales             & Male   &     0 &    0 & <=50K\\\\\n\t 43 & Private          &  7 & Married-civ-spouse    & Transport-moving  & Male   &     0 & 2042 & <=50K\\\\\n\t 54 & ?                & 10 & Married-civ-spouse    & ?                 & Male   &     0 &    0 & >50K \\\\\n\t 39 & Private          &  9 & Divorced              & Exec-managerial   & Male   &     0 &    0 & <=50K\\\\\n\t 30 & Federal-gov      & 10 & Married-civ-spouse    & Adm-clerical      & Male   &     0 &    0 & <=50K\\\\\n\t 21 & Private          & 10 & Never-married         & Machine-op-inspct & Male   &     0 &    0 & <=50K\\\\\n\t 19 & Private          &  9 & Married-AF-spouse     & Adm-clerical      & Female &     0 &    0 & <=50K\\\\\n\t 31 & Private          & 10 & Married-civ-spouse    & Sales             & Male   &     0 &    0 & >50K \\\\\n\t 31 & Private          &  5 & Married-civ-spouse    & Machine-op-inspct & Male   &     0 &    0 & <=50K\\\\\n\t 24 & Private          & 13 & Married-civ-spouse    & Tech-support      & Male   &     0 &    0 & <=50K\\\\\n\t 44 & Private          & 14 & Divorced              & Exec-managerial   & Female &     0 &    0 & <=50K\\\\\n\t 25 & Private          & 10 & Married-civ-spouse    & Exec-managerial   & Female &     0 &    0 & <=50K\\\\\n\t 18 & Private          &  9 & Never-married         & Other-service     & Female &     0 &    0 & <=50K\\\\\n\t 50 & Federal-gov      & 13 & Divorced              & Exec-managerial   & Male   &     0 &    0 & >50K \\\\\n\t 47 & Self-emp-inc     &  9 & Divorced              & Exec-managerial   & Male   &     0 &    0 & <=50K\\\\\n\t 43 & Private          & 10 & Married-civ-spouse    & Tech-support      & Male   &     0 &    0 & >50K \\\\\n\t 35 & Private          & 11 & Married-civ-spouse    & Other-service     & Male   &     0 &    0 & <=50K\\\\\n\t 30 & Private          & 13 & Married-civ-spouse    & Sales             & Male   &  2407 &    0 & <=50K\\\\\n\t 29 & Private          & 10 & Divorced              & Tech-support      & Male   &     0 &    0 & <=50K\\\\\n\t 28 & Private          & 10 & Divorced              & Adm-clerical      & Female &     0 &    0 & <=50K\\\\\n\t 53 & Private          &  9 & Married-civ-spouse    & Adm-clerical      & Female &     0 &    0 & >50K \\\\\n\t 25 & ?                & 10 & Never-married         & ?                 & Male   &     0 &    0 & <=50K\\\\\n\t 31 & Private          & 13 & Separated             & Sales             & Female &     0 &    0 & <=50K\\\\\n\t 23 & Private          & 10 & Never-married         & Machine-op-inspct & Male   &     0 &    0 & <=50K\\\\\n\t ⋮ & ⋮ & ⋮ & ⋮ & ⋮ & ⋮ & ⋮ & ⋮ & ⋮\\\\\n\t 18 & Private          &  7 & Never-married      & Prof-specialty    & Male   &    0 & 0 & <=50K\\\\\n\t 34 & Private          &  9 & Never-married      & Other-service     & Female &    0 & 0 & <=50K\\\\\n\t 57 & Private          &  9 & Married-civ-spouse & Transport-moving  & Male   &    0 & 0 & <=50K\\\\\n\t 71 & Private          &  5 & Married-civ-spouse & Other-service     & Male   &    0 & 0 & <=50K\\\\\n\t 35 & Local-gov        & 13 & Married-civ-spouse & Prof-specialty    & Male   &    0 & 0 & <=50K\\\\\n\t 45 & Private          &  6 & Divorced           & Other-service     & Female &    0 & 0 & <=50K\\\\\n\t 32 & Private          &  9 & Separated          & Sales             & Female &    0 & 0 & <=50K\\\\\n\t 20 & Private          &  9 & Never-married      & Machine-op-inspct & Male   &    0 & 0 & <=50K\\\\\n\t 46 & Private          & 14 & Married-civ-spouse & Prof-specialty    & Female &    0 & 0 & >50K \\\\\n\t 40 & Private          & 11 & Married-civ-spouse & Craft-repair      & Male   &    0 & 0 & <=50K\\\\\n\t 66 & Federal-gov      &  6 & Married-civ-spouse & Craft-repair      & Male   & 3471 & 0 & <=50K\\\\\n\t 46 & Private          & 10 & Married-civ-spouse & Exec-managerial   & Male   &    0 & 0 & >50K \\\\\n\t 27 & Private          &  9 & Never-married      & Other-service     & Female &    0 & 0 & <=50K\\\\\n\t 58 & Private          &  7 & Married-civ-spouse & Sales             & Male   &    0 & 0 & <=50K\\\\\n\t 30 & Private          &  9 & Divorced           & Transport-moving  & Male   &    0 & 0 & <=50K\\\\\n\t 32 & Private          &  6 & Married-civ-spouse & Transport-moving  & Male   &    0 & 0 & <=50K\\\\\n\t 22 & Private          & 10 & Never-married      & Adm-clerical      & Male   &    0 & 0 & <=50K\\\\\n\t 34 & Private          & 16 & Married-civ-spouse & Prof-specialty    & Male   &    0 & 0 & >50K \\\\\n\t 22 & Private          &  8 & Never-married      & Protective-serv   & Male   &    0 & 0 & <=50K\\\\\n\t 34 & Private          & 13 & Never-married      & Exec-managerial   & Female &    0 & 0 & >50K \\\\\n\t 45 & Local-gov        & 12 & Divorced           & Prof-specialty    & Female &    0 & 0 & <=50K\\\\\n\t 39 & Local-gov        & 12 & Married-civ-spouse & Adm-clerical      & Female &    0 & 0 & >50K \\\\\n\t 37 & Private          & 12 & Divorced           & Tech-support      & Female &    0 & 0 & <=50K\\\\\n\t 65 & Self-emp-not-inc & 15 & Never-married      & Prof-specialty    & Male   & 1086 & 0 & <=50K\\\\\n\t 43 & State-gov        & 10 & Divorced           & Adm-clerical      & Female &    0 & 0 & <=50K\\\\\n\t 43 & Self-emp-not-inc & 10 & Married-civ-spouse & Craft-repair      & Male   &    0 & 0 & <=50K\\\\\n\t 32 & Private          &  6 & Married-civ-spouse & Handlers-cleaners & Male   &    0 & 0 & <=50K\\\\\n\t 32 & Private          & 14 & Never-married      & Tech-support      & Male   &    0 & 0 & <=50K\\\\\n\t 58 & Private          &  9 & Widowed            & Adm-clerical      & Female &    0 & 0 & <=50K\\\\\n\t 22 & Private          &  9 & Never-married      & Adm-clerical      & Male   &    0 & 0 & <=50K\\\\\n\\end{tabular}\n",
            "text/plain": [
              "      age workclass        education maritalstatus         occupation       \n",
              "1     50  Self-emp-not-inc 13        Married-civ-spouse    Exec-managerial  \n",
              "2     38  Private           9        Divorced              Handlers-cleaners\n",
              "3     49  Private           5        Married-spouse-absent Other-service    \n",
              "4     52  Self-emp-not-inc  9        Married-civ-spouse    Exec-managerial  \n",
              "5     31  Private          14        Never-married         Prof-specialty   \n",
              "6     40  Private          11        Married-civ-spouse    Craft-repair     \n",
              "7     38  Private           7        Married-civ-spouse    Sales            \n",
              "8     43  Private           7        Married-civ-spouse    Transport-moving \n",
              "9     54  ?                10        Married-civ-spouse    ?                \n",
              "10    39  Private           9        Divorced              Exec-managerial  \n",
              "11    30  Federal-gov      10        Married-civ-spouse    Adm-clerical     \n",
              "12    21  Private          10        Never-married         Machine-op-inspct\n",
              "13    19  Private           9        Married-AF-spouse     Adm-clerical     \n",
              "14    31  Private          10        Married-civ-spouse    Sales            \n",
              "15    31  Private           5        Married-civ-spouse    Machine-op-inspct\n",
              "16    24  Private          13        Married-civ-spouse    Tech-support     \n",
              "17    44  Private          14        Divorced              Exec-managerial  \n",
              "18    25  Private          10        Married-civ-spouse    Exec-managerial  \n",
              "19    18  Private           9        Never-married         Other-service    \n",
              "20    50  Federal-gov      13        Divorced              Exec-managerial  \n",
              "21    47  Self-emp-inc      9        Divorced              Exec-managerial  \n",
              "22    43  Private          10        Married-civ-spouse    Tech-support     \n",
              "23    35  Private          11        Married-civ-spouse    Other-service    \n",
              "24    30  Private          13        Married-civ-spouse    Sales            \n",
              "25    29  Private          10        Divorced              Tech-support     \n",
              "26    28  Private          10        Divorced              Adm-clerical     \n",
              "27    53  Private           9        Married-civ-spouse    Adm-clerical     \n",
              "28    25  ?                10        Never-married         ?                \n",
              "29    31  Private          13        Separated             Sales            \n",
              "30    23  Private          10        Never-married         Machine-op-inspct\n",
              "⋮     ⋮   ⋮                ⋮         ⋮                     ⋮                \n",
              "14768 18  Private           7        Never-married         Prof-specialty   \n",
              "14769 34  Private           9        Never-married         Other-service    \n",
              "14770 57  Private           9        Married-civ-spouse    Transport-moving \n",
              "14771 71  Private           5        Married-civ-spouse    Other-service    \n",
              "14772 35  Local-gov        13        Married-civ-spouse    Prof-specialty   \n",
              "14773 45  Private           6        Divorced              Other-service    \n",
              "14774 32  Private           9        Separated             Sales            \n",
              "14775 20  Private           9        Never-married         Machine-op-inspct\n",
              "14776 46  Private          14        Married-civ-spouse    Prof-specialty   \n",
              "14777 40  Private          11        Married-civ-spouse    Craft-repair     \n",
              "14778 66  Federal-gov       6        Married-civ-spouse    Craft-repair     \n",
              "14779 46  Private          10        Married-civ-spouse    Exec-managerial  \n",
              "14780 27  Private           9        Never-married         Other-service    \n",
              "14781 58  Private           7        Married-civ-spouse    Sales            \n",
              "14782 30  Private           9        Divorced              Transport-moving \n",
              "14783 32  Private           6        Married-civ-spouse    Transport-moving \n",
              "14784 22  Private          10        Never-married         Adm-clerical     \n",
              "14785 34  Private          16        Married-civ-spouse    Prof-specialty   \n",
              "14786 22  Private           8        Never-married         Protective-serv  \n",
              "14787 34  Private          13        Never-married         Exec-managerial  \n",
              "14788 45  Local-gov        12        Divorced              Prof-specialty   \n",
              "14789 39  Local-gov        12        Married-civ-spouse    Adm-clerical     \n",
              "14790 37  Private          12        Divorced              Tech-support     \n",
              "14791 65  Self-emp-not-inc 15        Never-married         Prof-specialty   \n",
              "14792 43  State-gov        10        Divorced              Adm-clerical     \n",
              "14793 43  Self-emp-not-inc 10        Married-civ-spouse    Craft-repair     \n",
              "14794 32  Private           6        Married-civ-spouse    Handlers-cleaners\n",
              "14795 32  Private          14        Never-married         Tech-support     \n",
              "14796 58  Private           9        Widowed               Adm-clerical     \n",
              "14797 22  Private           9        Never-married         Adm-clerical     \n",
              "      sex    capitalgain capitalloss income\n",
              "1     Male       0          0        <=50K \n",
              "2     Male       0          0        <=50K \n",
              "3     Female     0          0        <=50K \n",
              "4     Male       0          0        >50K  \n",
              "5     Female 14084          0        >50K  \n",
              "6     Male       0          0        >50K  \n",
              "7     Male       0          0        <=50K \n",
              "8     Male       0       2042        <=50K \n",
              "9     Male       0          0        >50K  \n",
              "10    Male       0          0        <=50K \n",
              "11    Male       0          0        <=50K \n",
              "12    Male       0          0        <=50K \n",
              "13    Female     0          0        <=50K \n",
              "14    Male       0          0        >50K  \n",
              "15    Male       0          0        <=50K \n",
              "16    Male       0          0        <=50K \n",
              "17    Female     0          0        <=50K \n",
              "18    Female     0          0        <=50K \n",
              "19    Female     0          0        <=50K \n",
              "20    Male       0          0        >50K  \n",
              "21    Male       0          0        <=50K \n",
              "22    Male       0          0        >50K  \n",
              "23    Male       0          0        <=50K \n",
              "24    Male    2407          0        <=50K \n",
              "25    Male       0          0        <=50K \n",
              "26    Female     0          0        <=50K \n",
              "27    Female     0          0        >50K  \n",
              "28    Male       0          0        <=50K \n",
              "29    Female     0          0        <=50K \n",
              "30    Male       0          0        <=50K \n",
              "⋮     ⋮      ⋮           ⋮           ⋮     \n",
              "14768 Male      0        0           <=50K \n",
              "14769 Female    0        0           <=50K \n",
              "14770 Male      0        0           <=50K \n",
              "14771 Male      0        0           <=50K \n",
              "14772 Male      0        0           <=50K \n",
              "14773 Female    0        0           <=50K \n",
              "14774 Female    0        0           <=50K \n",
              "14775 Male      0        0           <=50K \n",
              "14776 Female    0        0           >50K  \n",
              "14777 Male      0        0           <=50K \n",
              "14778 Male   3471        0           <=50K \n",
              "14779 Male      0        0           >50K  \n",
              "14780 Female    0        0           <=50K \n",
              "14781 Male      0        0           <=50K \n",
              "14782 Male      0        0           <=50K \n",
              "14783 Male      0        0           <=50K \n",
              "14784 Male      0        0           <=50K \n",
              "14785 Male      0        0           >50K  \n",
              "14786 Male      0        0           <=50K \n",
              "14787 Female    0        0           >50K  \n",
              "14788 Female    0        0           <=50K \n",
              "14789 Female    0        0           >50K  \n",
              "14790 Female    0        0           <=50K \n",
              "14791 Male   1086        0           <=50K \n",
              "14792 Female    0        0           <=50K \n",
              "14793 Male      0        0           <=50K \n",
              "14794 Male      0        0           <=50K \n",
              "14795 Male      0        0           <=50K \n",
              "14796 Female    0        0           <=50K \n",
              "14797 Male      0        0           <=50K "
            ]
          },
          "metadata": {}
        }
      ],
      "source": [
        "#Importing csv file as Adult_trainingDF\n",
        "\n",
        "library(readr)\n",
        "Adult_trainingDF <- read_csv(\"https://raw.githubusercontent.com/SankeerthShabad/IDS/main/HW4/adult_training.csv\")\n",
        "Adult_trainingDF"
      ]
    },
    {
      "cell_type": "markdown",
      "source": [
        "### The csv file was imported as a dataframe named Adult trainingDF, and there are 14797 rows and 9 columns in the dataframe.\n",
        "\n"
      ],
      "metadata": {
        "id": "2LiYt7jnz85a"
      }
    },
    {
      "cell_type": "markdown",
      "source": [
        "###The following syntax is used to check for any null values in the Adult trainingDF."
      ],
      "metadata": {
        "id": "MnGHUQ71z-f7"
      }
    },
    {
      "cell_type": "code",
      "source": [
        "#Checking for null values in Adult_trainingDF\n",
        "\n",
        "sum(is.na(Adult_trainingDF))"
      ],
      "metadata": {
        "colab": {
          "base_uri": "https://localhost:8080/",
          "height": 34
        },
        "id": "ByTw6Xj4omVz",
        "outputId": "d1ea80b0-5158-4627-ed9b-510387dad6b8"
      },
      "execution_count": 70,
      "outputs": [
        {
          "output_type": "display_data",
          "data": {
            "text/html": [
              "0"
            ],
            "text/markdown": "0",
            "text/latex": "0",
            "text/plain": [
              "[1] 0"
            ]
          },
          "metadata": {}
        }
      ]
    },
    {
      "cell_type": "markdown",
      "source": [
        "### We can also observe that there are no null values in Adult trainingDF."
      ],
      "metadata": {
        "id": "7CIZx6Gj0RTR"
      }
    },
    {
      "cell_type": "markdown",
      "source": [
        "## The value counts() method is tested using the syntax shown below."
      ],
      "metadata": {
        "id": "f6Vde_MN0ixj"
      }
    },
    {
      "cell_type": "code",
      "source": [
        "#table of workclass\n",
        "table(Adult_trainingDF$workclass)"
      ],
      "metadata": {
        "id": "2SmtipK4o-kV",
        "colab": {
          "base_uri": "https://localhost:8080/",
          "height": 138
        },
        "outputId": "9f262e5f-dc77-4a37-cb22-4fe730c1213c"
      },
      "execution_count": 71,
      "outputs": [
        {
          "output_type": "display_data",
          "data": {
            "text/plain": [
              "\n",
              "               ?      Federal-gov        Local-gov     Never-worked \n",
              "             829              454              969                5 \n",
              "         Private     Self-emp-inc Self-emp-not-inc        State-gov \n",
              "           10281              498             1170              586 \n",
              "     Without-pay \n",
              "               5 "
            ]
          },
          "metadata": {}
        }
      ]
    },
    {
      "cell_type": "markdown",
      "source": [
        "### Because there is an undefined workclass '?', we must replace that undefined value with the most common workclass.\n"
      ],
      "metadata": {
        "id": "9C2ntT0JK8os"
      }
    },
    {
      "cell_type": "markdown",
      "source": [
        "## Undefined workclasses are being replaced with the most prevalent workclasses."
      ],
      "metadata": {
        "id": "S9q_m8it0wFV"
      }
    },
    {
      "cell_type": "code",
      "source": [
        "# replacing undefined workclass\n",
        "Adult_trainingDF[Adult_trainingDF=='?']<-'Private'\n",
        "table(Adult_trainingDF$workclass)"
      ],
      "metadata": {
        "colab": {
          "base_uri": "https://localhost:8080/",
          "height": 104
        },
        "id": "qNNC2Mdvxsix",
        "outputId": "b2d73886-35b6-4b42-8383-ad0f514b7363"
      },
      "execution_count": 72,
      "outputs": [
        {
          "output_type": "display_data",
          "data": {
            "text/plain": [
              "\n",
              "     Federal-gov        Local-gov     Never-worked          Private \n",
              "             454              969                5            11110 \n",
              "    Self-emp-inc Self-emp-not-inc        State-gov      Without-pay \n",
              "             498             1170              586                5 "
            ]
          },
          "metadata": {}
        }
      ]
    },
    {
      "cell_type": "markdown",
      "source": [
        "### After converting an undefined work class to a Private, we can observe that the range of Private work class has increased."
      ],
      "metadata": {
        "id": "7atW4OAJLNmD"
      }
    },
    {
      "cell_type": "markdown",
      "source": [
        "# **Contingency Tables**\n",
        "\n",
        "\n",
        "*  A contingency table is a tabular representation of categorical data.\n",
        "*  A contingency table usually shows frequencies for particular combinations of values of two discrete random variable s X and Y.\n",
        "\n",
        "\n"
      ],
      "metadata": {
        "id": "Mh_SFgAU632d"
      }
    },
    {
      "cell_type": "code",
      "source": [
        "# Cross tabulation of workclass and sex\n",
        "\n",
        "sex_workclass_crosstab <- table(Adult_trainingDF$sex, Adult_trainingDF$workclass)\n",
        "ftable(sex_workclass_crosstab)"
      ],
      "metadata": {
        "colab": {
          "base_uri": "https://localhost:8080/",
          "height": 86
        },
        "id": "a0_ptw8BCgWq",
        "outputId": "8f9aadfa-4cb6-42a8-b5b8-fb3174e871bb"
      },
      "execution_count": 73,
      "outputs": [
        {
          "output_type": "display_data",
          "data": {
            "text/plain": [
              "        Federal-gov Local-gov Never-worked Private Self-emp-inc Self-emp-not-inc State-gov Without-pay\n",
              "                                                                                                      \n",
              "Female          149       377            1    3951           54              178       201           1\n",
              "Male            305       592            4    7159          444              992       385           4"
            ]
          },
          "metadata": {}
        }
      ]
    },
    {
      "cell_type": "markdown",
      "source": [
        "### We discovered that the number of males and females working in various job classes after completing cross tabulation for workclass and sex. We can observe from the crosstabulation above that the private workclass has a greater percentage of working persons. Without-pay and Never-worked workers make up the smallest percentage of the workforce."
      ],
      "metadata": {
        "id": "Kthx7JSM7i34"
      }
    },
    {
      "cell_type": "markdown",
      "source": [
        "## Barplot for workclass and sex"
      ],
      "metadata": {
        "id": "ySiumzUB06qS"
      }
    },
    {
      "cell_type": "code",
      "source": [
        "# Creating barplot for work class and sex\n",
        "\n",
        "colors <- c(\"orange\", \"blue\")\n",
        "barplot(sex_workclass_crosstab, col = colors, beside = TRUE)\n",
        "legend(\"topright\", legend = c(\"Female\", \"Male\"), fill = colors)"
      ],
      "metadata": {
        "colab": {
          "base_uri": "https://localhost:8080/",
          "height": 437
        },
        "id": "5TKzKbrSX2yx",
        "outputId": "4f8b3977-9e0a-4d95-8757-e3a47df84f7c"
      },
      "execution_count": 74,
      "outputs": [
        {
          "output_type": "display_data",
          "data": {
            "text/plain": [
              "plot without title"
            ],
            "image/png": "[encoded data removed]"
          },
          "metadata": {
            "image/png": {
              "width": 420,
              "height": 420
            }
          }
        }
      ]
    },
    {
      "cell_type": "markdown",
      "source": [
        "### The barplot diagram for workclass and sex is seen in the diagram above. Workclass values are on the x axis, while the range of male and female work under each job class is on the y axis."
      ],
      "metadata": {
        "id": "jp1MyrAu7nki"
      }
    },
    {
      "cell_type": "markdown",
      "source": [
        "## Contengency table for marital status and sex"
      ],
      "metadata": {
        "id": "NjhXPQqG1CVZ"
      }
    },
    {
      "cell_type": "code",
      "source": [
        "# Cross tabulation of sex and maritalstatus\n",
        "\n",
        "sex_marital_crosstab <- table(Adult_trainingDF$sex, Adult_trainingDF$maritalstatus)\n",
        "ftable(sex_marital_crosstab)"
      ],
      "metadata": {
        "colab": {
          "base_uri": "https://localhost:8080/",
          "height": 86
        },
        "id": "lzGBPF43ZdjW",
        "outputId": "0df6d381-bdf4-4755-c8c7-c3cde391e336"
      },
      "execution_count": 75,
      "outputs": [
        {
          "output_type": "display_data",
          "data": {
            "text/plain": [
              "        Divorced Married-AF-spouse Married-civ-spouse Married-spouse-absent Never-married Separated Widowed\n",
              "                                                                                                           \n",
              "Female      1219                 7                761                    95          2160       290     380\n",
              "Male         795                 4               6010                   104          2717       182      73"
            ]
          },
          "metadata": {}
        }
      ]
    },
    {
      "cell_type": "markdown",
      "source": [
        "### Marital status and sex are compared in a cross-tabulation. This crosstab displays the entire male and female population by marital status. Females have the largest number of married-civ-spouses, whereas males have the highest number of married-civ-spouses."
      ],
      "metadata": {
        "id": "TBAwaNYg7vqp"
      }
    },
    {
      "cell_type": "markdown",
      "source": [
        "## Barplot for sex and marital status"
      ],
      "metadata": {
        "id": "F6ofghe-1Kbh"
      }
    },
    {
      "cell_type": "code",
      "source": [
        "# creating barplot for sex and maritalstatus\n",
        "\n",
        "colors <- c(\"blue\", \"green\")\n",
        "barplot(sex_marital_crosstab, col = colors, beside = TRUE)\n",
        "legend(\"topright\", legend = c(\"Female\", \"Male\"), fill = colors)"
      ],
      "metadata": {
        "colab": {
          "base_uri": "https://localhost:8080/",
          "height": 437
        },
        "id": "Rert1uxqaNN7",
        "outputId": "8cc8d830-b03c-45bd-b9be-ee8568bfbb83"
      },
      "execution_count": 76,
      "outputs": [
        {
          "output_type": "display_data",
          "data": {
            "text/plain": [
              "plot without title"
            ],
            "image/png": "[encoded data removed]"
          },
          "metadata": {
            "image/png": {
              "width": 420,
              "height": 420
            }
          }
        }
      ]
    },
    {
      "cell_type": "markdown",
      "source": [
        "### For marital status and sex, a barplot diagram is used. Male and female values are on the x axis, while the range of male and female marital status is on the y axis. Married-civ-spouse has the highest marital status, while Married-AF-spouse has the lowest."
      ],
      "metadata": {
        "id": "9Sy-rBgo7yTP"
      }
    },
    {
      "cell_type": "markdown",
      "source": [
        "## Creating new data frame"
      ],
      "metadata": {
        "id": "Rn-sBzXz1UR2"
      }
    },
    {
      "cell_type": "code",
      "source": [
        "#creating dataframe for adultover40DF\n",
        "\n",
        "adultabove40DF<- subset(Adult_trainingDF,age>40)\n",
        "adultabove40DF"
      ],
      "metadata": {
        "colab": {
          "base_uri": "https://localhost:8080/",
          "height": 1000
        },
        "id": "ucCiGRLAbwxp",
        "outputId": "b8e48cef-55a0-494b-d557-e4062309a9cb"
      },
      "execution_count": 77,
      "outputs": [
        {
          "output_type": "display_data",
          "data": {
            "text/html": [
              "<table class=\"dataframe\">\n",
              "<caption>A tibble: 6144 × 9</caption>\n",
              "<thead>\n",
              "\t<tr><th scope=col>age</th><th scope=col>workclass</th><th scope=col>education</th><th scope=col>maritalstatus</th><th scope=col>occupation</th><th scope=col>sex</th><th scope=col>capitalgain</th><th scope=col>capitalloss</th><th scope=col>income</th></tr>\n",
              "\t<tr><th scope=col>&lt;dbl&gt;</th><th scope=col>&lt;chr&gt;</th><th scope=col>&lt;dbl&gt;</th><th scope=col>&lt;chr&gt;</th><th scope=col>&lt;chr&gt;</th><th scope=col>&lt;chr&gt;</th><th scope=col>&lt;dbl&gt;</th><th scope=col>&lt;dbl&gt;</th><th scope=col>&lt;chr&gt;</th></tr>\n",
              "</thead>\n",
              "<tbody>\n",
              "\t<tr><td>50</td><td>Self-emp-not-inc</td><td>13</td><td><span style=white-space:pre-wrap>Married-civ-spouse   </span></td><td><span style=white-space:pre-wrap>Exec-managerial  </span></td><td><span style=white-space:pre-wrap>Male  </span></td><td><span style=white-space:pre-wrap>    0</span></td><td><span style=white-space:pre-wrap>   0</span></td><td>&lt;=50K</td></tr>\n",
              "\t<tr><td>49</td><td><span style=white-space:pre-wrap>Private         </span></td><td> 5</td><td>Married-spouse-absent</td><td><span style=white-space:pre-wrap>Other-service    </span></td><td>Female</td><td><span style=white-space:pre-wrap>    0</span></td><td><span style=white-space:pre-wrap>   0</span></td><td>&lt;=50K</td></tr>\n",
              "\t<tr><td>52</td><td>Self-emp-not-inc</td><td> 9</td><td><span style=white-space:pre-wrap>Married-civ-spouse   </span></td><td><span style=white-space:pre-wrap>Exec-managerial  </span></td><td><span style=white-space:pre-wrap>Male  </span></td><td><span style=white-space:pre-wrap>    0</span></td><td><span style=white-space:pre-wrap>   0</span></td><td>&gt;50K </td></tr>\n",
              "\t<tr><td>43</td><td><span style=white-space:pre-wrap>Private         </span></td><td> 7</td><td><span style=white-space:pre-wrap>Married-civ-spouse   </span></td><td>Transport-moving </td><td><span style=white-space:pre-wrap>Male  </span></td><td><span style=white-space:pre-wrap>    0</span></td><td>2042</td><td>&lt;=50K</td></tr>\n",
              "\t<tr><td>54</td><td><span style=white-space:pre-wrap>Private         </span></td><td>10</td><td><span style=white-space:pre-wrap>Married-civ-spouse   </span></td><td><span style=white-space:pre-wrap>Private          </span></td><td><span style=white-space:pre-wrap>Male  </span></td><td><span style=white-space:pre-wrap>    0</span></td><td><span style=white-space:pre-wrap>   0</span></td><td>&gt;50K </td></tr>\n",
              "\t<tr><td>44</td><td><span style=white-space:pre-wrap>Private         </span></td><td>14</td><td><span style=white-space:pre-wrap>Divorced             </span></td><td><span style=white-space:pre-wrap>Exec-managerial  </span></td><td>Female</td><td><span style=white-space:pre-wrap>    0</span></td><td><span style=white-space:pre-wrap>   0</span></td><td>&lt;=50K</td></tr>\n",
              "\t<tr><td>50</td><td><span style=white-space:pre-wrap>Federal-gov     </span></td><td>13</td><td><span style=white-space:pre-wrap>Divorced             </span></td><td><span style=white-space:pre-wrap>Exec-managerial  </span></td><td><span style=white-space:pre-wrap>Male  </span></td><td><span style=white-space:pre-wrap>    0</span></td><td><span style=white-space:pre-wrap>   0</span></td><td>&gt;50K </td></tr>\n",
              "\t<tr><td>47</td><td><span style=white-space:pre-wrap>Self-emp-inc    </span></td><td> 9</td><td><span style=white-space:pre-wrap>Divorced             </span></td><td><span style=white-space:pre-wrap>Exec-managerial  </span></td><td><span style=white-space:pre-wrap>Male  </span></td><td><span style=white-space:pre-wrap>    0</span></td><td><span style=white-space:pre-wrap>   0</span></td><td>&lt;=50K</td></tr>\n",
              "\t<tr><td>43</td><td><span style=white-space:pre-wrap>Private         </span></td><td>10</td><td><span style=white-space:pre-wrap>Married-civ-spouse   </span></td><td><span style=white-space:pre-wrap>Tech-support     </span></td><td><span style=white-space:pre-wrap>Male  </span></td><td><span style=white-space:pre-wrap>    0</span></td><td><span style=white-space:pre-wrap>   0</span></td><td>&gt;50K </td></tr>\n",
              "\t<tr><td>53</td><td><span style=white-space:pre-wrap>Private         </span></td><td> 9</td><td><span style=white-space:pre-wrap>Married-civ-spouse   </span></td><td><span style=white-space:pre-wrap>Adm-clerical     </span></td><td>Female</td><td><span style=white-space:pre-wrap>    0</span></td><td><span style=white-space:pre-wrap>   0</span></td><td>&gt;50K </td></tr>\n",
              "\t<tr><td>79</td><td><span style=white-space:pre-wrap>Private         </span></td><td>10</td><td><span style=white-space:pre-wrap>Married-civ-spouse   </span></td><td><span style=white-space:pre-wrap>Prof-specialty   </span></td><td><span style=white-space:pre-wrap>Male  </span></td><td><span style=white-space:pre-wrap>    0</span></td><td><span style=white-space:pre-wrap>   0</span></td><td>&lt;=50K</td></tr>\n",
              "\t<tr><td>52</td><td><span style=white-space:pre-wrap>Private         </span></td><td>13</td><td><span style=white-space:pre-wrap>Married-civ-spouse   </span></td><td><span style=white-space:pre-wrap>Other-service    </span></td><td><span style=white-space:pre-wrap>Male  </span></td><td><span style=white-space:pre-wrap>    0</span></td><td><span style=white-space:pre-wrap>   0</span></td><td>&lt;=50K</td></tr>\n",
              "\t<tr><td>59</td><td><span style=white-space:pre-wrap>Private         </span></td><td> 9</td><td><span style=white-space:pre-wrap>Married-civ-spouse   </span></td><td><span style=white-space:pre-wrap>Sales            </span></td><td><span style=white-space:pre-wrap>Male  </span></td><td><span style=white-space:pre-wrap>    0</span></td><td><span style=white-space:pre-wrap>   0</span></td><td>&lt;=50K</td></tr>\n",
              "\t<tr><td>44</td><td><span style=white-space:pre-wrap>Private         </span></td><td> 9</td><td><span style=white-space:pre-wrap>Divorced             </span></td><td><span style=white-space:pre-wrap>Craft-repair     </span></td><td>Female</td><td>14344</td><td><span style=white-space:pre-wrap>   0</span></td><td>&gt;50K </td></tr>\n",
              "\t<tr><td>49</td><td><span style=white-space:pre-wrap>Local-gov       </span></td><td> 9</td><td><span style=white-space:pre-wrap>Married-civ-spouse   </span></td><td><span style=white-space:pre-wrap>Protective-serv  </span></td><td><span style=white-space:pre-wrap>Male  </span></td><td><span style=white-space:pre-wrap>    0</span></td><td><span style=white-space:pre-wrap>   0</span></td><td>&gt;50K </td></tr>\n",
              "\t<tr><td>43</td><td><span style=white-space:pre-wrap>Federal-gov     </span></td><td>16</td><td><span style=white-space:pre-wrap>Never-married        </span></td><td><span style=white-space:pre-wrap>Prof-specialty   </span></td><td>Female</td><td><span style=white-space:pre-wrap>    0</span></td><td><span style=white-space:pre-wrap>   0</span></td><td>&gt;50K </td></tr>\n",
              "\t<tr><td>76</td><td><span style=white-space:pre-wrap>Private         </span></td><td>14</td><td><span style=white-space:pre-wrap>Married-civ-spouse   </span></td><td><span style=white-space:pre-wrap>Exec-managerial  </span></td><td><span style=white-space:pre-wrap>Male  </span></td><td><span style=white-space:pre-wrap>    0</span></td><td><span style=white-space:pre-wrap>   0</span></td><td>&gt;50K </td></tr>\n",
              "\t<tr><td>44</td><td><span style=white-space:pre-wrap>Private         </span></td><td>13</td><td><span style=white-space:pre-wrap>Married-civ-spouse   </span></td><td><span style=white-space:pre-wrap>Exec-managerial  </span></td><td><span style=white-space:pre-wrap>Male  </span></td><td>15024</td><td><span style=white-space:pre-wrap>   0</span></td><td>&gt;50K </td></tr>\n",
              "\t<tr><td>47</td><td>Self-emp-not-inc</td><td>14</td><td><span style=white-space:pre-wrap>Never-married        </span></td><td><span style=white-space:pre-wrap>Prof-specialty   </span></td><td>Female</td><td><span style=white-space:pre-wrap>    0</span></td><td><span style=white-space:pre-wrap>   0</span></td><td>&lt;=50K</td></tr>\n",
              "\t<tr><td>42</td><td><span style=white-space:pre-wrap>Private         </span></td><td> 9</td><td><span style=white-space:pre-wrap>Married-civ-spouse   </span></td><td>Handlers-cleaners</td><td><span style=white-space:pre-wrap>Male  </span></td><td><span style=white-space:pre-wrap>    0</span></td><td><span style=white-space:pre-wrap>   0</span></td><td>&lt;=50K</td></tr>\n",
              "\t<tr><td>53</td><td><span style=white-space:pre-wrap>Private         </span></td><td> 5</td><td><span style=white-space:pre-wrap>Married-civ-spouse   </span></td><td>Handlers-cleaners</td><td><span style=white-space:pre-wrap>Male  </span></td><td><span style=white-space:pre-wrap>    0</span></td><td><span style=white-space:pre-wrap>   0</span></td><td>&lt;=50K</td></tr>\n",
              "\t<tr><td>56</td><td><span style=white-space:pre-wrap>Self-emp-inc    </span></td><td>10</td><td><span style=white-space:pre-wrap>Married-civ-spouse   </span></td><td><span style=white-space:pre-wrap>Sales            </span></td><td><span style=white-space:pre-wrap>Male  </span></td><td><span style=white-space:pre-wrap>    0</span></td><td><span style=white-space:pre-wrap>   0</span></td><td>&lt;=50K</td></tr>\n",
              "\t<tr><td>49</td><td><span style=white-space:pre-wrap>Local-gov       </span></td><td>11</td><td><span style=white-space:pre-wrap>Married-civ-spouse   </span></td><td><span style=white-space:pre-wrap>Craft-repair     </span></td><td><span style=white-space:pre-wrap>Male  </span></td><td><span style=white-space:pre-wrap>    0</span></td><td><span style=white-space:pre-wrap>   0</span></td><td>&gt;50K </td></tr>\n",
              "\t<tr><td>49</td><td><span style=white-space:pre-wrap>Private         </span></td><td>10</td><td><span style=white-space:pre-wrap>Married-civ-spouse   </span></td><td><span style=white-space:pre-wrap>Craft-repair     </span></td><td><span style=white-space:pre-wrap>Male  </span></td><td><span style=white-space:pre-wrap>    0</span></td><td><span style=white-space:pre-wrap>   0</span></td><td>&gt;50K </td></tr>\n",
              "\t<tr><td>61</td><td><span style=white-space:pre-wrap>Self-emp-inc    </span></td><td> 9</td><td><span style=white-space:pre-wrap>Married-civ-spouse   </span></td><td><span style=white-space:pre-wrap>Craft-repair     </span></td><td><span style=white-space:pre-wrap>Male  </span></td><td><span style=white-space:pre-wrap>    0</span></td><td><span style=white-space:pre-wrap>   0</span></td><td>&lt;=50K</td></tr>\n",
              "\t<tr><td>45</td><td><span style=white-space:pre-wrap>Private         </span></td><td>11</td><td><span style=white-space:pre-wrap>Never-married        </span></td><td><span style=white-space:pre-wrap>Prof-specialty   </span></td><td>Female</td><td><span style=white-space:pre-wrap>    0</span></td><td>1564</td><td>&gt;50K </td></tr>\n",
              "\t<tr><td>52</td><td><span style=white-space:pre-wrap>Private         </span></td><td> 9</td><td><span style=white-space:pre-wrap>Divorced             </span></td><td><span style=white-space:pre-wrap>Private          </span></td><td><span style=white-space:pre-wrap>Male  </span></td><td><span style=white-space:pre-wrap>    0</span></td><td><span style=white-space:pre-wrap>   0</span></td><td>&gt;50K </td></tr>\n",
              "\t<tr><td>71</td><td>Self-emp-not-inc</td><td>10</td><td><span style=white-space:pre-wrap>Separated            </span></td><td><span style=white-space:pre-wrap>Sales            </span></td><td><span style=white-space:pre-wrap>Male  </span></td><td><span style=white-space:pre-wrap>    0</span></td><td>1816</td><td>&lt;=50K</td></tr>\n",
              "\t<tr><td>68</td><td><span style=white-space:pre-wrap>Private         </span></td><td> 2</td><td><span style=white-space:pre-wrap>Divorced             </span></td><td><span style=white-space:pre-wrap>Private          </span></td><td>Female</td><td><span style=white-space:pre-wrap>    0</span></td><td><span style=white-space:pre-wrap>   0</span></td><td>&lt;=50K</td></tr>\n",
              "\t<tr><td>46</td><td><span style=white-space:pre-wrap>State-gov       </span></td><td>14</td><td><span style=white-space:pre-wrap>Widowed              </span></td><td><span style=white-space:pre-wrap>Protective-serv  </span></td><td><span style=white-space:pre-wrap>Male  </span></td><td><span style=white-space:pre-wrap>    0</span></td><td><span style=white-space:pre-wrap>   0</span></td><td>&lt;=50K</td></tr>\n",
              "\t<tr><td>⋮</td><td>⋮</td><td>⋮</td><td>⋮</td><td>⋮</td><td>⋮</td><td>⋮</td><td>⋮</td><td>⋮</td></tr>\n",
              "\t<tr><td>53</td><td><span style=white-space:pre-wrap>Private         </span></td><td>10</td><td>Married-civ-spouse</td><td>Transport-moving </td><td><span style=white-space:pre-wrap>Male  </span></td><td><span style=white-space:pre-wrap>   0</span></td><td>1887</td><td>&gt;50K </td></tr>\n",
              "\t<tr><td>51</td><td><span style=white-space:pre-wrap>Private         </span></td><td> 9</td><td>Married-civ-spouse</td><td><span style=white-space:pre-wrap>Craft-repair     </span></td><td><span style=white-space:pre-wrap>Male  </span></td><td><span style=white-space:pre-wrap>   0</span></td><td><span style=white-space:pre-wrap>   0</span></td><td>&lt;=50K</td></tr>\n",
              "\t<tr><td>53</td><td><span style=white-space:pre-wrap>Private         </span></td><td> 9</td><td><span style=white-space:pre-wrap>Widowed           </span></td><td>Machine-op-inspct</td><td>Female</td><td><span style=white-space:pre-wrap>   0</span></td><td><span style=white-space:pre-wrap>   0</span></td><td>&lt;=50K</td></tr>\n",
              "\t<tr><td>61</td><td><span style=white-space:pre-wrap>Private         </span></td><td> 4</td><td>Married-civ-spouse</td><td><span style=white-space:pre-wrap>Craft-repair     </span></td><td><span style=white-space:pre-wrap>Male  </span></td><td><span style=white-space:pre-wrap>   0</span></td><td><span style=white-space:pre-wrap>   0</span></td><td>&lt;=50K</td></tr>\n",
              "\t<tr><td>44</td><td><span style=white-space:pre-wrap>Self-emp-inc    </span></td><td>14</td><td>Married-civ-spouse</td><td><span style=white-space:pre-wrap>Sales            </span></td><td><span style=white-space:pre-wrap>Male  </span></td><td><span style=white-space:pre-wrap>   0</span></td><td><span style=white-space:pre-wrap>   0</span></td><td>&gt;50K </td></tr>\n",
              "\t<tr><td>85</td><td><span style=white-space:pre-wrap>Private         </span></td><td>13</td><td>Married-civ-spouse</td><td><span style=white-space:pre-wrap>Exec-managerial  </span></td><td><span style=white-space:pre-wrap>Male  </span></td><td><span style=white-space:pre-wrap>   0</span></td><td><span style=white-space:pre-wrap>   0</span></td><td>&lt;=50K</td></tr>\n",
              "\t<tr><td>62</td><td><span style=white-space:pre-wrap>Private         </span></td><td> 9</td><td><span style=white-space:pre-wrap>Widowed           </span></td><td><span style=white-space:pre-wrap>Adm-clerical     </span></td><td>Female</td><td><span style=white-space:pre-wrap>   0</span></td><td><span style=white-space:pre-wrap>   0</span></td><td>&lt;=50K</td></tr>\n",
              "\t<tr><td>48</td><td><span style=white-space:pre-wrap>Self-emp-inc    </span></td><td> 9</td><td>Married-civ-spouse</td><td><span style=white-space:pre-wrap>Craft-repair     </span></td><td><span style=white-space:pre-wrap>Male  </span></td><td>7298</td><td><span style=white-space:pre-wrap>   0</span></td><td>&gt;50K </td></tr>\n",
              "\t<tr><td>58</td><td><span style=white-space:pre-wrap>Local-gov       </span></td><td> 9</td><td>Married-civ-spouse</td><td><span style=white-space:pre-wrap>Other-service    </span></td><td><span style=white-space:pre-wrap>Male  </span></td><td><span style=white-space:pre-wrap>   0</span></td><td><span style=white-space:pre-wrap>   0</span></td><td>&lt;=50K</td></tr>\n",
              "\t<tr><td>66</td><td><span style=white-space:pre-wrap>Private         </span></td><td> 9</td><td><span style=white-space:pre-wrap>Widowed           </span></td><td><span style=white-space:pre-wrap>Exec-managerial  </span></td><td>Female</td><td><span style=white-space:pre-wrap>   0</span></td><td><span style=white-space:pre-wrap>   0</span></td><td>&lt;=50K</td></tr>\n",
              "\t<tr><td>58</td><td><span style=white-space:pre-wrap>Self-emp-inc    </span></td><td>16</td><td><span style=white-space:pre-wrap>Never-married     </span></td><td><span style=white-space:pre-wrap>Prof-specialty   </span></td><td>Female</td><td><span style=white-space:pre-wrap>   0</span></td><td><span style=white-space:pre-wrap>   0</span></td><td>&lt;=50K</td></tr>\n",
              "\t<tr><td>50</td><td><span style=white-space:pre-wrap>Private         </span></td><td>16</td><td><span style=white-space:pre-wrap>Divorced          </span></td><td><span style=white-space:pre-wrap>Prof-specialty   </span></td><td>Female</td><td><span style=white-space:pre-wrap>   0</span></td><td><span style=white-space:pre-wrap>   0</span></td><td>&lt;=50K</td></tr>\n",
              "\t<tr><td>49</td><td><span style=white-space:pre-wrap>Private         </span></td><td> 8</td><td><span style=white-space:pre-wrap>Divorced          </span></td><td><span style=white-space:pre-wrap>Private          </span></td><td><span style=white-space:pre-wrap>Male  </span></td><td><span style=white-space:pre-wrap>   0</span></td><td><span style=white-space:pre-wrap>   0</span></td><td>&lt;=50K</td></tr>\n",
              "\t<tr><td>64</td><td><span style=white-space:pre-wrap>State-gov       </span></td><td> 4</td><td>Married-civ-spouse</td><td><span style=white-space:pre-wrap>Other-service    </span></td><td>Female</td><td><span style=white-space:pre-wrap>   0</span></td><td><span style=white-space:pre-wrap>   0</span></td><td>&lt;=50K</td></tr>\n",
              "\t<tr><td>41</td><td><span style=white-space:pre-wrap>Private         </span></td><td>14</td><td>Married-civ-spouse</td><td><span style=white-space:pre-wrap>Exec-managerial  </span></td><td><span style=white-space:pre-wrap>Male  </span></td><td><span style=white-space:pre-wrap>   0</span></td><td><span style=white-space:pre-wrap>   0</span></td><td>&gt;50K </td></tr>\n",
              "\t<tr><td>52</td><td><span style=white-space:pre-wrap>Private         </span></td><td>11</td><td><span style=white-space:pre-wrap>Separated         </span></td><td><span style=white-space:pre-wrap>Sales            </span></td><td>Female</td><td><span style=white-space:pre-wrap>   0</span></td><td><span style=white-space:pre-wrap>   0</span></td><td>&lt;=50K</td></tr>\n",
              "\t<tr><td>42</td><td>Self-emp-not-inc</td><td> 9</td><td><span style=white-space:pre-wrap>Divorced          </span></td><td><span style=white-space:pre-wrap>Sales            </span></td><td><span style=white-space:pre-wrap>Male  </span></td><td><span style=white-space:pre-wrap>   0</span></td><td><span style=white-space:pre-wrap>   0</span></td><td>&lt;=50K</td></tr>\n",
              "\t<tr><td>82</td><td><span style=white-space:pre-wrap>Private         </span></td><td> 9</td><td><span style=white-space:pre-wrap>Never-married     </span></td><td><span style=white-space:pre-wrap>Private          </span></td><td><span style=white-space:pre-wrap>Male  </span></td><td><span style=white-space:pre-wrap>   0</span></td><td><span style=white-space:pre-wrap>   0</span></td><td>&lt;=50K</td></tr>\n",
              "\t<tr><td>57</td><td><span style=white-space:pre-wrap>Private         </span></td><td> 9</td><td>Married-civ-spouse</td><td>Transport-moving </td><td><span style=white-space:pre-wrap>Male  </span></td><td><span style=white-space:pre-wrap>   0</span></td><td><span style=white-space:pre-wrap>   0</span></td><td>&lt;=50K</td></tr>\n",
              "\t<tr><td>71</td><td><span style=white-space:pre-wrap>Private         </span></td><td> 5</td><td>Married-civ-spouse</td><td><span style=white-space:pre-wrap>Other-service    </span></td><td><span style=white-space:pre-wrap>Male  </span></td><td><span style=white-space:pre-wrap>   0</span></td><td><span style=white-space:pre-wrap>   0</span></td><td>&lt;=50K</td></tr>\n",
              "\t<tr><td>45</td><td><span style=white-space:pre-wrap>Private         </span></td><td> 6</td><td><span style=white-space:pre-wrap>Divorced          </span></td><td><span style=white-space:pre-wrap>Other-service    </span></td><td>Female</td><td><span style=white-space:pre-wrap>   0</span></td><td><span style=white-space:pre-wrap>   0</span></td><td>&lt;=50K</td></tr>\n",
              "\t<tr><td>46</td><td><span style=white-space:pre-wrap>Private         </span></td><td>14</td><td>Married-civ-spouse</td><td><span style=white-space:pre-wrap>Prof-specialty   </span></td><td>Female</td><td><span style=white-space:pre-wrap>   0</span></td><td><span style=white-space:pre-wrap>   0</span></td><td>&gt;50K </td></tr>\n",
              "\t<tr><td>66</td><td><span style=white-space:pre-wrap>Federal-gov     </span></td><td> 6</td><td>Married-civ-spouse</td><td><span style=white-space:pre-wrap>Craft-repair     </span></td><td><span style=white-space:pre-wrap>Male  </span></td><td>3471</td><td><span style=white-space:pre-wrap>   0</span></td><td>&lt;=50K</td></tr>\n",
              "\t<tr><td>46</td><td><span style=white-space:pre-wrap>Private         </span></td><td>10</td><td>Married-civ-spouse</td><td><span style=white-space:pre-wrap>Exec-managerial  </span></td><td><span style=white-space:pre-wrap>Male  </span></td><td><span style=white-space:pre-wrap>   0</span></td><td><span style=white-space:pre-wrap>   0</span></td><td>&gt;50K </td></tr>\n",
              "\t<tr><td>58</td><td><span style=white-space:pre-wrap>Private         </span></td><td> 7</td><td>Married-civ-spouse</td><td><span style=white-space:pre-wrap>Sales            </span></td><td><span style=white-space:pre-wrap>Male  </span></td><td><span style=white-space:pre-wrap>   0</span></td><td><span style=white-space:pre-wrap>   0</span></td><td>&lt;=50K</td></tr>\n",
              "\t<tr><td>45</td><td><span style=white-space:pre-wrap>Local-gov       </span></td><td>12</td><td><span style=white-space:pre-wrap>Divorced          </span></td><td><span style=white-space:pre-wrap>Prof-specialty   </span></td><td>Female</td><td><span style=white-space:pre-wrap>   0</span></td><td><span style=white-space:pre-wrap>   0</span></td><td>&lt;=50K</td></tr>\n",
              "\t<tr><td>65</td><td>Self-emp-not-inc</td><td>15</td><td><span style=white-space:pre-wrap>Never-married     </span></td><td><span style=white-space:pre-wrap>Prof-specialty   </span></td><td><span style=white-space:pre-wrap>Male  </span></td><td>1086</td><td><span style=white-space:pre-wrap>   0</span></td><td>&lt;=50K</td></tr>\n",
              "\t<tr><td>43</td><td><span style=white-space:pre-wrap>State-gov       </span></td><td>10</td><td><span style=white-space:pre-wrap>Divorced          </span></td><td><span style=white-space:pre-wrap>Adm-clerical     </span></td><td>Female</td><td><span style=white-space:pre-wrap>   0</span></td><td><span style=white-space:pre-wrap>   0</span></td><td>&lt;=50K</td></tr>\n",
              "\t<tr><td>43</td><td>Self-emp-not-inc</td><td>10</td><td>Married-civ-spouse</td><td><span style=white-space:pre-wrap>Craft-repair     </span></td><td><span style=white-space:pre-wrap>Male  </span></td><td><span style=white-space:pre-wrap>   0</span></td><td><span style=white-space:pre-wrap>   0</span></td><td>&lt;=50K</td></tr>\n",
              "\t<tr><td>58</td><td><span style=white-space:pre-wrap>Private         </span></td><td> 9</td><td><span style=white-space:pre-wrap>Widowed           </span></td><td><span style=white-space:pre-wrap>Adm-clerical     </span></td><td>Female</td><td><span style=white-space:pre-wrap>   0</span></td><td><span style=white-space:pre-wrap>   0</span></td><td>&lt;=50K</td></tr>\n",
              "</tbody>\n",
              "</table>\n"
            ],
            "text/markdown": "\nA tibble: 6144 × 9\n\n| age &lt;dbl&gt; | workclass &lt;chr&gt; | education &lt;dbl&gt; | maritalstatus &lt;chr&gt; | occupation &lt;chr&gt; | sex &lt;chr&gt; | capitalgain &lt;dbl&gt; | capitalloss &lt;dbl&gt; | income &lt;chr&gt; |\n|---|---|---|---|---|---|---|---|---|\n| 50 | Self-emp-not-inc | 13 | Married-civ-spouse    | Exec-managerial   | Male   |     0 |    0 | &lt;=50K |\n| 49 | Private          |  5 | Married-spouse-absent | Other-service     | Female |     0 |    0 | &lt;=50K |\n| 52 | Self-emp-not-inc |  9 | Married-civ-spouse    | Exec-managerial   | Male   |     0 |    0 | &gt;50K  |\n| 43 | Private          |  7 | Married-civ-spouse    | Transport-moving  | Male   |     0 | 2042 | &lt;=50K |\n| 54 | Private          | 10 | Married-civ-spouse    | Private           | Male   |     0 |    0 | &gt;50K  |\n| 44 | Private          | 14 | Divorced              | Exec-managerial   | Female |     0 |    0 | &lt;=50K |\n| 50 | Federal-gov      | 13 | Divorced              | Exec-managerial   | Male   |     0 |    0 | &gt;50K  |\n| 47 | Self-emp-inc     |  9 | Divorced              | Exec-managerial   | Male   |     0 |    0 | &lt;=50K |\n| 43 | Private          | 10 | Married-civ-spouse    | Tech-support      | Male   |     0 |    0 | &gt;50K  |\n| 53 | Private          |  9 | Married-civ-spouse    | Adm-clerical      | Female |     0 |    0 | &gt;50K  |\n| 79 | Private          | 10 | Married-civ-spouse    | Prof-specialty    | Male   |     0 |    0 | &lt;=50K |\n| 52 | Private          | 13 | Married-civ-spouse    | Other-service     | Male   |     0 |    0 | &lt;=50K |\n| 59 | Private          |  9 | Married-civ-spouse    | Sales             | Male   |     0 |    0 | &lt;=50K |\n| 44 | Private          |  9 | Divorced              | Craft-repair      | Female | 14344 |    0 | &gt;50K  |\n| 49 | Local-gov        |  9 | Married-civ-spouse    | Protective-serv   | Male   |     0 |    0 | &gt;50K  |\n| 43 | Federal-gov      | 16 | Never-married         | Prof-specialty    | Female |     0 |    0 | &gt;50K  |\n| 76 | Private          | 14 | Married-civ-spouse    | Exec-managerial   | Male   |     0 |    0 | &gt;50K  |\n| 44 | Private          | 13 | Married-civ-spouse    | Exec-managerial   | Male   | 15024 |    0 | &gt;50K  |\n| 47 | Self-emp-not-inc | 14 | Never-married         | Prof-specialty    | Female |     0 |    0 | &lt;=50K |\n| 42 | Private          |  9 | Married-civ-spouse    | Handlers-cleaners | Male   |     0 |    0 | &lt;=50K |\n| 53 | Private          |  5 | Married-civ-spouse    | Handlers-cleaners | Male   |     0 |    0 | &lt;=50K |\n| 56 | Self-emp-inc     | 10 | Married-civ-spouse    | Sales             | Male   |     0 |    0 | &lt;=50K |\n| 49 | Local-gov        | 11 | Married-civ-spouse    | Craft-repair      | Male   |     0 |    0 | &gt;50K  |\n| 49 | Private          | 10 | Married-civ-spouse    | Craft-repair      | Male   |     0 |    0 | &gt;50K  |\n| 61 | Self-emp-inc     |  9 | Married-civ-spouse    | Craft-repair      | Male   |     0 |    0 | &lt;=50K |\n| 45 | Private          | 11 | Never-married         | Prof-specialty    | Female |     0 | 1564 | &gt;50K  |\n| 52 | Private          |  9 | Divorced              | Private           | Male   |     0 |    0 | &gt;50K  |\n| 71 | Self-emp-not-inc | 10 | Separated             | Sales             | Male   |     0 | 1816 | &lt;=50K |\n| 68 | Private          |  2 | Divorced              | Private           | Female |     0 |    0 | &lt;=50K |\n| 46 | State-gov        | 14 | Widowed               | Protective-serv   | Male   |     0 |    0 | &lt;=50K |\n| ⋮ | ⋮ | ⋮ | ⋮ | ⋮ | ⋮ | ⋮ | ⋮ | ⋮ |\n| 53 | Private          | 10 | Married-civ-spouse | Transport-moving  | Male   |    0 | 1887 | &gt;50K  |\n| 51 | Private          |  9 | Married-civ-spouse | Craft-repair      | Male   |    0 |    0 | &lt;=50K |\n| 53 | Private          |  9 | Widowed            | Machine-op-inspct | Female |    0 |    0 | &lt;=50K |\n| 61 | Private          |  4 | Married-civ-spouse | Craft-repair      | Male   |    0 |    0 | &lt;=50K |\n| 44 | Self-emp-inc     | 14 | Married-civ-spouse | Sales             | Male   |    0 |    0 | &gt;50K  |\n| 85 | Private          | 13 | Married-civ-spouse | Exec-managerial   | Male   |    0 |    0 | &lt;=50K |\n| 62 | Private          |  9 | Widowed            | Adm-clerical      | Female |    0 |    0 | &lt;=50K |\n| 48 | Self-emp-inc     |  9 | Married-civ-spouse | Craft-repair      | Male   | 7298 |    0 | &gt;50K  |\n| 58 | Local-gov        |  9 | Married-civ-spouse | Other-service     | Male   |    0 |    0 | &lt;=50K |\n| 66 | Private          |  9 | Widowed            | Exec-managerial   | Female |    0 |    0 | &lt;=50K |\n| 58 | Self-emp-inc     | 16 | Never-married      | Prof-specialty    | Female |    0 |    0 | &lt;=50K |\n| 50 | Private          | 16 | Divorced           | Prof-specialty    | Female |    0 |    0 | &lt;=50K |\n| 49 | Private          |  8 | Divorced           | Private           | Male   |    0 |    0 | &lt;=50K |\n| 64 | State-gov        |  4 | Married-civ-spouse | Other-service     | Female |    0 |    0 | &lt;=50K |\n| 41 | Private          | 14 | Married-civ-spouse | Exec-managerial   | Male   |    0 |    0 | &gt;50K  |\n| 52 | Private          | 11 | Separated          | Sales             | Female |    0 |    0 | &lt;=50K |\n| 42 | Self-emp-not-inc |  9 | Divorced           | Sales             | Male   |    0 |    0 | &lt;=50K |\n| 82 | Private          |  9 | Never-married      | Private           | Male   |    0 |    0 | &lt;=50K |\n| 57 | Private          |  9 | Married-civ-spouse | Transport-moving  | Male   |    0 |    0 | &lt;=50K |\n| 71 | Private          |  5 | Married-civ-spouse | Other-service     | Male   |    0 |    0 | &lt;=50K |\n| 45 | Private          |  6 | Divorced           | Other-service     | Female |    0 |    0 | &lt;=50K |\n| 46 | Private          | 14 | Married-civ-spouse | Prof-specialty    | Female |    0 |    0 | &gt;50K  |\n| 66 | Federal-gov      |  6 | Married-civ-spouse | Craft-repair      | Male   | 3471 |    0 | &lt;=50K |\n| 46 | Private          | 10 | Married-civ-spouse | Exec-managerial   | Male   |    0 |    0 | &gt;50K  |\n| 58 | Private          |  7 | Married-civ-spouse | Sales             | Male   |    0 |    0 | &lt;=50K |\n| 45 | Local-gov        | 12 | Divorced           | Prof-specialty    | Female |    0 |    0 | &lt;=50K |\n| 65 | Self-emp-not-inc | 15 | Never-married      | Prof-specialty    | Male   | 1086 |    0 | &lt;=50K |\n| 43 | State-gov        | 10 | Divorced           | Adm-clerical      | Female |    0 |    0 | &lt;=50K |\n| 43 | Self-emp-not-inc | 10 | Married-civ-spouse | Craft-repair      | Male   |    0 |    0 | &lt;=50K |\n| 58 | Private          |  9 | Widowed            | Adm-clerical      | Female |    0 |    0 | &lt;=50K |\n\n",
            "text/latex": "A tibble: 6144 × 9\n\\begin{tabular}{lllllllll}\n age & workclass & education & maritalstatus & occupation & sex & capitalgain & capitalloss & income\\\\\n <dbl> & <chr> & <dbl> & <chr> & <chr> & <chr> & <dbl> & <dbl> & <chr>\\\\\n\\hline\n\t 50 & Self-emp-not-inc & 13 & Married-civ-spouse    & Exec-managerial   & Male   &     0 &    0 & <=50K\\\\\n\t 49 & Private          &  5 & Married-spouse-absent & Other-service     & Female &     0 &    0 & <=50K\\\\\n\t 52 & Self-emp-not-inc &  9 & Married-civ-spouse    & Exec-managerial   & Male   &     0 &    0 & >50K \\\\\n\t 43 & Private          &  7 & Married-civ-spouse    & Transport-moving  & Male   &     0 & 2042 & <=50K\\\\\n\t 54 & Private          & 10 & Married-civ-spouse    & Private           & Male   &     0 &    0 & >50K \\\\\n\t 44 & Private          & 14 & Divorced              & Exec-managerial   & Female &     0 &    0 & <=50K\\\\\n\t 50 & Federal-gov      & 13 & Divorced              & Exec-managerial   & Male   &     0 &    0 & >50K \\\\\n\t 47 & Self-emp-inc     &  9 & Divorced              & Exec-managerial   & Male   &     0 &    0 & <=50K\\\\\n\t 43 & Private          & 10 & Married-civ-spouse    & Tech-support      & Male   &     0 &    0 & >50K \\\\\n\t 53 & Private          &  9 & Married-civ-spouse    & Adm-clerical      & Female &     0 &    0 & >50K \\\\\n\t 79 & Private          & 10 & Married-civ-spouse    & Prof-specialty    & Male   &     0 &    0 & <=50K\\\\\n\t 52 & Private          & 13 & Married-civ-spouse    & Other-service     & Male   &     0 &    0 & <=50K\\\\\n\t 59 & Private          &  9 & Married-civ-spouse    & Sales             & Male   &     0 &    0 & <=50K\\\\\n\t 44 & Private          &  9 & Divorced              & Craft-repair      & Female & 14344 &    0 & >50K \\\\\n\t 49 & Local-gov        &  9 & Married-civ-spouse    & Protective-serv   & Male   &     0 &    0 & >50K \\\\\n\t 43 & Federal-gov      & 16 & Never-married         & Prof-specialty    & Female &     0 &    0 & >50K \\\\\n\t 76 & Private          & 14 & Married-civ-spouse    & Exec-managerial   & Male   &     0 &    0 & >50K \\\\\n\t 44 & Private          & 13 & Married-civ-spouse    & Exec-managerial   & Male   & 15024 &    0 & >50K \\\\\n\t 47 & Self-emp-not-inc & 14 & Never-married         & Prof-specialty    & Female &     0 &    0 & <=50K\\\\\n\t 42 & Private          &  9 & Married-civ-spouse    & Handlers-cleaners & Male   &     0 &    0 & <=50K\\\\\n\t 53 & Private          &  5 & Married-civ-spouse    & Handlers-cleaners & Male   &     0 &    0 & <=50K\\\\\n\t 56 & Self-emp-inc     & 10 & Married-civ-spouse    & Sales             & Male   &     0 &    0 & <=50K\\\\\n\t 49 & Local-gov        & 11 & Married-civ-spouse    & Craft-repair      & Male   &     0 &    0 & >50K \\\\\n\t 49 & Private          & 10 & Married-civ-spouse    & Craft-repair      & Male   &     0 &    0 & >50K \\\\\n\t 61 & Self-emp-inc     &  9 & Married-civ-spouse    & Craft-repair      & Male   &     0 &    0 & <=50K\\\\\n\t 45 & Private          & 11 & Never-married         & Prof-specialty    & Female &     0 & 1564 & >50K \\\\\n\t 52 & Private          &  9 & Divorced              & Private           & Male   &     0 &    0 & >50K \\\\\n\t 71 & Self-emp-not-inc & 10 & Separated             & Sales             & Male   &     0 & 1816 & <=50K\\\\\n\t 68 & Private          &  2 & Divorced              & Private           & Female &     0 &    0 & <=50K\\\\\n\t 46 & State-gov        & 14 & Widowed               & Protective-serv   & Male   &     0 &    0 & <=50K\\\\\n\t ⋮ & ⋮ & ⋮ & ⋮ & ⋮ & ⋮ & ⋮ & ⋮ & ⋮\\\\\n\t 53 & Private          & 10 & Married-civ-spouse & Transport-moving  & Male   &    0 & 1887 & >50K \\\\\n\t 51 & Private          &  9 & Married-civ-spouse & Craft-repair      & Male   &    0 &    0 & <=50K\\\\\n\t 53 & Private          &  9 & Widowed            & Machine-op-inspct & Female &    0 &    0 & <=50K\\\\\n\t 61 & Private          &  4 & Married-civ-spouse & Craft-repair      & Male   &    0 &    0 & <=50K\\\\\n\t 44 & Self-emp-inc     & 14 & Married-civ-spouse & Sales             & Male   &    0 &    0 & >50K \\\\\n\t 85 & Private          & 13 & Married-civ-spouse & Exec-managerial   & Male   &    0 &    0 & <=50K\\\\\n\t 62 & Private          &  9 & Widowed            & Adm-clerical      & Female &    0 &    0 & <=50K\\\\\n\t 48 & Self-emp-inc     &  9 & Married-civ-spouse & Craft-repair      & Male   & 7298 &    0 & >50K \\\\\n\t 58 & Local-gov        &  9 & Married-civ-spouse & Other-service     & Male   &    0 &    0 & <=50K\\\\\n\t 66 & Private          &  9 & Widowed            & Exec-managerial   & Female &    0 &    0 & <=50K\\\\\n\t 58 & Self-emp-inc     & 16 & Never-married      & Prof-specialty    & Female &    0 &    0 & <=50K\\\\\n\t 50 & Private          & 16 & Divorced           & Prof-specialty    & Female &    0 &    0 & <=50K\\\\\n\t 49 & Private          &  8 & Divorced           & Private           & Male   &    0 &    0 & <=50K\\\\\n\t 64 & State-gov        &  4 & Married-civ-spouse & Other-service     & Female &    0 &    0 & <=50K\\\\\n\t 41 & Private          & 14 & Married-civ-spouse & Exec-managerial   & Male   &    0 &    0 & >50K \\\\\n\t 52 & Private          & 11 & Separated          & Sales             & Female &    0 &    0 & <=50K\\\\\n\t 42 & Self-emp-not-inc &  9 & Divorced           & Sales             & Male   &    0 &    0 & <=50K\\\\\n\t 82 & Private          &  9 & Never-married      & Private           & Male   &    0 &    0 & <=50K\\\\\n\t 57 & Private          &  9 & Married-civ-spouse & Transport-moving  & Male   &    0 &    0 & <=50K\\\\\n\t 71 & Private          &  5 & Married-civ-spouse & Other-service     & Male   &    0 &    0 & <=50K\\\\\n\t 45 & Private          &  6 & Divorced           & Other-service     & Female &    0 &    0 & <=50K\\\\\n\t 46 & Private          & 14 & Married-civ-spouse & Prof-specialty    & Female &    0 &    0 & >50K \\\\\n\t 66 & Federal-gov      &  6 & Married-civ-spouse & Craft-repair      & Male   & 3471 &    0 & <=50K\\\\\n\t 46 & Private          & 10 & Married-civ-spouse & Exec-managerial   & Male   &    0 &    0 & >50K \\\\\n\t 58 & Private          &  7 & Married-civ-spouse & Sales             & Male   &    0 &    0 & <=50K\\\\\n\t 45 & Local-gov        & 12 & Divorced           & Prof-specialty    & Female &    0 &    0 & <=50K\\\\\n\t 65 & Self-emp-not-inc & 15 & Never-married      & Prof-specialty    & Male   & 1086 &    0 & <=50K\\\\\n\t 43 & State-gov        & 10 & Divorced           & Adm-clerical      & Female &    0 &    0 & <=50K\\\\\n\t 43 & Self-emp-not-inc & 10 & Married-civ-spouse & Craft-repair      & Male   &    0 &    0 & <=50K\\\\\n\t 58 & Private          &  9 & Widowed            & Adm-clerical      & Female &    0 &    0 & <=50K\\\\\n\\end{tabular}\n",
            "text/plain": [
              "     age workclass        education maritalstatus         occupation       \n",
              "1    50  Self-emp-not-inc 13        Married-civ-spouse    Exec-managerial  \n",
              "2    49  Private           5        Married-spouse-absent Other-service    \n",
              "3    52  Self-emp-not-inc  9        Married-civ-spouse    Exec-managerial  \n",
              "4    43  Private           7        Married-civ-spouse    Transport-moving \n",
              "5    54  Private          10        Married-civ-spouse    Private          \n",
              "6    44  Private          14        Divorced              Exec-managerial  \n",
              "7    50  Federal-gov      13        Divorced              Exec-managerial  \n",
              "8    47  Self-emp-inc      9        Divorced              Exec-managerial  \n",
              "9    43  Private          10        Married-civ-spouse    Tech-support     \n",
              "10   53  Private           9        Married-civ-spouse    Adm-clerical     \n",
              "11   79  Private          10        Married-civ-spouse    Prof-specialty   \n",
              "12   52  Private          13        Married-civ-spouse    Other-service    \n",
              "13   59  Private           9        Married-civ-spouse    Sales            \n",
              "14   44  Private           9        Divorced              Craft-repair     \n",
              "15   49  Local-gov         9        Married-civ-spouse    Protective-serv  \n",
              "16   43  Federal-gov      16        Never-married         Prof-specialty   \n",
              "17   76  Private          14        Married-civ-spouse    Exec-managerial  \n",
              "18   44  Private          13        Married-civ-spouse    Exec-managerial  \n",
              "19   47  Self-emp-not-inc 14        Never-married         Prof-specialty   \n",
              "20   42  Private           9        Married-civ-spouse    Handlers-cleaners\n",
              "21   53  Private           5        Married-civ-spouse    Handlers-cleaners\n",
              "22   56  Self-emp-inc     10        Married-civ-spouse    Sales            \n",
              "23   49  Local-gov        11        Married-civ-spouse    Craft-repair     \n",
              "24   49  Private          10        Married-civ-spouse    Craft-repair     \n",
              "25   61  Self-emp-inc      9        Married-civ-spouse    Craft-repair     \n",
              "26   45  Private          11        Never-married         Prof-specialty   \n",
              "27   52  Private           9        Divorced              Private          \n",
              "28   71  Self-emp-not-inc 10        Separated             Sales            \n",
              "29   68  Private           2        Divorced              Private          \n",
              "30   46  State-gov        14        Widowed               Protective-serv  \n",
              "⋮    ⋮   ⋮                ⋮         ⋮                     ⋮                \n",
              "6115 53  Private          10        Married-civ-spouse    Transport-moving \n",
              "6116 51  Private           9        Married-civ-spouse    Craft-repair     \n",
              "6117 53  Private           9        Widowed               Machine-op-inspct\n",
              "6118 61  Private           4        Married-civ-spouse    Craft-repair     \n",
              "6119 44  Self-emp-inc     14        Married-civ-spouse    Sales            \n",
              "6120 85  Private          13        Married-civ-spouse    Exec-managerial  \n",
              "6121 62  Private           9        Widowed               Adm-clerical     \n",
              "6122 48  Self-emp-inc      9        Married-civ-spouse    Craft-repair     \n",
              "6123 58  Local-gov         9        Married-civ-spouse    Other-service    \n",
              "6124 66  Private           9        Widowed               Exec-managerial  \n",
              "6125 58  Self-emp-inc     16        Never-married         Prof-specialty   \n",
              "6126 50  Private          16        Divorced              Prof-specialty   \n",
              "6127 49  Private           8        Divorced              Private          \n",
              "6128 64  State-gov         4        Married-civ-spouse    Other-service    \n",
              "6129 41  Private          14        Married-civ-spouse    Exec-managerial  \n",
              "6130 52  Private          11        Separated             Sales            \n",
              "6131 42  Self-emp-not-inc  9        Divorced              Sales            \n",
              "6132 82  Private           9        Never-married         Private          \n",
              "6133 57  Private           9        Married-civ-spouse    Transport-moving \n",
              "6134 71  Private           5        Married-civ-spouse    Other-service    \n",
              "6135 45  Private           6        Divorced              Other-service    \n",
              "6136 46  Private          14        Married-civ-spouse    Prof-specialty   \n",
              "6137 66  Federal-gov       6        Married-civ-spouse    Craft-repair     \n",
              "6138 46  Private          10        Married-civ-spouse    Exec-managerial  \n",
              "6139 58  Private           7        Married-civ-spouse    Sales            \n",
              "6140 45  Local-gov        12        Divorced              Prof-specialty   \n",
              "6141 65  Self-emp-not-inc 15        Never-married         Prof-specialty   \n",
              "6142 43  State-gov        10        Divorced              Adm-clerical     \n",
              "6143 43  Self-emp-not-inc 10        Married-civ-spouse    Craft-repair     \n",
              "6144 58  Private           9        Widowed               Adm-clerical     \n",
              "     sex    capitalgain capitalloss income\n",
              "1    Male       0          0        <=50K \n",
              "2    Female     0          0        <=50K \n",
              "3    Male       0          0        >50K  \n",
              "4    Male       0       2042        <=50K \n",
              "5    Male       0          0        >50K  \n",
              "6    Female     0          0        <=50K \n",
              "7    Male       0          0        >50K  \n",
              "8    Male       0          0        <=50K \n",
              "9    Male       0          0        >50K  \n",
              "10   Female     0          0        >50K  \n",
              "11   Male       0          0        <=50K \n",
              "12   Male       0          0        <=50K \n",
              "13   Male       0          0        <=50K \n",
              "14   Female 14344          0        >50K  \n",
              "15   Male       0          0        >50K  \n",
              "16   Female     0          0        >50K  \n",
              "17   Male       0          0        >50K  \n",
              "18   Male   15024          0        >50K  \n",
              "19   Female     0          0        <=50K \n",
              "20   Male       0          0        <=50K \n",
              "21   Male       0          0        <=50K \n",
              "22   Male       0          0        <=50K \n",
              "23   Male       0          0        >50K  \n",
              "24   Male       0          0        >50K  \n",
              "25   Male       0          0        <=50K \n",
              "26   Female     0       1564        >50K  \n",
              "27   Male       0          0        >50K  \n",
              "28   Male       0       1816        <=50K \n",
              "29   Female     0          0        <=50K \n",
              "30   Male       0          0        <=50K \n",
              "⋮    ⋮      ⋮           ⋮           ⋮     \n",
              "6115 Male      0        1887        >50K  \n",
              "6116 Male      0           0        <=50K \n",
              "6117 Female    0           0        <=50K \n",
              "6118 Male      0           0        <=50K \n",
              "6119 Male      0           0        >50K  \n",
              "6120 Male      0           0        <=50K \n",
              "6121 Female    0           0        <=50K \n",
              "6122 Male   7298           0        >50K  \n",
              "6123 Male      0           0        <=50K \n",
              "6124 Female    0           0        <=50K \n",
              "6125 Female    0           0        <=50K \n",
              "6126 Female    0           0        <=50K \n",
              "6127 Male      0           0        <=50K \n",
              "6128 Female    0           0        <=50K \n",
              "6129 Male      0           0        >50K  \n",
              "6130 Female    0           0        <=50K \n",
              "6131 Male      0           0        <=50K \n",
              "6132 Male      0           0        <=50K \n",
              "6133 Male      0           0        <=50K \n",
              "6134 Male      0           0        <=50K \n",
              "6135 Female    0           0        <=50K \n",
              "6136 Female    0           0        >50K  \n",
              "6137 Male   3471           0        <=50K \n",
              "6138 Male      0           0        >50K  \n",
              "6139 Male      0           0        <=50K \n",
              "6140 Female    0           0        <=50K \n",
              "6141 Male   1086           0        <=50K \n",
              "6142 Female    0           0        <=50K \n",
              "6143 Male      0           0        <=50K \n",
              "6144 Female    0           0        <=50K "
            ]
          },
          "metadata": {}
        }
      ]
    },
    {
      "cell_type": "markdown",
      "source": [
        "### For persons over the age of 40, a dataframe called 'Adultabove40' was created."
      ],
      "metadata": {
        "id": "P6NYAl8W8SnN"
      }
    },
    {
      "cell_type": "markdown",
      "source": [
        "## Contengency table for marital status and sex"
      ],
      "metadata": {
        "id": "5PzXX4tB1cys"
      }
    },
    {
      "cell_type": "code",
      "source": [
        "# Creating contingency table for age above 40\n",
        "\n",
        "above40_crosstab <- table(adultabove40DF$sex, adultabove40DF$maritalstatus)\n",
        "ftable(above40_crosstab)"
      ],
      "metadata": {
        "colab": {
          "base_uri": "https://localhost:8080/",
          "height": 86
        },
        "id": "O6nRwYUHeBZF",
        "outputId": "570e8e07-7d72-44ec-8dd2-bece1e9a7b8d"
      },
      "execution_count": 78,
      "outputs": [
        {
          "output_type": "display_data",
          "data": {
            "text/plain": [
              "        Divorced Married-civ-spouse Married-spouse-absent Never-married Separated Widowed\n",
              "                                                                                         \n",
              "Female       720                305                    38           256       133     354\n",
              "Male         448               3383                    47           315        74      71"
            ]
          },
          "metadata": {}
        }
      ]
    },
    {
      "cell_type": "markdown",
      "source": [
        "### Adultabove40DF contingency table Females are more likely to be divorced, whereas males are more likely to be married-civil-spouse."
      ],
      "metadata": {
        "id": "gyLb0lWT8eGT"
      }
    },
    {
      "cell_type": "markdown",
      "source": [
        "## Barplot for sex and marital status"
      ],
      "metadata": {
        "id": "ZhA4x4S81pO_"
      }
    },
    {
      "cell_type": "code",
      "source": [
        "# Creating barplot fro adult over 40\n",
        "\n",
        "colors <- c(\"blue\", \"green\")\n",
        "barplot(above40_crosstab, col = colors, beside = TRUE)\n",
        "legend(\"topright\", legend = c(\"Female\", \"Male\"), fill = colors)"
      ],
      "metadata": {
        "colab": {
          "base_uri": "https://localhost:8080/",
          "height": 437
        },
        "id": "4thZEtY8eaYV",
        "outputId": "58daa27d-b217-4845-e751-2bc5056a06e9"
      },
      "execution_count": 79,
      "outputs": [
        {
          "output_type": "display_data",
          "data": {
            "text/plain": [
              "plot without title"
            ],
            "image/png": "[encoded data removed]"
          },
          "metadata": {
            "image/png": {
              "width": 420,
              "height": 420
            }
          }
        }
      ]
    },
    {
      "cell_type": "markdown",
      "source": [
        "### Adultover40's barplot. Males over 40 have a greater range in Married-civ-spouse in marital status, while female divorced have a higher range in marital status, as seen in the graph above."
      ],
      "metadata": {
        "id": "qOWrPE9n8oYp"
      }
    },
    {
      "cell_type": "markdown",
      "source": [
        "# Detecting Outliers for education"
      ],
      "metadata": {
        "id": "3coZghPg1yRJ"
      }
    },
    {
      "cell_type": "code",
      "source": [
        "#checking for outliers in education.\n",
        "\n",
        "boxplot(Adult_trainingDF$education,ylab = \"education\",main = \"Boxplot\",horizontal = TRUE)\n",
        "mtext(paste(\"Outliers: \", paste(collapse = \", \")))"
      ],
      "metadata": {
        "colab": {
          "base_uri": "https://localhost:8080/",
          "height": 437
        },
        "id": "wfnqHdFTSJZr",
        "outputId": "583a6146-ac1b-428b-8ef3-7433d00c587b"
      },
      "execution_count": 80,
      "outputs": [
        {
          "output_type": "display_data",
          "data": {
            "text/plain": [
              "Plot with title “Boxplot”"
            ],
            "image/png": "[encoded data removed]"
          },
          "metadata": {
            "image/png": {
              "width": 420,
              "height": 420
            }
          }
        }
      ]
    },
    {
      "cell_type": "markdown",
      "source": [
        "Outliers from 4 are plainly seen in the graph above."
      ],
      "metadata": {
        "id": "xXk0tnmZ8qNq"
      }
    },
    {
      "cell_type": "code",
      "source": [
        "#Prining index of outliers of education.\n",
        "\n",
        "outlier_education<- which(Adult_trainingDF$education < 4)\n",
        "outlier_education"
      ],
      "metadata": {
        "colab": {
          "base_uri": "https://localhost:8080/",
          "height": 173
        },
        "id": "BgowHUYBSRWn",
        "outputId": "231a8329-1092-44b9-b08a-d2b121d63073"
      },
      "execution_count": 81,
      "outputs": [
        {
          "output_type": "display_data",
          "data": {
            "text/html": [
              "<style>\n",
              ".list-inline {list-style: none; margin:0; padding: 0}\n",
              ".list-inline>li {display: inline-block}\n",
              ".list-inline>li:not(:last-child)::after {content: \"\\00b7\"; padding: 0 .5ex}\n",
              "</style>\n",
              "<ol class=list-inline><li>73</li><li>102</li><li>200</li><li>235</li><li>244</li><li>285</li><li>354</li><li>438</li><li>542</li><li>628</li><li>821</li><li>878</li><li>997</li><li>1124</li><li>1183</li><li>1196</li><li>1223</li><li>1224</li><li>1286</li><li>1309</li><li>1319</li><li>1322</li><li>1351</li><li>1397</li><li>1479</li><li>1497</li><li>1518</li><li>1570</li><li>1588</li><li>1684</li><li>1784</li><li>1808</li><li>1881</li><li>1984</li><li>2287</li><li>2296</li><li>2300</li><li>2373</li><li>2466</li><li>2524</li><li>2539</li><li>2579</li><li>2588</li><li>2627</li><li>2641</li><li>2686</li><li>2703</li><li>2747</li><li>2758</li><li>2979</li><li>3274</li><li>3373</li><li>3572</li><li>3648</li><li>3733</li><li>3742</li><li>3818</li><li>3838</li><li>3925</li><li>4043</li><li>4080</li><li>4081</li><li>4126</li><li>4129</li><li>4137</li><li>4189</li><li>4241</li><li>4257</li><li>4302</li><li>4319</li><li>4391</li><li>4416</li><li>4489</li><li>4591</li><li>4661</li><li>4722</li><li>4762</li><li>4805</li><li>4812</li><li>4887</li><li>4926</li><li>5001</li><li>5020</li><li>5106</li><li>5179</li><li>5241</li><li>5263</li><li>5337</li><li>5379</li><li>5432</li><li>5445</li><li>5457</li><li>5532</li><li>5541</li><li>5595</li><li>5678</li><li>5703</li><li>5762</li><li>5842</li><li>5962</li><li>5989</li><li>6003</li><li>6009</li><li>6049</li><li>6103</li><li>6226</li><li>6259</li><li>6273</li><li>6392</li><li>6448</li><li>6461</li><li>6515</li><li>6555</li><li>6612</li><li>6660</li><li>6785</li><li>6799</li><li>6844</li><li>6849</li><li>6911</li><li>6948</li><li>6992</li><li>7003</li><li>7091</li><li>7096</li><li>7106</li><li>7227</li><li>7339</li><li>7354</li><li>7465</li><li>7509</li><li>7565</li><li>7681</li><li>7784</li><li>7816</li><li>7926</li><li>7942</li><li>7945</li><li>8072</li><li>8081</li><li>8132</li><li>8196</li><li>8373</li><li>8395</li><li>8467</li><li>8515</li><li>8543</li><li>8577</li><li>8682</li><li>8741</li><li>8766</li><li>8773</li><li>8881</li><li>8964</li><li>8970</li><li>8975</li><li>9165</li><li>9182</li><li>9359</li><li>9370</li><li>9512</li><li>9550</li><li>9563</li><li>9681</li><li>9684</li><li>9717</li><li>9775</li><li>9804</li><li>9875</li><li>9906</li><li>9950</li><li>9966</li><li>9975</li><li>9976</li><li>10007</li><li>10093</li><li>10132</li><li>10212</li><li>10215</li><li>10317</li><li>10454</li><li>10471</li><li>10512</li><li>10546</li><li>10547</li><li>10599</li><li>10652</li><li>10818</li><li>10877</li><li>10941</li><li>11068</li><li>11092</li><li>11482</li><li>11485</li><li>11511</li><li>11532</li><li>11578</li><li>11655</li><li>11803</li><li>11947</li><li>11982</li><li>12077</li><li>12183</li><li>12198</li><li>12224</li><li>12253</li><li>12265</li><li>12343</li><li>12358</li><li>12399</li><li>12488</li><li>12490</li><li>12499</li><li>12543</li><li>12560</li><li>12616</li><li>12620</li><li>12632</li><li>12645</li><li>12683</li><li>12735</li><li>12745</li><li>12746</li><li>12765</li><li>12797</li><li>12836</li><li>12838</li><li>12870</li><li>12956</li><li>12966</li><li>12998</li><li>13002</li><li>13005</li><li>13007</li><li>13065</li><li>13068</li><li>13084</li><li>13366</li><li>13371</li><li>13374</li><li>13383</li><li>13447</li><li>13456</li><li>13512</li><li>13553</li><li>13564</li><li>13747</li><li>13764</li><li>13783</li><li>13825</li><li>13837</li><li>13853</li><li>14012</li><li>14016</li><li>14017</li><li>14098</li><li>14117</li><li>14142</li><li>14186</li><li>14253</li><li>14255</li><li>14319</li><li>14331</li><li>14476</li><li>14552</li><li>14625</li><li>14691</li><li>14725</li><li>14728</li></ol>\n"
            ],
            "text/markdown": "1. 73\n2. 102\n3. 200\n4. 235\n5. 244\n6. 285\n7. 354\n8. 438\n9. 542\n10. 628\n11. 821\n12. 878\n13. 997\n14. 1124\n15. 1183\n16. 1196\n17. 1223\n18. 1224\n19. 1286\n20. 1309\n21. 1319\n22. 1322\n23. 1351\n24. 1397\n25. 1479\n26. 1497\n27. 1518\n28. 1570\n29. 1588\n30. 1684\n31. 1784\n32. 1808\n33. 1881\n34. 1984\n35. 2287\n36. 2296\n37. 2300\n38. 2373\n39. 2466\n40. 2524\n41. 2539\n42. 2579\n43. 2588\n44. 2627\n45. 2641\n46. 2686\n47. 2703\n48. 2747\n49. 2758\n50. 2979\n51. 3274\n52. 3373\n53. 3572\n54. 3648\n55. 3733\n56. 3742\n57. 3818\n58. 3838\n59. 3925\n60. 4043\n61. 4080\n62. 4081\n63. 4126\n64. 4129\n65. 4137\n66. 4189\n67. 4241\n68. 4257\n69. 4302\n70. 4319\n71. 4391\n72. 4416\n73. 4489\n74. 4591\n75. 4661\n76. 4722\n77. 4762\n78. 4805\n79. 4812\n80. 4887\n81. 4926\n82. 5001\n83. 5020\n84. 5106\n85. 5179\n86. 5241\n87. 5263\n88. 5337\n89. 5379\n90. 5432\n91. 5445\n92. 5457\n93. 5532\n94. 5541\n95. 5595\n96. 5678\n97. 5703\n98. 5762\n99. 5842\n100. 5962\n101. 5989\n102. 6003\n103. 6009\n104. 6049\n105. 6103\n106. 6226\n107. 6259\n108. 6273\n109. 6392\n110. 6448\n111. 6461\n112. 6515\n113. 6555\n114. 6612\n115. 6660\n116. 6785\n117. 6799\n118. 6844\n119. 6849\n120. 6911\n121. 6948\n122. 6992\n123. 7003\n124. 7091\n125. 7096\n126. 7106\n127. 7227\n128. 7339\n129. 7354\n130. 7465\n131. 7509\n132. 7565\n133. 7681\n134. 7784\n135. 7816\n136. 7926\n137. 7942\n138. 7945\n139. 8072\n140. 8081\n141. 8132\n142. 8196\n143. 8373\n144. 8395\n145. 8467\n146. 8515\n147. 8543\n148. 8577\n149. 8682\n150. 8741\n151. 8766\n152. 8773\n153. 8881\n154. 8964\n155. 8970\n156. 8975\n157. 9165\n158. 9182\n159. 9359\n160. 9370\n161. 9512\n162. 9550\n163. 9563\n164. 9681\n165. 9684\n166. 9717\n167. 9775\n168. 9804\n169. 9875\n170. 9906\n171. 9950\n172. 9966\n173. 9975\n174. 9976\n175. 10007\n176. 10093\n177. 10132\n178. 10212\n179. 10215\n180. 10317\n181. 10454\n182. 10471\n183. 10512\n184. 10546\n185. 10547\n186. 10599\n187. 10652\n188. 10818\n189. 10877\n190. 10941\n191. 11068\n192. 11092\n193. 11482\n194. 11485\n195. 11511\n196. 11532\n197. 11578\n198. 11655\n199. 11803\n200. 11947\n201. 11982\n202. 12077\n203. 12183\n204. 12198\n205. 12224\n206. 12253\n207. 12265\n208. 12343\n209. 12358\n210. 12399\n211. 12488\n212. 12490\n213. 12499\n214. 12543\n215. 12560\n216. 12616\n217. 12620\n218. 12632\n219. 12645\n220. 12683\n221. 12735\n222. 12745\n223. 12746\n224. 12765\n225. 12797\n226. 12836\n227. 12838\n228. 12870\n229. 12956\n230. 12966\n231. 12998\n232. 13002\n233. 13005\n234. 13007\n235. 13065\n236. 13068\n237. 13084\n238. 13366\n239. 13371\n240. 13374\n241. 13383\n242. 13447\n243. 13456\n244. 13512\n245. 13553\n246. 13564\n247. 13747\n248. 13764\n249. 13783\n250. 13825\n251. 13837\n252. 13853\n253. 14012\n254. 14016\n255. 14017\n256. 14098\n257. 14117\n258. 14142\n259. 14186\n260. 14253\n261. 14255\n262. 14319\n263. 14331\n264. 14476\n265. 14552\n266. 14625\n267. 14691\n268. 14725\n269. 14728\n\n\n",
            "text/latex": "\\begin{enumerate*}\n\\item 73\n\\item 102\n\\item 200\n\\item 235\n\\item 244\n\\item 285\n\\item 354\n\\item 438\n\\item 542\n\\item 628\n\\item 821\n\\item 878\n\\item 997\n\\item 1124\n\\item 1183\n\\item 1196\n\\item 1223\n\\item 1224\n\\item 1286\n\\item 1309\n\\item 1319\n\\item 1322\n\\item 1351\n\\item 1397\n\\item 1479\n\\item 1497\n\\item 1518\n\\item 1570\n\\item 1588\n\\item 1684\n\\item 1784\n\\item 1808\n\\item 1881\n\\item 1984\n\\item 2287\n\\item 2296\n\\item 2300\n\\item 2373\n\\item 2466\n\\item 2524\n\\item 2539\n\\item 2579\n\\item 2588\n\\item 2627\n\\item 2641\n\\item 2686\n\\item 2703\n\\item 2747\n\\item 2758\n\\item 2979\n\\item 3274\n\\item 3373\n\\item 3572\n\\item 3648\n\\item 3733\n\\item 3742\n\\item 3818\n\\item 3838\n\\item 3925\n\\item 4043\n\\item 4080\n\\item 4081\n\\item 4126\n\\item 4129\n\\item 4137\n\\item 4189\n\\item 4241\n\\item 4257\n\\item 4302\n\\item 4319\n\\item 4391\n\\item 4416\n\\item 4489\n\\item 4591\n\\item 4661\n\\item 4722\n\\item 4762\n\\item 4805\n\\item 4812\n\\item 4887\n\\item 4926\n\\item 5001\n\\item 5020\n\\item 5106\n\\item 5179\n\\item 5241\n\\item 5263\n\\item 5337\n\\item 5379\n\\item 5432\n\\item 5445\n\\item 5457\n\\item 5532\n\\item 5541\n\\item 5595\n\\item 5678\n\\item 5703\n\\item 5762\n\\item 5842\n\\item 5962\n\\item 5989\n\\item 6003\n\\item 6009\n\\item 6049\n\\item 6103\n\\item 6226\n\\item 6259\n\\item 6273\n\\item 6392\n\\item 6448\n\\item 6461\n\\item 6515\n\\item 6555\n\\item 6612\n\\item 6660\n\\item 6785\n\\item 6799\n\\item 6844\n\\item 6849\n\\item 6911\n\\item 6948\n\\item 6992\n\\item 7003\n\\item 7091\n\\item 7096\n\\item 7106\n\\item 7227\n\\item 7339\n\\item 7354\n\\item 7465\n\\item 7509\n\\item 7565\n\\item 7681\n\\item 7784\n\\item 7816\n\\item 7926\n\\item 7942\n\\item 7945\n\\item 8072\n\\item 8081\n\\item 8132\n\\item 8196\n\\item 8373\n\\item 8395\n\\item 8467\n\\item 8515\n\\item 8543\n\\item 8577\n\\item 8682\n\\item 8741\n\\item 8766\n\\item 8773\n\\item 8881\n\\item 8964\n\\item 8970\n\\item 8975\n\\item 9165\n\\item 9182\n\\item 9359\n\\item 9370\n\\item 9512\n\\item 9550\n\\item 9563\n\\item 9681\n\\item 9684\n\\item 9717\n\\item 9775\n\\item 9804\n\\item 9875\n\\item 9906\n\\item 9950\n\\item 9966\n\\item 9975\n\\item 9976\n\\item 10007\n\\item 10093\n\\item 10132\n\\item 10212\n\\item 10215\n\\item 10317\n\\item 10454\n\\item 10471\n\\item 10512\n\\item 10546\n\\item 10547\n\\item 10599\n\\item 10652\n\\item 10818\n\\item 10877\n\\item 10941\n\\item 11068\n\\item 11092\n\\item 11482\n\\item 11485\n\\item 11511\n\\item 11532\n\\item 11578\n\\item 11655\n\\item 11803\n\\item 11947\n\\item 11982\n\\item 12077\n\\item 12183\n\\item 12198\n\\item 12224\n\\item 12253\n\\item 12265\n\\item 12343\n\\item 12358\n\\item 12399\n\\item 12488\n\\item 12490\n\\item 12499\n\\item 12543\n\\item 12560\n\\item 12616\n\\item 12620\n\\item 12632\n\\item 12645\n\\item 12683\n\\item 12735\n\\item 12745\n\\item 12746\n\\item 12765\n\\item 12797\n\\item 12836\n\\item 12838\n\\item 12870\n\\item 12956\n\\item 12966\n\\item 12998\n\\item 13002\n\\item 13005\n\\item 13007\n\\item 13065\n\\item 13068\n\\item 13084\n\\item 13366\n\\item 13371\n\\item 13374\n\\item 13383\n\\item 13447\n\\item 13456\n\\item 13512\n\\item 13553\n\\item 13564\n\\item 13747\n\\item 13764\n\\item 13783\n\\item 13825\n\\item 13837\n\\item 13853\n\\item 14012\n\\item 14016\n\\item 14017\n\\item 14098\n\\item 14117\n\\item 14142\n\\item 14186\n\\item 14253\n\\item 14255\n\\item 14319\n\\item 14331\n\\item 14476\n\\item 14552\n\\item 14625\n\\item 14691\n\\item 14725\n\\item 14728\n\\end{enumerate*}\n",
            "text/plain": [
              "  [1]    73   102   200   235   244   285   354   438   542   628   821   878\n",
              " [13]   997  1124  1183  1196  1223  1224  1286  1309  1319  1322  1351  1397\n",
              " [25]  1479  1497  1518  1570  1588  1684  1784  1808  1881  1984  2287  2296\n",
              " [37]  2300  2373  2466  2524  2539  2579  2588  2627  2641  2686  2703  2747\n",
              " [49]  2758  2979  3274  3373  3572  3648  3733  3742  3818  3838  3925  4043\n",
              " [61]  4080  4081  4126  4129  4137  4189  4241  4257  4302  4319  4391  4416\n",
              " [73]  4489  4591  4661  4722  4762  4805  4812  4887  4926  5001  5020  5106\n",
              " [85]  5179  5241  5263  5337  5379  5432  5445  5457  5532  5541  5595  5678\n",
              " [97]  5703  5762  5842  5962  5989  6003  6009  6049  6103  6226  6259  6273\n",
              "[109]  6392  6448  6461  6515  6555  6612  6660  6785  6799  6844  6849  6911\n",
              "[121]  6948  6992  7003  7091  7096  7106  7227  7339  7354  7465  7509  7565\n",
              "[133]  7681  7784  7816  7926  7942  7945  8072  8081  8132  8196  8373  8395\n",
              "[145]  8467  8515  8543  8577  8682  8741  8766  8773  8881  8964  8970  8975\n",
              "[157]  9165  9182  9359  9370  9512  9550  9563  9681  9684  9717  9775  9804\n",
              "[169]  9875  9906  9950  9966  9975  9976 10007 10093 10132 10212 10215 10317\n",
              "[181] 10454 10471 10512 10546 10547 10599 10652 10818 10877 10941 11068 11092\n",
              "[193] 11482 11485 11511 11532 11578 11655 11803 11947 11982 12077 12183 12198\n",
              "[205] 12224 12253 12265 12343 12358 12399 12488 12490 12499 12543 12560 12616\n",
              "[217] 12620 12632 12645 12683 12735 12745 12746 12765 12797 12836 12838 12870\n",
              "[229] 12956 12966 12998 13002 13005 13007 13065 13068 13084 13366 13371 13374\n",
              "[241] 13383 13447 13456 13512 13553 13564 13747 13764 13783 13825 13837 13853\n",
              "[253] 14012 14016 14017 14098 14117 14142 14186 14253 14255 14319 14331 14476\n",
              "[265] 14552 14625 14691 14725 14728"
            ]
          },
          "metadata": {}
        }
      ]
    },
    {
      "cell_type": "markdown",
      "source": [
        "Outliers indexing numbers where education<3."
      ],
      "metadata": {
        "id": "nhbV6mFG8vi4"
      }
    },
    {
      "cell_type": "code",
      "source": [
        "#outlier of education\n",
        "\n",
        "Adult_trainingDF[outlier_education, \"education\"]"
      ],
      "metadata": {
        "colab": {
          "base_uri": "https://localhost:8080/",
          "height": 1000
        },
        "id": "swiaxlApSiXA",
        "outputId": "badd21e5-2aae-48f2-fb17-a485cca9ccee"
      },
      "execution_count": 82,
      "outputs": [
        {
          "output_type": "display_data",
          "data": {
            "text/html": [
              "<table class=\"dataframe\">\n",
              "<caption>A tibble: 269 × 1</caption>\n",
              "<thead>\n",
              "\t<tr><th scope=col>education</th></tr>\n",
              "\t<tr><th scope=col>&lt;dbl&gt;</th></tr>\n",
              "</thead>\n",
              "<tbody>\n",
              "\t<tr><td>2</td></tr>\n",
              "\t<tr><td>1</td></tr>\n",
              "\t<tr><td>2</td></tr>\n",
              "\t<tr><td>3</td></tr>\n",
              "\t<tr><td>2</td></tr>\n",
              "\t<tr><td>3</td></tr>\n",
              "\t<tr><td>3</td></tr>\n",
              "\t<tr><td>2</td></tr>\n",
              "\t<tr><td>2</td></tr>\n",
              "\t<tr><td>3</td></tr>\n",
              "\t<tr><td>3</td></tr>\n",
              "\t<tr><td>2</td></tr>\n",
              "\t<tr><td>3</td></tr>\n",
              "\t<tr><td>3</td></tr>\n",
              "\t<tr><td>2</td></tr>\n",
              "\t<tr><td>3</td></tr>\n",
              "\t<tr><td>3</td></tr>\n",
              "\t<tr><td>2</td></tr>\n",
              "\t<tr><td>3</td></tr>\n",
              "\t<tr><td>2</td></tr>\n",
              "\t<tr><td>3</td></tr>\n",
              "\t<tr><td>1</td></tr>\n",
              "\t<tr><td>1</td></tr>\n",
              "\t<tr><td>3</td></tr>\n",
              "\t<tr><td>3</td></tr>\n",
              "\t<tr><td>2</td></tr>\n",
              "\t<tr><td>3</td></tr>\n",
              "\t<tr><td>3</td></tr>\n",
              "\t<tr><td>1</td></tr>\n",
              "\t<tr><td>3</td></tr>\n",
              "\t<tr><td>⋮</td></tr>\n",
              "\t<tr><td>2</td></tr>\n",
              "\t<tr><td>2</td></tr>\n",
              "\t<tr><td>3</td></tr>\n",
              "\t<tr><td>2</td></tr>\n",
              "\t<tr><td>2</td></tr>\n",
              "\t<tr><td>2</td></tr>\n",
              "\t<tr><td>2</td></tr>\n",
              "\t<tr><td>3</td></tr>\n",
              "\t<tr><td>3</td></tr>\n",
              "\t<tr><td>3</td></tr>\n",
              "\t<tr><td>3</td></tr>\n",
              "\t<tr><td>3</td></tr>\n",
              "\t<tr><td>3</td></tr>\n",
              "\t<tr><td>2</td></tr>\n",
              "\t<tr><td>2</td></tr>\n",
              "\t<tr><td>2</td></tr>\n",
              "\t<tr><td>3</td></tr>\n",
              "\t<tr><td>2</td></tr>\n",
              "\t<tr><td>2</td></tr>\n",
              "\t<tr><td>2</td></tr>\n",
              "\t<tr><td>3</td></tr>\n",
              "\t<tr><td>2</td></tr>\n",
              "\t<tr><td>2</td></tr>\n",
              "\t<tr><td>3</td></tr>\n",
              "\t<tr><td>2</td></tr>\n",
              "\t<tr><td>1</td></tr>\n",
              "\t<tr><td>3</td></tr>\n",
              "\t<tr><td>3</td></tr>\n",
              "\t<tr><td>2</td></tr>\n",
              "\t<tr><td>3</td></tr>\n",
              "</tbody>\n",
              "</table>\n"
            ],
            "text/markdown": "\nA tibble: 269 × 1\n\n| education &lt;dbl&gt; |\n|---|\n| 2 |\n| 1 |\n| 2 |\n| 3 |\n| 2 |\n| 3 |\n| 3 |\n| 2 |\n| 2 |\n| 3 |\n| 3 |\n| 2 |\n| 3 |\n| 3 |\n| 2 |\n| 3 |\n| 3 |\n| 2 |\n| 3 |\n| 2 |\n| 3 |\n| 1 |\n| 1 |\n| 3 |\n| 3 |\n| 2 |\n| 3 |\n| 3 |\n| 1 |\n| 3 |\n| ⋮ |\n| 2 |\n| 2 |\n| 3 |\n| 2 |\n| 2 |\n| 2 |\n| 2 |\n| 3 |\n| 3 |\n| 3 |\n| 3 |\n| 3 |\n| 3 |\n| 2 |\n| 2 |\n| 2 |\n| 3 |\n| 2 |\n| 2 |\n| 2 |\n| 3 |\n| 2 |\n| 2 |\n| 3 |\n| 2 |\n| 1 |\n| 3 |\n| 3 |\n| 2 |\n| 3 |\n\n",
            "text/latex": "A tibble: 269 × 1\n\\begin{tabular}{l}\n education\\\\\n <dbl>\\\\\n\\hline\n\t 2\\\\\n\t 1\\\\\n\t 2\\\\\n\t 3\\\\\n\t 2\\\\\n\t 3\\\\\n\t 3\\\\\n\t 2\\\\\n\t 2\\\\\n\t 3\\\\\n\t 3\\\\\n\t 2\\\\\n\t 3\\\\\n\t 3\\\\\n\t 2\\\\\n\t 3\\\\\n\t 3\\\\\n\t 2\\\\\n\t 3\\\\\n\t 2\\\\\n\t 3\\\\\n\t 1\\\\\n\t 1\\\\\n\t 3\\\\\n\t 3\\\\\n\t 2\\\\\n\t 3\\\\\n\t 3\\\\\n\t 1\\\\\n\t 3\\\\\n\t ⋮\\\\\n\t 2\\\\\n\t 2\\\\\n\t 3\\\\\n\t 2\\\\\n\t 2\\\\\n\t 2\\\\\n\t 2\\\\\n\t 3\\\\\n\t 3\\\\\n\t 3\\\\\n\t 3\\\\\n\t 3\\\\\n\t 3\\\\\n\t 2\\\\\n\t 2\\\\\n\t 2\\\\\n\t 3\\\\\n\t 2\\\\\n\t 2\\\\\n\t 2\\\\\n\t 3\\\\\n\t 2\\\\\n\t 2\\\\\n\t 3\\\\\n\t 2\\\\\n\t 1\\\\\n\t 3\\\\\n\t 3\\\\\n\t 2\\\\\n\t 3\\\\\n\\end{tabular}\n",
            "text/plain": [
              "    education\n",
              "1   2        \n",
              "2   1        \n",
              "3   2        \n",
              "4   3        \n",
              "5   2        \n",
              "6   3        \n",
              "7   3        \n",
              "8   2        \n",
              "9   2        \n",
              "10  3        \n",
              "11  3        \n",
              "12  2        \n",
              "13  3        \n",
              "14  3        \n",
              "15  2        \n",
              "16  3        \n",
              "17  3        \n",
              "18  2        \n",
              "19  3        \n",
              "20  2        \n",
              "21  3        \n",
              "22  1        \n",
              "23  1        \n",
              "24  3        \n",
              "25  3        \n",
              "26  2        \n",
              "27  3        \n",
              "28  3        \n",
              "29  1        \n",
              "30  3        \n",
              "⋮   ⋮        \n",
              "240 2        \n",
              "241 2        \n",
              "242 3        \n",
              "243 2        \n",
              "244 2        \n",
              "245 2        \n",
              "246 2        \n",
              "247 3        \n",
              "248 3        \n",
              "249 3        \n",
              "250 3        \n",
              "251 3        \n",
              "252 3        \n",
              "253 2        \n",
              "254 2        \n",
              "255 2        \n",
              "256 3        \n",
              "257 2        \n",
              "258 2        \n",
              "259 2        \n",
              "260 3        \n",
              "261 2        \n",
              "262 2        \n",
              "263 3        \n",
              "264 2        \n",
              "265 1        \n",
              "266 3        \n",
              "267 3        \n",
              "268 2        \n",
              "269 3        "
            ]
          },
          "metadata": {}
        }
      ]
    },
    {
      "cell_type": "markdown",
      "source": [
        "## summary() method "
      ],
      "metadata": {
        "id": "2MEfogig184u"
      }
    },
    {
      "cell_type": "code",
      "source": [
        "# summary of Adult_training $education\n",
        "summary(Adult_trainingDF$education)"
      ],
      "metadata": {
        "colab": {
          "base_uri": "https://localhost:8080/",
          "height": 52
        },
        "id": "bPRrrd6vvA1i",
        "outputId": "ec87281f-b362-4e03-f99b-987caf4d8f1a"
      },
      "execution_count": 83,
      "outputs": [
        {
          "output_type": "display_data",
          "data": {
            "text/plain": [
              "   Min. 1st Qu.  Median    Mean 3rd Qu.    Max. \n",
              "   1.00    9.00   10.00   10.07   12.00   16.00 "
            ]
          },
          "metadata": {}
        }
      ]
    },
    {
      "cell_type": "markdown",
      "source": [
        "### summary() returns the count, mean, standard deviation, min, quartiles, and maximum values for the specified dataframe."
      ],
      "metadata": {
        "id": "Jt37u73n2Kjb"
      }
    },
    {
      "cell_type": "markdown",
      "source": [
        "## Identifying lower and upper limit outliers"
      ],
      "metadata": {
        "id": "eN9ETdaH2P60"
      }
    },
    {
      "cell_type": "code",
      "source": [
        "# finding upper and lower bound of age\n",
        "q1 <- quantile(Adult_trainingDF$education,0.25)\n",
        "q3 <- quantile(Adult_trainingDF$education,0.75)\n",
        "iqr <- q3-q1\n",
        "edu_lower_bound <- Adult_trainingDF$education[Adult_trainingDF$education<(q1-(1.5 * iqr))]\n",
        "edu_upper_bound <- Adult_trainingDF$education[Adult_trainingDF$education>(q3+(1.5 * iqr))]"
      ],
      "metadata": {
        "id": "tI2lbr5QvI7Q"
      },
      "execution_count": 84,
      "outputs": []
    },
    {
      "cell_type": "code",
      "source": [
        "edu_lower_bound"
      ],
      "metadata": {
        "colab": {
          "base_uri": "https://localhost:8080/",
          "height": 121
        },
        "id": "0myqzlkEvfaP",
        "outputId": "376655b2-5b15-4f31-b1f7-3c5382bbb942"
      },
      "execution_count": 85,
      "outputs": [
        {
          "output_type": "display_data",
          "data": {
            "text/html": [
              "<style>\n",
              ".list-inline {list-style: none; margin:0; padding: 0}\n",
              ".list-inline>li {display: inline-block}\n",
              ".list-inline>li:not(:last-child)::after {content: \"\\00b7\"; padding: 0 .5ex}\n",
              "</style>\n",
              "<ol class=list-inline><li>2</li><li>4</li><li>1</li><li>2</li><li>3</li><li>2</li><li>4</li><li>3</li><li>4</li><li>4</li><li>3</li><li>4</li><li>2</li><li>4</li><li>2</li><li>3</li><li>4</li><li>4</li><li>4</li><li>4</li><li>3</li><li>4</li><li>4</li><li>2</li><li>4</li><li>4</li><li>3</li><li>4</li><li>4</li><li>4</li><li>4</li><li>3</li><li>4</li><li>2</li><li>3</li><li>4</li><li>3</li><li>2</li><li>3</li><li>2</li><li>4</li><li>3</li><li>1</li><li>1</li><li>3</li><li>4</li><li>3</li><li>4</li><li>4</li><li>2</li><li>3</li><li>4</li><li>3</li><li>1</li><li>4</li><li>4</li><li>4</li><li>4</li><li>3</li><li>4</li><li>4</li><li>3</li><li>2</li><li>4</li><li>1</li><li>2</li><li>4</li><li>4</li><li>4</li><li>3</li><li>3</li><li>3</li><li>4</li><li>4</li><li>4</li><li>4</li><li>3</li><li>4</li><li>4</li><li>4</li><li>4</li><li>3</li><li>2</li><li>3</li><li>4</li><li>3</li><li>3</li><li>3</li><li>2</li><li>2</li><li>2</li><li>2</li><li>3</li><li>4</li><li>4</li><li>4</li><li>1</li><li>4</li><li>4</li><li>4</li><li>4</li><li>4</li><li>4</li><li>4</li><li>4</li><li>1</li><li>4</li><li>2</li><li>4</li><li>4</li><li>4</li><li>2</li><li>4</li><li>4</li><li>4</li><li>1</li><li>4</li><li>4</li><li>4</li><li>4</li><li>1</li><li>1</li><li>4</li><li>3</li><li>2</li><li>4</li><li>4</li><li>2</li><li>4</li><li>4</li><li>1</li><li>4</li><li>4</li><li>3</li><li>2</li><li>3</li><li>3</li><li>2</li><li>3</li><li>4</li><li>3</li><li>3</li><li>4</li><li>3</li><li>4</li><li>3</li><li>3</li><li>4</li><li>3</li><li>3</li><li>4</li><li>2</li><li>4</li><li>3</li><li>4</li><li>3</li><li>4</li><li>3</li><li>3</li><li>3</li><li>4</li><li>4</li><li>3</li><li>3</li><li>4</li><li>4</li><li>3</li><li>3</li><li>4</li><li>4</li><li>4</li><li>4</li><li>1</li><li>4</li><li>2</li><li>4</li><li>3</li><li>4</li><li>3</li><li>4</li><li>4</li><li>4</li><li>3</li><li>1</li><li>2</li><li>3</li><li>3</li><li>4</li><li>4</li><li>4</li><li>2</li><li>3</li><li>4</li><li>3</li><li>4</li><li>4</li><li>4</li><li>4</li><li>2</li><li>4</li><li>⋯</li><li>4</li><li>4</li><li>4</li><li>3</li><li>2</li><li>1</li><li>3</li><li>1</li><li>3</li><li>4</li><li>3</li><li>4</li><li>3</li><li>1</li><li>4</li><li>3</li><li>3</li><li>4</li><li>4</li><li>2</li><li>4</li><li>4</li><li>3</li><li>3</li><li>3</li><li>4</li><li>3</li><li>3</li><li>4</li><li>3</li><li>4</li><li>4</li><li>4</li><li>3</li><li>4</li><li>4</li><li>4</li><li>3</li><li>4</li><li>4</li><li>4</li><li>3</li><li>4</li><li>3</li><li>4</li><li>4</li><li>1</li><li>2</li><li>4</li><li>4</li><li>4</li><li>4</li><li>4</li><li>4</li><li>4</li><li>4</li><li>1</li><li>4</li><li>1</li><li>4</li><li>4</li><li>3</li><li>1</li><li>4</li><li>4</li><li>3</li><li>4</li><li>3</li><li>4</li><li>4</li><li>4</li><li>4</li><li>4</li><li>3</li><li>4</li><li>4</li><li>4</li><li>4</li><li>2</li><li>4</li><li>3</li><li>4</li><li>4</li><li>1</li><li>4</li><li>4</li><li>3</li><li>2</li><li>3</li><li>2</li><li>3</li><li>4</li><li>4</li><li>2</li><li>3</li><li>2</li><li>4</li><li>3</li><li>3</li><li>3</li><li>4</li><li>4</li><li>3</li><li>3</li><li>4</li><li>4</li><li>3</li><li>3</li><li>3</li><li>3</li><li>4</li><li>2</li><li>4</li><li>3</li><li>3</li><li>2</li><li>4</li><li>2</li><li>4</li><li>2</li><li>4</li><li>2</li><li>3</li><li>3</li><li>4</li><li>3</li><li>4</li><li>2</li><li>4</li><li>3</li><li>2</li><li>3</li><li>3</li><li>3</li><li>3</li><li>4</li><li>2</li><li>4</li><li>4</li><li>4</li><li>4</li><li>4</li><li>4</li><li>4</li><li>4</li><li>4</li><li>3</li><li>2</li><li>2</li><li>2</li><li>4</li><li>4</li><li>3</li><li>2</li><li>4</li><li>2</li><li>2</li><li>2</li><li>4</li><li>4</li><li>3</li><li>4</li><li>4</li><li>3</li><li>3</li><li>3</li><li>3</li><li>3</li><li>4</li><li>4</li><li>2</li><li>2</li><li>2</li><li>4</li><li>4</li><li>4</li><li>3</li><li>2</li><li>2</li><li>2</li><li>3</li><li>2</li><li>4</li><li>2</li><li>3</li><li>4</li><li>4</li><li>2</li><li>4</li><li>4</li><li>1</li><li>4</li><li>4</li><li>3</li><li>3</li><li>4</li><li>2</li><li>3</li><li>4</li><li>4</li></ol>\n"
            ],
            "text/markdown": "1. 2\n2. 4\n3. 1\n4. 2\n5. 3\n6. 2\n7. 4\n8. 3\n9. 4\n10. 4\n11. 3\n12. 4\n13. 2\n14. 4\n15. 2\n16. 3\n17. 4\n18. 4\n19. 4\n20. 4\n21. 3\n22. 4\n23. 4\n24. 2\n25. 4\n26. 4\n27. 3\n28. 4\n29. 4\n30. 4\n31. 4\n32. 3\n33. 4\n34. 2\n35. 3\n36. 4\n37. 3\n38. 2\n39. 3\n40. 2\n41. 4\n42. 3\n43. 1\n44. 1\n45. 3\n46. 4\n47. 3\n48. 4\n49. 4\n50. 2\n51. 3\n52. 4\n53. 3\n54. 1\n55. 4\n56. 4\n57. 4\n58. 4\n59. 3\n60. 4\n61. 4\n62. 3\n63. 2\n64. 4\n65. 1\n66. 2\n67. 4\n68. 4\n69. 4\n70. 3\n71. 3\n72. 3\n73. 4\n74. 4\n75. 4\n76. 4\n77. 3\n78. 4\n79. 4\n80. 4\n81. 4\n82. 3\n83. 2\n84. 3\n85. 4\n86. 3\n87. 3\n88. 3\n89. 2\n90. 2\n91. 2\n92. 2\n93. 3\n94. 4\n95. 4\n96. 4\n97. 1\n98. 4\n99. 4\n100. 4\n101. 4\n102. 4\n103. 4\n104. 4\n105. 4\n106. 1\n107. 4\n108. 2\n109. 4\n110. 4\n111. 4\n112. 2\n113. 4\n114. 4\n115. 4\n116. 1\n117. 4\n118. 4\n119. 4\n120. 4\n121. 1\n122. 1\n123. 4\n124. 3\n125. 2\n126. 4\n127. 4\n128. 2\n129. 4\n130. 4\n131. 1\n132. 4\n133. 4\n134. 3\n135. 2\n136. 3\n137. 3\n138. 2\n139. 3\n140. 4\n141. 3\n142. 3\n143. 4\n144. 3\n145. 4\n146. 3\n147. 3\n148. 4\n149. 3\n150. 3\n151. 4\n152. 2\n153. 4\n154. 3\n155. 4\n156. 3\n157. 4\n158. 3\n159. 3\n160. 3\n161. 4\n162. 4\n163. 3\n164. 3\n165. 4\n166. 4\n167. 3\n168. 3\n169. 4\n170. 4\n171. 4\n172. 4\n173. 1\n174. 4\n175. 2\n176. 4\n177. 3\n178. 4\n179. 3\n180. 4\n181. 4\n182. 4\n183. 3\n184. 1\n185. 2\n186. 3\n187. 3\n188. 4\n189. 4\n190. 4\n191. 2\n192. 3\n193. 4\n194. 3\n195. 4\n196. 4\n197. 4\n198. 4\n199. 2\n200. 4\n201. ⋯\n202. 4\n203. 4\n204. 4\n205. 3\n206. 2\n207. 1\n208. 3\n209. 1\n210. 3\n211. 4\n212. 3\n213. 4\n214. 3\n215. 1\n216. 4\n217. 3\n218. 3\n219. 4\n220. 4\n221. 2\n222. 4\n223. 4\n224. 3\n225. 3\n226. 3\n227. 4\n228. 3\n229. 3\n230. 4\n231. 3\n232. 4\n233. 4\n234. 4\n235. 3\n236. 4\n237. 4\n238. 4\n239. 3\n240. 4\n241. 4\n242. 4\n243. 3\n244. 4\n245. 3\n246. 4\n247. 4\n248. 1\n249. 2\n250. 4\n251. 4\n252. 4\n253. 4\n254. 4\n255. 4\n256. 4\n257. 4\n258. 1\n259. 4\n260. 1\n261. 4\n262. 4\n263. 3\n264. 1\n265. 4\n266. 4\n267. 3\n268. 4\n269. 3\n270. 4\n271. 4\n272. 4\n273. 4\n274. 4\n275. 3\n276. 4\n277. 4\n278. 4\n279. 4\n280. 2\n281. 4\n282. 3\n283. 4\n284. 4\n285. 1\n286. 4\n287. 4\n288. 3\n289. 2\n290. 3\n291. 2\n292. 3\n293. 4\n294. 4\n295. 2\n296. 3\n297. 2\n298. 4\n299. 3\n300. 3\n301. 3\n302. 4\n303. 4\n304. 3\n305. 3\n306. 4\n307. 4\n308. 3\n309. 3\n310. 3\n311. 3\n312. 4\n313. 2\n314. 4\n315. 3\n316. 3\n317. 2\n318. 4\n319. 2\n320. 4\n321. 2\n322. 4\n323. 2\n324. 3\n325. 3\n326. 4\n327. 3\n328. 4\n329. 2\n330. 4\n331. 3\n332. 2\n333. 3\n334. 3\n335. 3\n336. 3\n337. 4\n338. 2\n339. 4\n340. 4\n341. 4\n342. 4\n343. 4\n344. 4\n345. 4\n346. 4\n347. 4\n348. 3\n349. 2\n350. 2\n351. 2\n352. 4\n353. 4\n354. 3\n355. 2\n356. 4\n357. 2\n358. 2\n359. 2\n360. 4\n361. 4\n362. 3\n363. 4\n364. 4\n365. 3\n366. 3\n367. 3\n368. 3\n369. 3\n370. 4\n371. 4\n372. 2\n373. 2\n374. 2\n375. 4\n376. 4\n377. 4\n378. 3\n379. 2\n380. 2\n381. 2\n382. 3\n383. 2\n384. 4\n385. 2\n386. 3\n387. 4\n388. 4\n389. 2\n390. 4\n391. 4\n392. 1\n393. 4\n394. 4\n395. 3\n396. 3\n397. 4\n398. 2\n399. 3\n400. 4\n401. 4\n\n\n",
            "text/latex": "\\begin{enumerate*}\n\\item 2\n\\item 4\n\\item 1\n\\item 2\n\\item 3\n\\item 2\n\\item 4\n\\item 3\n\\item 4\n\\item 4\n\\item 3\n\\item 4\n\\item 2\n\\item 4\n\\item 2\n\\item 3\n\\item 4\n\\item 4\n\\item 4\n\\item 4\n\\item 3\n\\item 4\n\\item 4\n\\item 2\n\\item 4\n\\item 4\n\\item 3\n\\item 4\n\\item 4\n\\item 4\n\\item 4\n\\item 3\n\\item 4\n\\item 2\n\\item 3\n\\item 4\n\\item 3\n\\item 2\n\\item 3\n\\item 2\n\\item 4\n\\item 3\n\\item 1\n\\item 1\n\\item 3\n\\item 4\n\\item 3\n\\item 4\n\\item 4\n\\item 2\n\\item 3\n\\item 4\n\\item 3\n\\item 1\n\\item 4\n\\item 4\n\\item 4\n\\item 4\n\\item 3\n\\item 4\n\\item 4\n\\item 3\n\\item 2\n\\item 4\n\\item 1\n\\item 2\n\\item 4\n\\item 4\n\\item 4\n\\item 3\n\\item 3\n\\item 3\n\\item 4\n\\item 4\n\\item 4\n\\item 4\n\\item 3\n\\item 4\n\\item 4\n\\item 4\n\\item 4\n\\item 3\n\\item 2\n\\item 3\n\\item 4\n\\item 3\n\\item 3\n\\item 3\n\\item 2\n\\item 2\n\\item 2\n\\item 2\n\\item 3\n\\item 4\n\\item 4\n\\item 4\n\\item 1\n\\item 4\n\\item 4\n\\item 4\n\\item 4\n\\item 4\n\\item 4\n\\item 4\n\\item 4\n\\item 1\n\\item 4\n\\item 2\n\\item 4\n\\item 4\n\\item 4\n\\item 2\n\\item 4\n\\item 4\n\\item 4\n\\item 1\n\\item 4\n\\item 4\n\\item 4\n\\item 4\n\\item 1\n\\item 1\n\\item 4\n\\item 3\n\\item 2\n\\item 4\n\\item 4\n\\item 2\n\\item 4\n\\item 4\n\\item 1\n\\item 4\n\\item 4\n\\item 3\n\\item 2\n\\item 3\n\\item 3\n\\item 2\n\\item 3\n\\item 4\n\\item 3\n\\item 3\n\\item 4\n\\item 3\n\\item 4\n\\item 3\n\\item 3\n\\item 4\n\\item 3\n\\item 3\n\\item 4\n\\item 2\n\\item 4\n\\item 3\n\\item 4\n\\item 3\n\\item 4\n\\item 3\n\\item 3\n\\item 3\n\\item 4\n\\item 4\n\\item 3\n\\item 3\n\\item 4\n\\item 4\n\\item 3\n\\item 3\n\\item 4\n\\item 4\n\\item 4\n\\item 4\n\\item 1\n\\item 4\n\\item 2\n\\item 4\n\\item 3\n\\item 4\n\\item 3\n\\item 4\n\\item 4\n\\item 4\n\\item 3\n\\item 1\n\\item 2\n\\item 3\n\\item 3\n\\item 4\n\\item 4\n\\item 4\n\\item 2\n\\item 3\n\\item 4\n\\item 3\n\\item 4\n\\item 4\n\\item 4\n\\item 4\n\\item 2\n\\item 4\n\\item ⋯\n\\item 4\n\\item 4\n\\item 4\n\\item 3\n\\item 2\n\\item 1\n\\item 3\n\\item 1\n\\item 3\n\\item 4\n\\item 3\n\\item 4\n\\item 3\n\\item 1\n\\item 4\n\\item 3\n\\item 3\n\\item 4\n\\item 4\n\\item 2\n\\item 4\n\\item 4\n\\item 3\n\\item 3\n\\item 3\n\\item 4\n\\item 3\n\\item 3\n\\item 4\n\\item 3\n\\item 4\n\\item 4\n\\item 4\n\\item 3\n\\item 4\n\\item 4\n\\item 4\n\\item 3\n\\item 4\n\\item 4\n\\item 4\n\\item 3\n\\item 4\n\\item 3\n\\item 4\n\\item 4\n\\item 1\n\\item 2\n\\item 4\n\\item 4\n\\item 4\n\\item 4\n\\item 4\n\\item 4\n\\item 4\n\\item 4\n\\item 1\n\\item 4\n\\item 1\n\\item 4\n\\item 4\n\\item 3\n\\item 1\n\\item 4\n\\item 4\n\\item 3\n\\item 4\n\\item 3\n\\item 4\n\\item 4\n\\item 4\n\\item 4\n\\item 4\n\\item 3\n\\item 4\n\\item 4\n\\item 4\n\\item 4\n\\item 2\n\\item 4\n\\item 3\n\\item 4\n\\item 4\n\\item 1\n\\item 4\n\\item 4\n\\item 3\n\\item 2\n\\item 3\n\\item 2\n\\item 3\n\\item 4\n\\item 4\n\\item 2\n\\item 3\n\\item 2\n\\item 4\n\\item 3\n\\item 3\n\\item 3\n\\item 4\n\\item 4\n\\item 3\n\\item 3\n\\item 4\n\\item 4\n\\item 3\n\\item 3\n\\item 3\n\\item 3\n\\item 4\n\\item 2\n\\item 4\n\\item 3\n\\item 3\n\\item 2\n\\item 4\n\\item 2\n\\item 4\n\\item 2\n\\item 4\n\\item 2\n\\item 3\n\\item 3\n\\item 4\n\\item 3\n\\item 4\n\\item 2\n\\item 4\n\\item 3\n\\item 2\n\\item 3\n\\item 3\n\\item 3\n\\item 3\n\\item 4\n\\item 2\n\\item 4\n\\item 4\n\\item 4\n\\item 4\n\\item 4\n\\item 4\n\\item 4\n\\item 4\n\\item 4\n\\item 3\n\\item 2\n\\item 2\n\\item 2\n\\item 4\n\\item 4\n\\item 3\n\\item 2\n\\item 4\n\\item 2\n\\item 2\n\\item 2\n\\item 4\n\\item 4\n\\item 3\n\\item 4\n\\item 4\n\\item 3\n\\item 3\n\\item 3\n\\item 3\n\\item 3\n\\item 4\n\\item 4\n\\item 2\n\\item 2\n\\item 2\n\\item 4\n\\item 4\n\\item 4\n\\item 3\n\\item 2\n\\item 2\n\\item 2\n\\item 3\n\\item 2\n\\item 4\n\\item 2\n\\item 3\n\\item 4\n\\item 4\n\\item 2\n\\item 4\n\\item 4\n\\item 1\n\\item 4\n\\item 4\n\\item 3\n\\item 3\n\\item 4\n\\item 2\n\\item 3\n\\item 4\n\\item 4\n\\end{enumerate*}\n",
            "text/plain": [
              "  [1] 2 4 1 2 3 2 4 3 4 4 3 4 2 4 2 3 4 4 4 4 3 4 4 2 4 4 3 4 4 4 4 3 4 2 3 4 3\n",
              " [38] 2 3 2 4 3 1 1 3 4 3 4 4 2 3 4 3 1 4 4 4 4 3 4 4 3 2 4 1 2 4 4 4 3 3 3 4 4\n",
              " [75] 4 4 3 4 4 4 4 3 2 3 4 3 3 3 2 2 2 2 3 4 4 4 1 4 4 4 4 4 4 4 4 1 4 2 4 4 4\n",
              "[112] 2 4 4 4 1 4 4 4 4 1 1 4 3 2 4 4 2 4 4 1 4 4 3 2 3 3 2 3 4 3 3 4 3 4 3 3 4\n",
              "[149] 3 3 4 2 4 3 4 3 4 3 3 3 4 4 3 3 4 4 3 3 4 4 4 4 1 4 2 4 3 4 3 4 4 4 3 1 2\n",
              "[186] 3 3 4 4 4 2 3 4 3 4 4 4 4 2 4 3 2 2 4 4 4 3 4 4 4 2 4 3 3 4 3 2 4 4 4 2 2\n",
              "[223] 3 4 4 4 3 3 3 4 4 4 2 4 2 3 4 3 4 2 4 4 4 3 2 3 4 2 2 3 3 3 3 2 4 2 4 4 4\n",
              "[260] 4 4 2 2 4 4 4 4 3 2 4 4 1 4 4 4 3 4 4 4 2 3 4 4 4 3 2 3 4 4 4 4 3 3 4 3 4\n",
              "[297] 4 3 4 4 3 2 4 4 3 3 4 3 3 4 4 2 4 2 4 3 2 2 2 2 3 4 4 3 2 4 4 4 4 4 4 3 4\n",
              "[334] 3 4 3 4 3 3 4 4 2 3 4 4 4 3 4 4 3 4 1 4 4 4 3 2 1 3 1 3 4 3 4 3 1 4 3 3 4\n",
              "[371] 4 2 4 4 3 3 3 4 3 3 4 3 4 4 4 3 4 4 4 3 4 4 4 3 4 3 4 4 1 2 4 4 4 4 4 4 4\n",
              "[408] 4 1 4 1 4 4 3 1 4 4 3 4 3 4 4 4 4 4 3 4 4 4 4 2 4 3 4 4 1 4 4 3 2 3 2 3 4\n",
              "[445] 4 2 3 2 4 3 3 3 4 4 3 3 4 4 3 3 3 3 4 2 4 3 3 2 4 2 4 2 4 2 3 3 4 3 4 2 4\n",
              "[482] 3 2 3 3 3 3 4 2 4 4 4 4 4 4 4 4 4 3 2 2 2 4 4 3 2 4 2 2 2 4 4 3 4 4 3 3 3\n",
              "[519] 3 3 4 4 2 2 2 4 4 4 3 2 2 2 3 2 4 2 3 4 4 2 4 4 1 4 4 3 3 4 2 3 4 4"
            ]
          },
          "metadata": {}
        }
      ]
    },
    {
      "cell_type": "code",
      "source": [
        "edu_upper_bound"
      ],
      "metadata": {
        "colab": {
          "base_uri": "https://localhost:8080/",
          "height": 17
        },
        "id": "-aVBJ7Lmvmgf",
        "outputId": "ac952f8a-4814-43e3-fe25-9de2da6d1c8f"
      },
      "execution_count": 86,
      "outputs": [
        {
          "output_type": "display_data",
          "data": {
            "text/html": [
              ""
            ],
            "text/markdown": "",
            "text/latex": "",
            "text/plain": [
              "numeric(0)"
            ]
          },
          "metadata": {}
        }
      ]
    },
    {
      "cell_type": "code",
      "source": [
        "min(edu_lower_bound)"
      ],
      "metadata": {
        "colab": {
          "base_uri": "https://localhost:8080/",
          "height": 34
        },
        "id": "H6DrMSjbvo6u",
        "outputId": "5b957398-8795-4bf3-b01e-db4b05774938"
      },
      "execution_count": 87,
      "outputs": [
        {
          "output_type": "display_data",
          "data": {
            "text/html": [
              "1"
            ],
            "text/markdown": "1",
            "text/latex": "1",
            "text/plain": [
              "[1] 1"
            ]
          },
          "metadata": {}
        }
      ]
    },
    {
      "cell_type": "markdown",
      "source": [
        "## In education, there are several outliers in the lower bound and none in the upper bound. and the most extreme educational outlier is 1."
      ],
      "metadata": {
        "id": "IccxUEaz2TZh"
      }
    },
    {
      "cell_type": "markdown",
      "source": [
        "# Detecting Outliers for age"
      ],
      "metadata": {
        "id": "hSh-96tQ2XXR"
      }
    },
    {
      "cell_type": "code",
      "source": [
        "#Boxplot for outliers of age.\n",
        "\n",
        "boxplot(Adult_trainingDF$age,ylab = \"age\",main = \"Boxplot\",horizontal = TRUE)\n",
        "mtext(paste(\"Outliers: \", paste(collapse = \", \")))"
      ],
      "metadata": {
        "colab": {
          "base_uri": "https://localhost:8080/",
          "height": 437
        },
        "id": "KNQAWI-ZNO--",
        "outputId": "781ce59a-c250-4aa0-d95d-81f75684de41"
      },
      "execution_count": 88,
      "outputs": [
        {
          "output_type": "display_data",
          "data": {
            "text/plain": [
              "Plot with title “Boxplot”"
            ],
            "image/png": "[encoded data removed]"
          },
          "metadata": {
            "image/png": {
              "width": 420,
              "height": 420
            }
          }
        }
      ]
    },
    {
      "cell_type": "markdown",
      "source": [
        "### Outliers from 80 can be seen from the above plot"
      ],
      "metadata": {
        "id": "v3WDYuv4J-Lb"
      }
    },
    {
      "cell_type": "markdown",
      "source": [
        "## Finding positions of outliers"
      ],
      "metadata": {
        "id": "oC7Jfd6K2maD"
      }
    },
    {
      "cell_type": "code",
      "source": [
        "#printing total outlier_age \n",
        "\n",
        "outlier_age<- which(Adult_trainingDF$age>80)\n",
        "outlier_age"
      ],
      "metadata": {
        "colab": {
          "base_uri": "https://localhost:8080/",
          "height": 52
        },
        "id": "t1_C_TOwzUr_",
        "outputId": "7f83f88b-71db-4a30-c73a-d570ed86b2a1"
      },
      "execution_count": 89,
      "outputs": [
        {
          "output_type": "display_data",
          "data": {
            "text/html": [
              "<style>\n",
              ".list-inline {list-style: none; margin:0; padding: 0}\n",
              ".list-inline>li {display: inline-block}\n",
              ".list-inline>li:not(:last-child)::after {content: \"\\00b7\"; padding: 0 .5ex}\n",
              "</style>\n",
              "<ol class=list-inline><li>100</li><li>493</li><li>553</li><li>886</li><li>1067</li><li>1486</li><li>2421</li><li>2468</li><li>2878</li><li>3454</li><li>3869</li><li>3892</li><li>4115</li><li>4681</li><li>5155</li><li>5482</li><li>5937</li><li>5962</li><li>6477</li><li>7148</li><li>7255</li><li>7652</li><li>8406</li><li>8609</li><li>8769</li><li>8774</li><li>8786</li><li>8922</li><li>9370</li><li>9398</li><li>9562</li><li>9858</li><li>10159</li><li>10283</li><li>10469</li><li>10471</li><li>10992</li><li>11092</li><li>11109</li><li>11235</li><li>11563</li><li>12657</li><li>12949</li><li>13456</li><li>14092</li><li>14282</li><li>14472</li><li>14661</li><li>14747</li><li>14767</li></ol>\n"
            ],
            "text/markdown": "1. 100\n2. 493\n3. 553\n4. 886\n5. 1067\n6. 1486\n7. 2421\n8. 2468\n9. 2878\n10. 3454\n11. 3869\n12. 3892\n13. 4115\n14. 4681\n15. 5155\n16. 5482\n17. 5937\n18. 5962\n19. 6477\n20. 7148\n21. 7255\n22. 7652\n23. 8406\n24. 8609\n25. 8769\n26. 8774\n27. 8786\n28. 8922\n29. 9370\n30. 9398\n31. 9562\n32. 9858\n33. 10159\n34. 10283\n35. 10469\n36. 10471\n37. 10992\n38. 11092\n39. 11109\n40. 11235\n41. 11563\n42. 12657\n43. 12949\n44. 13456\n45. 14092\n46. 14282\n47. 14472\n48. 14661\n49. 14747\n50. 14767\n\n\n",
            "text/latex": "\\begin{enumerate*}\n\\item 100\n\\item 493\n\\item 553\n\\item 886\n\\item 1067\n\\item 1486\n\\item 2421\n\\item 2468\n\\item 2878\n\\item 3454\n\\item 3869\n\\item 3892\n\\item 4115\n\\item 4681\n\\item 5155\n\\item 5482\n\\item 5937\n\\item 5962\n\\item 6477\n\\item 7148\n\\item 7255\n\\item 7652\n\\item 8406\n\\item 8609\n\\item 8769\n\\item 8774\n\\item 8786\n\\item 8922\n\\item 9370\n\\item 9398\n\\item 9562\n\\item 9858\n\\item 10159\n\\item 10283\n\\item 10469\n\\item 10471\n\\item 10992\n\\item 11092\n\\item 11109\n\\item 11235\n\\item 11563\n\\item 12657\n\\item 12949\n\\item 13456\n\\item 14092\n\\item 14282\n\\item 14472\n\\item 14661\n\\item 14747\n\\item 14767\n\\end{enumerate*}\n",
            "text/plain": [
              " [1]   100   493   553   886  1067  1486  2421  2468  2878  3454  3869  3892\n",
              "[13]  4115  4681  5155  5482  5937  5962  6477  7148  7255  7652  8406  8609\n",
              "[25]  8769  8774  8786  8922  9370  9398  9562  9858 10159 10283 10469 10471\n",
              "[37] 10992 11092 11109 11235 11563 12657 12949 13456 14092 14282 14472 14661\n",
              "[49] 14747 14767"
            ]
          },
          "metadata": {}
        }
      ]
    },
    {
      "cell_type": "code",
      "source": [
        "# Outilers of age\n",
        "Adult_trainingDF[outlier_age, \"age\"]"
      ],
      "metadata": {
        "colab": {
          "base_uri": "https://localhost:8080/",
          "height": 1000
        },
        "id": "4MhbjM-Wzf_2",
        "outputId": "1a24e0e4-11c7-4522-8930-3cb23930d642"
      },
      "execution_count": 90,
      "outputs": [
        {
          "output_type": "display_data",
          "data": {
            "text/html": [
              "<table class=\"dataframe\">\n",
              "<caption>A tibble: 50 × 1</caption>\n",
              "<thead>\n",
              "\t<tr><th scope=col>age</th></tr>\n",
              "\t<tr><th scope=col>&lt;dbl&gt;</th></tr>\n",
              "</thead>\n",
              "<tbody>\n",
              "\t<tr><td>90</td></tr>\n",
              "\t<tr><td>90</td></tr>\n",
              "\t<tr><td>88</td></tr>\n",
              "\t<tr><td>90</td></tr>\n",
              "\t<tr><td>90</td></tr>\n",
              "\t<tr><td>82</td></tr>\n",
              "\t<tr><td>90</td></tr>\n",
              "\t<tr><td>90</td></tr>\n",
              "\t<tr><td>90</td></tr>\n",
              "\t<tr><td>83</td></tr>\n",
              "\t<tr><td>85</td></tr>\n",
              "\t<tr><td>82</td></tr>\n",
              "\t<tr><td>90</td></tr>\n",
              "\t<tr><td>90</td></tr>\n",
              "\t<tr><td>84</td></tr>\n",
              "\t<tr><td>90</td></tr>\n",
              "\t<tr><td>90</td></tr>\n",
              "\t<tr><td>84</td></tr>\n",
              "\t<tr><td>90</td></tr>\n",
              "\t<tr><td>84</td></tr>\n",
              "\t<tr><td>90</td></tr>\n",
              "\t<tr><td>81</td></tr>\n",
              "\t<tr><td>90</td></tr>\n",
              "\t<tr><td>90</td></tr>\n",
              "\t<tr><td>83</td></tr>\n",
              "\t<tr><td>82</td></tr>\n",
              "\t<tr><td>90</td></tr>\n",
              "\t<tr><td>90</td></tr>\n",
              "\t<tr><td>82</td></tr>\n",
              "\t<tr><td>85</td></tr>\n",
              "\t<tr><td>81</td></tr>\n",
              "\t<tr><td>81</td></tr>\n",
              "\t<tr><td>90</td></tr>\n",
              "\t<tr><td>82</td></tr>\n",
              "\t<tr><td>88</td></tr>\n",
              "\t<tr><td>84</td></tr>\n",
              "\t<tr><td>86</td></tr>\n",
              "\t<tr><td>90</td></tr>\n",
              "\t<tr><td>82</td></tr>\n",
              "\t<tr><td>81</td></tr>\n",
              "\t<tr><td>90</td></tr>\n",
              "\t<tr><td>84</td></tr>\n",
              "\t<tr><td>90</td></tr>\n",
              "\t<tr><td>81</td></tr>\n",
              "\t<tr><td>90</td></tr>\n",
              "\t<tr><td>87</td></tr>\n",
              "\t<tr><td>82</td></tr>\n",
              "\t<tr><td>90</td></tr>\n",
              "\t<tr><td>85</td></tr>\n",
              "\t<tr><td>82</td></tr>\n",
              "</tbody>\n",
              "</table>\n"
            ],
            "text/markdown": "\nA tibble: 50 × 1\n\n| age &lt;dbl&gt; |\n|---|\n| 90 |\n| 90 |\n| 88 |\n| 90 |\n| 90 |\n| 82 |\n| 90 |\n| 90 |\n| 90 |\n| 83 |\n| 85 |\n| 82 |\n| 90 |\n| 90 |\n| 84 |\n| 90 |\n| 90 |\n| 84 |\n| 90 |\n| 84 |\n| 90 |\n| 81 |\n| 90 |\n| 90 |\n| 83 |\n| 82 |\n| 90 |\n| 90 |\n| 82 |\n| 85 |\n| 81 |\n| 81 |\n| 90 |\n| 82 |\n| 88 |\n| 84 |\n| 86 |\n| 90 |\n| 82 |\n| 81 |\n| 90 |\n| 84 |\n| 90 |\n| 81 |\n| 90 |\n| 87 |\n| 82 |\n| 90 |\n| 85 |\n| 82 |\n\n",
            "text/latex": "A tibble: 50 × 1\n\\begin{tabular}{l}\n age\\\\\n <dbl>\\\\\n\\hline\n\t 90\\\\\n\t 90\\\\\n\t 88\\\\\n\t 90\\\\\n\t 90\\\\\n\t 82\\\\\n\t 90\\\\\n\t 90\\\\\n\t 90\\\\\n\t 83\\\\\n\t 85\\\\\n\t 82\\\\\n\t 90\\\\\n\t 90\\\\\n\t 84\\\\\n\t 90\\\\\n\t 90\\\\\n\t 84\\\\\n\t 90\\\\\n\t 84\\\\\n\t 90\\\\\n\t 81\\\\\n\t 90\\\\\n\t 90\\\\\n\t 83\\\\\n\t 82\\\\\n\t 90\\\\\n\t 90\\\\\n\t 82\\\\\n\t 85\\\\\n\t 81\\\\\n\t 81\\\\\n\t 90\\\\\n\t 82\\\\\n\t 88\\\\\n\t 84\\\\\n\t 86\\\\\n\t 90\\\\\n\t 82\\\\\n\t 81\\\\\n\t 90\\\\\n\t 84\\\\\n\t 90\\\\\n\t 81\\\\\n\t 90\\\\\n\t 87\\\\\n\t 82\\\\\n\t 90\\\\\n\t 85\\\\\n\t 82\\\\\n\\end{tabular}\n",
            "text/plain": [
              "   age\n",
              "1  90 \n",
              "2  90 \n",
              "3  88 \n",
              "4  90 \n",
              "5  90 \n",
              "6  82 \n",
              "7  90 \n",
              "8  90 \n",
              "9  90 \n",
              "10 83 \n",
              "11 85 \n",
              "12 82 \n",
              "13 90 \n",
              "14 90 \n",
              "15 84 \n",
              "16 90 \n",
              "17 90 \n",
              "18 84 \n",
              "19 90 \n",
              "20 84 \n",
              "21 90 \n",
              "22 81 \n",
              "23 90 \n",
              "24 90 \n",
              "25 83 \n",
              "26 82 \n",
              "27 90 \n",
              "28 90 \n",
              "29 82 \n",
              "30 85 \n",
              "31 81 \n",
              "32 81 \n",
              "33 90 \n",
              "34 82 \n",
              "35 88 \n",
              "36 84 \n",
              "37 86 \n",
              "38 90 \n",
              "39 82 \n",
              "40 81 \n",
              "41 90 \n",
              "42 84 \n",
              "43 90 \n",
              "44 81 \n",
              "45 90 \n",
              "46 87 \n",
              "47 82 \n",
              "48 90 \n",
              "49 85 \n",
              "50 82 "
            ]
          },
          "metadata": {}
        }
      ]
    },
    {
      "cell_type": "code",
      "source": [
        "# summary of Adult_training $age\n",
        "summary(Adult_trainingDF$age)"
      ],
      "metadata": {
        "colab": {
          "base_uri": "https://localhost:8080/",
          "height": 52
        },
        "id": "UNNGTc7JqJe2",
        "outputId": "ecb60b14-a7c0-47d2-88df-83b3b0f08fc3"
      },
      "execution_count": 91,
      "outputs": [
        {
          "output_type": "display_data",
          "data": {
            "text/plain": [
              "   Min. 1st Qu.  Median    Mean 3rd Qu.    Max. \n",
              "  17.00   28.00   37.00   38.69   48.00   90.00 "
            ]
          },
          "metadata": {}
        }
      ]
    },
    {
      "cell_type": "markdown",
      "source": [
        "## Identifying lower and upper limit outliers"
      ],
      "metadata": {
        "id": "tB3EWTib2tBc"
      }
    },
    {
      "cell_type": "code",
      "source": [
        "# finding upper and lower bound of age\n",
        "Q1 <- quantile(Adult_trainingDF$age,0.25)\n",
        "Q3 <- quantile(Adult_trainingDF$age,0.75)\n",
        "IQR <- Q3-Q1\n",
        "lower_bound <- Adult_trainingDF$age[Adult_trainingDF$age<(Q1-(1.5 * IQR))]\n",
        "upper_bound <- Adult_trainingDF$age[Adult_trainingDF$age>(Q3+(1.5 * IQR))]"
      ],
      "metadata": {
        "id": "WL3nJQh7qNIk"
      },
      "execution_count": 92,
      "outputs": []
    },
    {
      "cell_type": "code",
      "source": [
        "#outlier for lower bound\n",
        "\n",
        "lower_bound"
      ],
      "metadata": {
        "colab": {
          "base_uri": "https://localhost:8080/",
          "height": 17
        },
        "id": "7UupqJb8qgD4",
        "outputId": "c5e8d0b8-97d0-4e58-cee6-6bc16c6f35b3"
      },
      "execution_count": 93,
      "outputs": [
        {
          "output_type": "display_data",
          "data": {
            "text/html": [
              ""
            ],
            "text/markdown": "",
            "text/latex": "",
            "text/plain": [
              "numeric(0)"
            ]
          },
          "metadata": {}
        }
      ]
    },
    {
      "cell_type": "code",
      "source": [
        "#outliers for upper bound\n",
        "\n",
        "upper_bound"
      ],
      "metadata": {
        "colab": {
          "base_uri": "https://localhost:8080/",
          "height": 52
        },
        "id": "MHSIP1tBqixT",
        "outputId": "012047f2-4a1c-4af2-d59b-721665198b55"
      },
      "execution_count": 94,
      "outputs": [
        {
          "output_type": "display_data",
          "data": {
            "text/html": [
              "<style>\n",
              ".list-inline {list-style: none; margin:0; padding: 0}\n",
              ".list-inline>li {display: inline-block}\n",
              ".list-inline>li:not(:last-child)::after {content: \"\\00b7\"; padding: 0 .5ex}\n",
              "</style>\n",
              "<ol class=list-inline><li>79</li><li>90</li><li>80</li><li>90</li><li>88</li><li>90</li><li>90</li><li>82</li><li>79</li><li>90</li><li>80</li><li>90</li><li>79</li><li>79</li><li>90</li><li>83</li><li>85</li><li>82</li><li>80</li><li>90</li><li>80</li><li>90</li><li>84</li><li>90</li><li>90</li><li>84</li><li>80</li><li>90</li><li>79</li><li>84</li><li>90</li><li>79</li><li>81</li><li>80</li><li>79</li><li>80</li><li>90</li><li>80</li><li>90</li><li>83</li><li>82</li><li>90</li><li>90</li><li>82</li><li>85</li><li>81</li><li>79</li><li>81</li><li>90</li><li>82</li><li>88</li><li>84</li><li>86</li><li>90</li><li>82</li><li>81</li><li>79</li><li>90</li><li>80</li><li>79</li><li>84</li><li>90</li><li>81</li><li>90</li><li>87</li><li>80</li><li>82</li><li>90</li><li>85</li><li>82</li></ol>\n"
            ],
            "text/markdown": "1. 79\n2. 90\n3. 80\n4. 90\n5. 88\n6. 90\n7. 90\n8. 82\n9. 79\n10. 90\n11. 80\n12. 90\n13. 79\n14. 79\n15. 90\n16. 83\n17. 85\n18. 82\n19. 80\n20. 90\n21. 80\n22. 90\n23. 84\n24. 90\n25. 90\n26. 84\n27. 80\n28. 90\n29. 79\n30. 84\n31. 90\n32. 79\n33. 81\n34. 80\n35. 79\n36. 80\n37. 90\n38. 80\n39. 90\n40. 83\n41. 82\n42. 90\n43. 90\n44. 82\n45. 85\n46. 81\n47. 79\n48. 81\n49. 90\n50. 82\n51. 88\n52. 84\n53. 86\n54. 90\n55. 82\n56. 81\n57. 79\n58. 90\n59. 80\n60. 79\n61. 84\n62. 90\n63. 81\n64. 90\n65. 87\n66. 80\n67. 82\n68. 90\n69. 85\n70. 82\n\n\n",
            "text/latex": "\\begin{enumerate*}\n\\item 79\n\\item 90\n\\item 80\n\\item 90\n\\item 88\n\\item 90\n\\item 90\n\\item 82\n\\item 79\n\\item 90\n\\item 80\n\\item 90\n\\item 79\n\\item 79\n\\item 90\n\\item 83\n\\item 85\n\\item 82\n\\item 80\n\\item 90\n\\item 80\n\\item 90\n\\item 84\n\\item 90\n\\item 90\n\\item 84\n\\item 80\n\\item 90\n\\item 79\n\\item 84\n\\item 90\n\\item 79\n\\item 81\n\\item 80\n\\item 79\n\\item 80\n\\item 90\n\\item 80\n\\item 90\n\\item 83\n\\item 82\n\\item 90\n\\item 90\n\\item 82\n\\item 85\n\\item 81\n\\item 79\n\\item 81\n\\item 90\n\\item 82\n\\item 88\n\\item 84\n\\item 86\n\\item 90\n\\item 82\n\\item 81\n\\item 79\n\\item 90\n\\item 80\n\\item 79\n\\item 84\n\\item 90\n\\item 81\n\\item 90\n\\item 87\n\\item 80\n\\item 82\n\\item 90\n\\item 85\n\\item 82\n\\end{enumerate*}\n",
            "text/plain": [
              " [1] 79 90 80 90 88 90 90 82 79 90 80 90 79 79 90 83 85 82 80 90 80 90 84 90 90\n",
              "[26] 84 80 90 79 84 90 79 81 80 79 80 90 80 90 83 82 90 90 82 85 81 79 81 90 82\n",
              "[51] 88 84 86 90 82 81 79 90 80 79 84 90 81 90 87 80 82 90 85 82"
            ]
          },
          "metadata": {}
        }
      ]
    },
    {
      "cell_type": "code",
      "source": [
        "#extreme outlier in age\n",
        "\n",
        "max(upper_bound)"
      ],
      "metadata": {
        "colab": {
          "base_uri": "https://localhost:8080/",
          "height": 34
        },
        "id": "3oQBW8Yyqn7H",
        "outputId": "7202dd9e-35b5-4cd8-e1aa-5f904a88dfe8"
      },
      "execution_count": 95,
      "outputs": [
        {
          "output_type": "display_data",
          "data": {
            "text/html": [
              "90"
            ],
            "text/markdown": "90",
            "text/latex": "90",
            "text/plain": [
              "[1] 90"
            ]
          },
          "metadata": {}
        }
      ]
    },
    {
      "cell_type": "markdown",
      "source": [
        "## In education, there are no outliers lower bound and several outliers in the upper bound. and the most extreme educational outlier is 90."
      ],
      "metadata": {
        "id": "6cAh4eOS90hW"
      }
    },
    {
      "cell_type": "markdown",
      "source": [
        "# Density ploting for age"
      ],
      "metadata": {
        "id": "UTWlAqZk22lT"
      }
    },
    {
      "cell_type": "code",
      "source": [
        "#Ploting Density of outiliers for age\n",
        "\n",
        "par(mfrow=c(1,1))\n",
        "Age <- density(Adult_trainingDF$age) \n",
        "\n",
        "# plots the results\n",
        "plot(Age, main=\"Density Plot for Age Outliers\") \n",
        "\n",
        "# plots the results (filled)\n",
        "polygon(Age, col=\"white\", border=\"blue\") "
      ],
      "metadata": {
        "colab": {
          "base_uri": "https://localhost:8080/",
          "height": 437
        },
        "id": "LKG1Oqz3TxM4",
        "outputId": "71730afd-e057-42d7-9211-199950191bbc"
      },
      "execution_count": 96,
      "outputs": [
        {
          "output_type": "display_data",
          "data": {
            "text/plain": [
              "Plot with title “Density Plot for Age Outliers”"
            ],
            "image/png": "[encoded data removed]"
          },
          "metadata": {
            "image/png": {
              "width": 420,
              "height": 420
            }
          }
        }
      ]
    },
    {
      "cell_type": "markdown",
      "source": [
        "### We can observe from the density plot outlier graph above that there are few outliers in the 80-90 range. The majority of the data falls between the ages of 20 and 60."
      ],
      "metadata": {
        "id": "hp50hbI527Do"
      }
    },
    {
      "cell_type": "markdown",
      "source": [
        "# Creating new data frame"
      ],
      "metadata": {
        "id": "JG236TkN-HFQ"
      }
    },
    {
      "cell_type": "code",
      "source": [
        "#creating dataframe for adultover80DF\n",
        "\n",
        "adultabove80DF<- subset(Adult_trainingDF,age>80)"
      ],
      "metadata": {
        "id": "c6liLtH23EHC"
      },
      "execution_count": 97,
      "outputs": []
    },
    {
      "cell_type": "code",
      "source": [
        "#Plotting histogram for Age\n",
        "hist(adultabove80DF$age)"
      ],
      "metadata": {
        "colab": {
          "base_uri": "https://localhost:8080/",
          "height": 437
        },
        "id": "twJk3m2Wz4AL",
        "outputId": "2f88871d-6e82-411f-8b64-75f5de6e692c"
      },
      "execution_count": 98,
      "outputs": [
        {
          "output_type": "display_data",
          "data": {
            "text/plain": [
              "Plot with title “Histogram of adultabove80DF$age”"
            ],
            "image/png": "[encoded data removed]"
          },
          "metadata": {
            "image/png": {
              "width": 420,
              "height": 420
            }
          }
        }
      ]
    },
    {
      "cell_type": "markdown",
      "source": [
        "## From the above histogram we can see the data lies from 80 to 90. age 90 have the highest range around 20 and least ranage of age 87. "
      ],
      "metadata": {
        "id": "4z-MwK_s-gme"
      }
    },
    {
      "cell_type": "markdown",
      "source": [
        "# Summary\n",
        "\n",
        "*  We can observe that there are more men and females in the private sector by looking at the bar plot of the contingency table of 'workclass' and'sex'.\n",
        "*  We can observe that the number of men in the marital status of 'Married-civ-spouse' is larger than the number of females in the marital status of 'Never married' by looking at the bar plot of the contingency table of'sex' and'marital status.'\n",
        "* In education, there are several outliers in the lower bound and none in the upper bound. and the most extreme educational outlier is 1.\n",
        "* From the density plot outlier graph of age we can observe  that there are few outliers in the 80-90 range. The majority of the data falls between the ages of 20 and 60.\n",
        "* age above 80 histogram we can see that the data ranges from 80 to 90. The highest range is roughly 20, while the lowest range is around 80 years old.\n",
        "\n"
      ],
      "metadata": {
        "id": "rbeGJdjpL6RA"
      }
    }
  ]
}